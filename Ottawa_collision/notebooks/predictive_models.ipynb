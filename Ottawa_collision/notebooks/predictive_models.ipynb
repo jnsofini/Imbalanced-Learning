{
 "cells": [
  {
   "cell_type": "markdown",
   "metadata": {},
   "source": [
    "## Imports"
   ]
  },
  {
   "cell_type": "code",
   "execution_count": 1,
   "metadata": {},
   "outputs": [],
   "source": [
    "%load_ext autoreload\n",
    "%autoreload 2\n",
    "\n",
    "# Ignore deprecated warning\n",
    "import warnings\n",
    "warnings.filterwarnings(\"ignore\")\n",
    "\n",
    "# Pandas and numpy for data manipulation\n",
    "%matplotlib inline\n",
    "import pandas as pd\n",
    "import numpy as np\n",
    "\n",
    "# Matplotlib  for data visualization\n",
    "import matplotlib.pyplot as plt\n",
    "import seaborn as sns\n",
    "\n",
    "# Set font scale and style\n",
    "sns.set(font_scale = 1.5)\n",
    "sns.set_style('ticks')\n",
    "sns.set()\n",
    "\n",
    "# Dimensionality reduction\n",
    "from sklearn.decomposition import PCA\n",
    "from sklearn.discriminant_analysis import LinearDiscriminantAnalysis as LDA\n",
    "\n",
    "# Pickle\n",
    "import joblib\n",
    "\n",
    "# Data pre-processing\n",
    "from sklearn_pandas import DataFrameMapper\n",
    "from sklearn.preprocessing import StandardScaler\n",
    "from sklearn.preprocessing import LabelBinarizer\n",
    "\n",
    "# Import under sampling module from imbalanced learn\n",
    "from imblearn.under_sampling import RandomUnderSampler\n",
    "# Import SMOTE from imbalanced learn\n",
    "from imblearn.over_sampling import SMOTE\n",
    "\n",
    "# Machine learning models\n",
    "import xgboost as xgb\n",
    "from xgboost.sklearn import XGBClassifier\n",
    "from sklearn.ensemble import RandomForestClassifier\n",
    "from sklearn.linear_model import LogisticRegression\n",
    "from sklearn.svm import SVC\n",
    "\n",
    "# Grid search and model selection\n",
    "from sklearn.model_selection import GridSearchCV, RandomizedSearchCV\n",
    "from sklearn.model_selection import train_test_split\n",
    "\n",
    "# Model performance metrics\n",
    "from sklearn.model_selection import cross_val_score, cross_val_predict\n",
    "from sklearn.metrics import confusion_matrix, classification_report, accuracy_score, auc,recall_score\n",
    "from sklearn.metrics import roc_curve, roc_auc_score, average_precision_score, precision_recall_curve"
   ]
  },
  {
   "cell_type": "code",
   "execution_count": 2,
   "metadata": {},
   "outputs": [],
   "source": [
    "# run some files containing custom functions\n",
    "%run -i '../scripts/helper_functions.py'"
   ]
  },
  {
   "cell_type": "markdown",
   "metadata": {},
   "source": [
    "## Load Cleaned  Data"
   ]
  },
  {
   "cell_type": "code",
   "execution_count": 3,
   "metadata": {},
   "outputs": [
    {
     "data": {
      "text/html": [
       "<div>\n",
       "<style scoped>\n",
       "    .dataframe tbody tr th:only-of-type {\n",
       "        vertical-align: middle;\n",
       "    }\n",
       "\n",
       "    .dataframe tbody tr th {\n",
       "        vertical-align: top;\n",
       "    }\n",
       "\n",
       "    .dataframe thead th {\n",
       "        text-align: right;\n",
       "    }\n",
       "</style>\n",
       "<table border=\"1\" class=\"dataframe\">\n",
       "  <thead>\n",
       "    <tr style=\"text-align: right;\">\n",
       "      <th></th>\n",
       "      <th>Record</th>\n",
       "      <th>Location</th>\n",
       "      <th>X</th>\n",
       "      <th>Y</th>\n",
       "      <th>Date</th>\n",
       "      <th>Time</th>\n",
       "      <th>Environment</th>\n",
       "      <th>Road_Surface</th>\n",
       "      <th>Traffic_Control</th>\n",
       "      <th>Collision_Location</th>\n",
       "      <th>Light</th>\n",
       "      <th>Collision_Classification</th>\n",
       "      <th>Impact_type</th>\n",
       "      <th>Year</th>\n",
       "      <th>Month</th>\n",
       "      <th>Week_day</th>\n",
       "    </tr>\n",
       "  </thead>\n",
       "  <tbody>\n",
       "    <tr>\n",
       "      <td>0</td>\n",
       "      <td>1</td>\n",
       "      <td>RIDEAU ST @ WALLER ST</td>\n",
       "      <td>368282.69327</td>\n",
       "      <td>5.032275e+06</td>\n",
       "      <td>2014-02-21</td>\n",
       "      <td>06:07:00</td>\n",
       "      <td>02 - Rain</td>\n",
       "      <td>02 - Wet</td>\n",
       "      <td>01 - Traffic signal</td>\n",
       "      <td>03 - At intersection</td>\n",
       "      <td>07 - Dark</td>\n",
       "      <td>01 - Fatal injury</td>\n",
       "      <td>07 - SMV other</td>\n",
       "      <td>2014</td>\n",
       "      <td>February</td>\n",
       "      <td>Friday</td>\n",
       "    </tr>\n",
       "    <tr>\n",
       "      <td>1</td>\n",
       "      <td>2</td>\n",
       "      <td>HINES RD btwn INNOVATION DR &amp; SOLANDT RD</td>\n",
       "      <td>350172.08885</td>\n",
       "      <td>5.022740e+06</td>\n",
       "      <td>2014-08-02</td>\n",
       "      <td>13:55:00</td>\n",
       "      <td>01 - Clear</td>\n",
       "      <td>01 - Dry</td>\n",
       "      <td>10 - No control</td>\n",
       "      <td>04 - At/near private drive</td>\n",
       "      <td>01 - Daylight</td>\n",
       "      <td>01 - Fatal injury</td>\n",
       "      <td>02 - Angle</td>\n",
       "      <td>2014</td>\n",
       "      <td>August</td>\n",
       "      <td>Saturday</td>\n",
       "    </tr>\n",
       "    <tr>\n",
       "      <td>2</td>\n",
       "      <td>4</td>\n",
       "      <td>MONTREAL RD @ BATHGATE DR/BURMA RD</td>\n",
       "      <td>373224.24847</td>\n",
       "      <td>5.034518e+06</td>\n",
       "      <td>2014-07-29</td>\n",
       "      <td>16:31:00</td>\n",
       "      <td>01 - Clear</td>\n",
       "      <td>01 - Dry</td>\n",
       "      <td>01 - Traffic signal</td>\n",
       "      <td>03 - At intersection</td>\n",
       "      <td>01 - Daylight</td>\n",
       "      <td>01 - Fatal injury</td>\n",
       "      <td>05 - Turning movement</td>\n",
       "      <td>2014</td>\n",
       "      <td>July</td>\n",
       "      <td>Tuesday</td>\n",
       "    </tr>\n",
       "    <tr>\n",
       "      <td>3</td>\n",
       "      <td>5</td>\n",
       "      <td>RICHMOND RD btwn FALLOWFIELD RD &amp; RUSHMORE RD</td>\n",
       "      <td>358156.20481</td>\n",
       "      <td>5.012570e+06</td>\n",
       "      <td>2014-08-05</td>\n",
       "      <td>20:05:00</td>\n",
       "      <td>01 - Clear</td>\n",
       "      <td>01 - Dry</td>\n",
       "      <td>10 - No control</td>\n",
       "      <td>01 - Non intersection</td>\n",
       "      <td>05 - Dusk</td>\n",
       "      <td>01 - Fatal injury</td>\n",
       "      <td>07 - SMV other</td>\n",
       "      <td>2014</td>\n",
       "      <td>August</td>\n",
       "      <td>Tuesday</td>\n",
       "    </tr>\n",
       "    <tr>\n",
       "      <td>4</td>\n",
       "      <td>6</td>\n",
       "      <td>PARKDALE AVE btwn RUSKIN ST &amp; INGLEWOOD PL</td>\n",
       "      <td>365558.54334</td>\n",
       "      <td>5.028338e+06</td>\n",
       "      <td>2014-04-19</td>\n",
       "      <td>10:22:00</td>\n",
       "      <td>01 - Clear</td>\n",
       "      <td>01 - Dry</td>\n",
       "      <td>10 - No control</td>\n",
       "      <td>01 - Non intersection</td>\n",
       "      <td>01 - Daylight</td>\n",
       "      <td>01 - Fatal injury</td>\n",
       "      <td>06 - SMV unattended vehicle</td>\n",
       "      <td>2014</td>\n",
       "      <td>April</td>\n",
       "      <td>Saturday</td>\n",
       "    </tr>\n",
       "  </tbody>\n",
       "</table>\n",
       "</div>"
      ],
      "text/plain": [
       "   Record                                       Location             X  \\\n",
       "0       1                          RIDEAU ST @ WALLER ST  368282.69327   \n",
       "1       2       HINES RD btwn INNOVATION DR & SOLANDT RD  350172.08885   \n",
       "2       4             MONTREAL RD @ BATHGATE DR/BURMA RD  373224.24847   \n",
       "3       5  RICHMOND RD btwn FALLOWFIELD RD & RUSHMORE RD  358156.20481   \n",
       "4       6     PARKDALE AVE btwn RUSKIN ST & INGLEWOOD PL  365558.54334   \n",
       "\n",
       "              Y        Date      Time Environment Road_Surface  \\\n",
       "0  5.032275e+06  2014-02-21  06:07:00   02 - Rain     02 - Wet   \n",
       "1  5.022740e+06  2014-08-02  13:55:00  01 - Clear     01 - Dry   \n",
       "2  5.034518e+06  2014-07-29  16:31:00  01 - Clear     01 - Dry   \n",
       "3  5.012570e+06  2014-08-05  20:05:00  01 - Clear     01 - Dry   \n",
       "4  5.028338e+06  2014-04-19  10:22:00  01 - Clear     01 - Dry   \n",
       "\n",
       "       Traffic_Control          Collision_Location          Light  \\\n",
       "0  01 - Traffic signal        03 - At intersection      07 - Dark   \n",
       "1      10 - No control  04 - At/near private drive  01 - Daylight   \n",
       "2  01 - Traffic signal        03 - At intersection  01 - Daylight   \n",
       "3      10 - No control       01 - Non intersection      05 - Dusk   \n",
       "4      10 - No control       01 - Non intersection  01 - Daylight   \n",
       "\n",
       "  Collision_Classification                  Impact_type  Year     Month  \\\n",
       "0        01 - Fatal injury               07 - SMV other  2014  February   \n",
       "1        01 - Fatal injury                   02 - Angle  2014    August   \n",
       "2        01 - Fatal injury        05 - Turning movement  2014      July   \n",
       "3        01 - Fatal injury               07 - SMV other  2014    August   \n",
       "4        01 - Fatal injury  06 - SMV unattended vehicle  2014     April   \n",
       "\n",
       "   Week_day  \n",
       "0    Friday  \n",
       "1  Saturday  \n",
       "2   Tuesday  \n",
       "3   Tuesday  \n",
       "4  Saturday  "
      ]
     },
     "execution_count": 3,
     "metadata": {},
     "output_type": "execute_result"
    }
   ],
   "source": [
    "df = pd.read_csv('../data/cleaned_data_2014_to_2017.csv')\n",
    "df.head()"
   ]
  },
  {
   "cell_type": "code",
   "execution_count": 4,
   "metadata": {},
   "outputs": [
    {
     "data": {
      "text/plain": [
       "(57768, 16)"
      ]
     },
     "execution_count": 4,
     "metadata": {},
     "output_type": "execute_result"
    }
   ],
   "source": [
    "# Data Shape\n",
    "df.shape"
   ]
  },
  {
   "cell_type": "code",
   "execution_count": 5,
   "metadata": {},
   "outputs": [
    {
     "name": "stdout",
     "output_type": "stream",
     "text": [
      "<class 'pandas.core.frame.DataFrame'>\n",
      "RangeIndex: 57768 entries, 0 to 57767\n",
      "Data columns (total 16 columns):\n",
      "Record                      57768 non-null int64\n",
      "Location                    57768 non-null object\n",
      "X                           57768 non-null float64\n",
      "Y                           57768 non-null float64\n",
      "Date                        57768 non-null object\n",
      "Time                        57768 non-null object\n",
      "Environment                 57767 non-null object\n",
      "Road_Surface                57768 non-null object\n",
      "Traffic_Control             57733 non-null object\n",
      "Collision_Location          57762 non-null object\n",
      "Light                       57766 non-null object\n",
      "Collision_Classification    57768 non-null object\n",
      "Impact_type                 57768 non-null object\n",
      "Year                        57768 non-null int64\n",
      "Month                       57768 non-null object\n",
      "Week_day                    57768 non-null object\n",
      "dtypes: float64(2), int64(2), object(12)\n",
      "memory usage: 7.1+ MB\n"
     ]
    }
   ],
   "source": [
    "# Datatypes and missing values\n",
    "df.info()"
   ]
  },
  {
   "cell_type": "markdown",
   "metadata": {},
   "source": [
    "Observation\n",
    "\n",
    "- There are 3 numerical  and 12 categorical attributes in the dataset\n",
    "\n",
    "-  Traffic_Control, Collision_Location, and Light have missing values. We will come back to the missing values later in data preprocessing.\n"
   ]
  },
  {
   "cell_type": "code",
   "execution_count": 6,
   "metadata": {},
   "outputs": [],
   "source": [
    "# Drop speified attributes \n",
    "df = df.drop(['Time', 'Date', 'Record','Location'], axis = 1)"
   ]
  },
  {
   "cell_type": "code",
   "execution_count": 7,
   "metadata": {},
   "outputs": [
    {
     "data": {
      "text/plain": [
       "Index(['X', 'Y', 'Environment', 'Road_Surface', 'Traffic_Control',\n",
       "       'Collision_Location', 'Light', 'Collision_Classification',\n",
       "       'Impact_type', 'Year', 'Month', 'Week_day'],\n",
       "      dtype='object')"
      ]
     },
     "execution_count": 7,
     "metadata": {},
     "output_type": "execute_result"
    }
   ],
   "source": [
    "# Attrinute names\n",
    "df.columns"
   ]
  },
  {
   "cell_type": "markdown",
   "metadata": {},
   "source": [
    "## Class Distribution"
   ]
  },
  {
   "cell_type": "code",
   "execution_count": 8,
   "metadata": {},
   "outputs": [
    {
     "data": {
      "text/plain": [
       "03 - P.D. only           46790\n",
       "02 - Non-fatal injury    10885\n",
       "01 - Fatal injury           93\n",
       "Name: Collision_Classification, dtype: int64"
      ]
     },
     "execution_count": 8,
     "metadata": {},
     "output_type": "execute_result"
    }
   ],
   "source": [
    "df.Collision_Classification.value_counts()"
   ]
  },
  {
   "cell_type": "markdown",
   "metadata": {},
   "source": [
    "The P.D only and the Non-fatal injury classes can be combined to form a general Non-fatal injury class reducing the dataset to a binary class problem. We will do this is during the data preprocessing. For now we will use the three classes in the exploratory data analysis (EDA)"
   ]
  },
  {
   "cell_type": "code",
   "execution_count": 9,
   "metadata": {},
   "outputs": [],
   "source": [
    "df.Collision_Classification = df.Collision_Classification.replace('03 - P.D. only', '02 - Non-fatal injury').\\\n",
    "replace('02 - Non-fatal injury', 'Non-fatal injury')"
   ]
  },
  {
   "cell_type": "code",
   "execution_count": 10,
   "metadata": {},
   "outputs": [],
   "source": [
    "df.Collision_Classification = df.Collision_Classification.replace('01 - Fatal injury', 'Fatal injury')"
   ]
  },
  {
   "cell_type": "code",
   "execution_count": 11,
   "metadata": {},
   "outputs": [
    {
     "data": {
      "text/plain": [
       "Non-fatal injury    57675\n",
       "Fatal injury           93\n",
       "Name: Collision_Classification, dtype: int64"
      ]
     },
     "execution_count": 11,
     "metadata": {},
     "output_type": "execute_result"
    }
   ],
   "source": [
    "df.Collision_Classification.value_counts()"
   ]
  },
  {
   "cell_type": "code",
   "execution_count": 12,
   "metadata": {},
   "outputs": [],
   "source": [
    "#df.groupby(['Collision_Classification', 'Environment'])['Collision_Classification'].aggregate('count').unstack()"
   ]
  },
  {
   "cell_type": "markdown",
   "metadata": {},
   "source": [
    "##  Feature Matrix  and Class Variable"
   ]
  },
  {
   "cell_type": "code",
   "execution_count": 13,
   "metadata": {},
   "outputs": [],
   "source": [
    "X, y = df.drop(['Collision_Classification'], axis = 1), df['Collision_Classification']"
   ]
  },
  {
   "cell_type": "markdown",
   "metadata": {},
   "source": [
    "## Create a Test Set"
   ]
  },
  {
   "cell_type": "code",
   "execution_count": 14,
   "metadata": {},
   "outputs": [],
   "source": [
    "# Create 70% training set and 30% test set using stratify sampling \n",
    "X_train, X_test, y_train, y_test = train_test_split(X, y, test_size = 0.3, random_state= 42, stratify = y)"
   ]
  },
  {
   "cell_type": "code",
   "execution_count": 15,
   "metadata": {},
   "outputs": [
    {
     "name": "stdout",
     "output_type": "stream",
     "text": [
      "Training set class distribution:\n",
      " Non-fatal injury    99.839256\n",
      "Fatal injury         0.160744\n",
      "Name: Collision_Classification, dtype: float64\n",
      "**************************************************\n",
      "Test set class distribution:\n",
      " Non-fatal injury    99.83844\n",
      "Fatal injury         0.16156\n",
      "Name: Collision_Classification, dtype: float64\n"
     ]
    }
   ],
   "source": [
    "print('Training set class distribution:\\n', (y_train.value_counts()/X_train.shape[0])*100)\n",
    "print(\"**************************************************\")\n",
    "print('Test set class distribution:\\n', (y_test.value_counts()/X_test.shape[0])*100)"
   ]
  },
  {
   "cell_type": "code",
   "execution_count": 16,
   "metadata": {},
   "outputs": [
    {
     "name": "stdout",
     "output_type": "stream",
     "text": [
      "Training set size: (40437, 11) (40437,)\n",
      "Test set size: (17331, 11) (17331,)\n"
     ]
    }
   ],
   "source": [
    "print('Training set size:', X_train.shape, y_train.shape)\n",
    "print('Test set size:', X_test.shape, y_test.shape)"
   ]
  },
  {
   "cell_type": "markdown",
   "metadata": {},
   "source": [
    "## Impute Missing Value"
   ]
  },
  {
   "cell_type": "markdown",
   "metadata": {},
   "source": [
    "As we saw above, there are some attributes with missing values. We will now impute the missing values in those attributes for a better performance"
   ]
  },
  {
   "cell_type": "code",
   "execution_count": 17,
   "metadata": {},
   "outputs": [],
   "source": [
    "# Instantiate the imputer class\n",
    "imputer = DataFrameImputer()\n",
    "\n",
    "# Fit transform the training set\n",
    "X_train_imputed = imputer.fit_transform(X_train)\n",
    "\n",
    "# Only transform the test set\n",
    "X_test_imputed = imputer.fit_transform(X_test)"
   ]
  },
  {
   "cell_type": "markdown",
   "metadata": {},
   "source": [
    "It is good to cross-check whether the missing values have been imputed"
   ]
  },
  {
   "cell_type": "code",
   "execution_count": 18,
   "metadata": {},
   "outputs": [
    {
     "name": "stdout",
     "output_type": "stream",
     "text": [
      "X                     0\n",
      "Y                     0\n",
      "Environment           0\n",
      "Road_Surface          0\n",
      "Traffic_Control       0\n",
      "Collision_Location    0\n",
      "Light                 0\n",
      "Impact_type           0\n",
      "Year                  0\n",
      "Month                 0\n",
      "Week_day              0\n",
      "dtype: int64\n",
      "***************************\n",
      "X                     0\n",
      "Y                     0\n",
      "Environment           0\n",
      "Road_Surface          0\n",
      "Traffic_Control       0\n",
      "Collision_Location    0\n",
      "Light                 0\n",
      "Impact_type           0\n",
      "Year                  0\n",
      "Month                 0\n",
      "Week_day              0\n",
      "dtype: int64\n"
     ]
    }
   ],
   "source": [
    "# Cross-check for missing values\n",
    "print(X_train_imputed.isnull().sum())\n",
    "print('***************************')\n",
    "print(X_test_imputed.isnull().sum())"
   ]
  },
  {
   "cell_type": "markdown",
   "metadata": {},
   "source": [
    "##  Feature Scaling and Handling Categorical Attributes"
   ]
  },
  {
   "cell_type": "markdown",
   "metadata": {},
   "source": [
    "As we saw above, most of the attributes are categorical, and they need to be converted to numeric before applying the machine learning algorithms. We also need to scale the numerical attributes for a better performance"
   ]
  },
  {
   "cell_type": "code",
   "execution_count": 19,
   "metadata": {},
   "outputs": [],
   "source": [
    "# Numerical attributes list\n",
    "num_list = list(X.select_dtypes('number'))\n",
    "\n",
    "# Categorical attributes list\n",
    "cat_list = list(X.select_dtypes('O'))\n",
    "\n",
    "# Standardize the numerical attributes\n",
    "num_attribs = [([num], StandardScaler()) for num in num_list]\n",
    "\n",
    "# Binarize the categorical attributes\n",
    "cat_attribs = [([cat], LabelBinarizer()) for cat in cat_list]\n",
    "\n",
    "# Build a pipeline for the data pre-processing\n",
    "mapper =  DataFrameMapper(num_attribs + cat_attribs)\n",
    "\n",
    "# Fit transform the training set\n",
    "X_train_prepared = mapper.fit_transform(X_train_imputed)\n",
    "\n",
    "# Only transform the test set\n",
    "X_test_prepared = mapper.transform(X_test_imputed)"
   ]
  },
  {
   "cell_type": "code",
   "execution_count": 20,
   "metadata": {},
   "outputs": [
    {
     "name": "stdout",
     "output_type": "stream",
     "text": [
      "Training set size after pre-processing: (40437, 78)\n",
      "Test set size after pre-processing: (17331, 78)\n"
     ]
    }
   ],
   "source": [
    "print('Training set size after pre-processing:', X_train_prepared.shape)\n",
    "print('Test set size after pre-processing:', X_test_prepared.shape)"
   ]
  },
  {
   "cell_type": "markdown",
   "metadata": {},
   "source": [
    "## Dimensionality Reduction"
   ]
  },
  {
   "cell_type": "code",
   "execution_count": 21,
   "metadata": {},
   "outputs": [],
   "source": [
    "# PCA with unscaled training data\n",
    "pca = PCA(n_components = 2)\n",
    "X_train_reduced_pca = pca.fit_transform(X_train_prepared)"
   ]
  },
  {
   "cell_type": "code",
   "execution_count": 22,
   "metadata": {},
   "outputs": [
    {
     "data": {
      "text/html": [
       "<div>\n",
       "<style scoped>\n",
       "    .dataframe tbody tr th:only-of-type {\n",
       "        vertical-align: middle;\n",
       "    }\n",
       "\n",
       "    .dataframe tbody tr th {\n",
       "        vertical-align: top;\n",
       "    }\n",
       "\n",
       "    .dataframe thead th {\n",
       "        text-align: right;\n",
       "    }\n",
       "</style>\n",
       "<table border=\"1\" class=\"dataframe\">\n",
       "  <thead>\n",
       "    <tr style=\"text-align: right;\">\n",
       "      <th></th>\n",
       "      <th>PC1</th>\n",
       "      <th>PC2</th>\n",
       "      <th>Class</th>\n",
       "    </tr>\n",
       "  </thead>\n",
       "  <tbody>\n",
       "    <tr>\n",
       "      <td>0</td>\n",
       "      <td>-0.805622</td>\n",
       "      <td>-0.327168</td>\n",
       "      <td>Non-fatal injury</td>\n",
       "    </tr>\n",
       "    <tr>\n",
       "      <td>1</td>\n",
       "      <td>-1.729044</td>\n",
       "      <td>0.376455</td>\n",
       "      <td>Non-fatal injury</td>\n",
       "    </tr>\n",
       "    <tr>\n",
       "      <td>2</td>\n",
       "      <td>1.470190</td>\n",
       "      <td>-0.349696</td>\n",
       "      <td>Non-fatal injury</td>\n",
       "    </tr>\n",
       "    <tr>\n",
       "      <td>3</td>\n",
       "      <td>-1.008005</td>\n",
       "      <td>1.332137</td>\n",
       "      <td>Non-fatal injury</td>\n",
       "    </tr>\n",
       "    <tr>\n",
       "      <td>4</td>\n",
       "      <td>-0.658819</td>\n",
       "      <td>-1.287360</td>\n",
       "      <td>Non-fatal injury</td>\n",
       "    </tr>\n",
       "  </tbody>\n",
       "</table>\n",
       "</div>"
      ],
      "text/plain": [
       "        PC1       PC2             Class\n",
       "0 -0.805622 -0.327168  Non-fatal injury\n",
       "1 -1.729044  0.376455  Non-fatal injury\n",
       "2  1.470190 -0.349696  Non-fatal injury\n",
       "3 -1.008005  1.332137  Non-fatal injury\n",
       "4 -0.658819 -1.287360  Non-fatal injury"
      ]
     },
     "execution_count": 22,
     "metadata": {},
     "output_type": "execute_result"
    }
   ],
   "source": [
    "# Put in dataframe\n",
    "X_train_reduced_pca = pd.DataFrame(data = X_train_reduced_pca)\n",
    "X_train_reduced_pca.columns = ['PC1', 'PC2']\n",
    "X_train_reduced_pca['Class'] = y_train.reset_index(drop = True)\n",
    "X_train_reduced_pca.head()"
   ]
  },
  {
   "cell_type": "code",
   "execution_count": 40,
   "metadata": {},
   "outputs": [],
   "source": [
    "# Pickle pca dataframe\n",
    "X_train_reduced_pca.to_pickle('../data/pca.pkl') "
   ]
  },
  {
   "cell_type": "code",
   "execution_count": 41,
   "metadata": {},
   "outputs": [
    {
     "data": {
      "image/png": "[encoded data removed]",
      "text/plain": [
       "<Figure size 818.9x432 with 1 Axes>"
      ]
     },
     "metadata": {},
     "output_type": "display_data"
    }
   ],
   "source": [
    "sns.set(font_scale = 1.5)\n",
    "sns.set_style('ticks')\n",
    "\n",
    "# Load file\n",
    "X_train_reduced_pca = pd.read_pickle('../data/pca.pkl') \n",
    "# Plot\n",
    "sns.lmplot(data = X_train_reduced_pca, x = 'PC1', y = 'PC2', hue = 'Class', \n",
    "           fit_reg = False, height= 6, aspect=1.5, palette = 'gnuplot2_r')\n",
    "plt.title('PCA dimensionality reduction', fontsize = 20)\n",
    "plt.savefig('../image/pca.png')"
   ]
  },
  {
   "cell_type": "markdown",
   "metadata": {},
   "source": [
    "##  Encode the Class Variable"
   ]
  },
  {
   "cell_type": "code",
   "execution_count": 23,
   "metadata": {},
   "outputs": [],
   "source": [
    "# Dictionary mapping\n",
    "map_target = {'Fatal injury': 1, 'Non-fatal injury': 0}\n",
    "\n",
    "# Map to discrete numbers\n",
    "y_train_label = y_train.map(map_target)\n",
    "y_test_label = y_test.map(map_target)"
   ]
  },
  {
   "cell_type": "markdown",
   "metadata": {},
   "source": [
    "## Model Selection by Cross-Validation"
   ]
  },
  {
   "cell_type": "markdown",
   "metadata": {},
   "source": [
    "The results below show that \n",
    "\n",
    "-  The overrall accuracy is not good metrics for the imbalanced dataset as they are biased towards the majority class.\n",
    "\n",
    "- All the models predicted only the majority class and the recall and precision of the minority (positive) class are all zero"
   ]
  },
  {
   "cell_type": "markdown",
   "metadata": {},
   "source": [
    "## 1. Logistic Regression"
   ]
  },
  {
   "cell_type": "code",
   "execution_count": 29,
   "metadata": {},
   "outputs": [
    {
     "name": "stdout",
     "output_type": "stream",
     "text": [
      "****************************************************************************\n",
      "Cross-validation accuracy (std): 0.998393 (0.000000)\n",
      "AUROC: 0.817091\n",
      "AUPRC: 0.007738\n",
      "Predicted classes: [0]\n",
      "Confusion matrix:\n",
      " [[40372     0]\n",
      " [   65     0]]\n",
      "Classification report:\n",
      "               precision    recall  f1-score   support\n",
      "\n",
      "           0       1.00      1.00      1.00     40372\n",
      "           1       0.00      0.00      0.00        65\n",
      "\n",
      "    accuracy                           1.00     40437\n",
      "   macro avg       0.50      0.50      0.50     40437\n",
      "weighted avg       1.00      1.00      1.00     40437\n",
      "\n",
      "****************************************************************************\n"
     ]
    }
   ],
   "source": [
    "log_clf = LogisticRegression()\n",
    "model_selection_cv(log_clf, X_train_prepared, y_train_label, cv_fold = 5, scoring = 'accuracy')"
   ]
  },
  {
   "cell_type": "markdown",
   "metadata": {},
   "source": [
    "## 2. Random Forest"
   ]
  },
  {
   "cell_type": "code",
   "execution_count": 25,
   "metadata": {},
   "outputs": [
    {
     "name": "stdout",
     "output_type": "stream",
     "text": [
      "****************************************************************************\n",
      "Cross-validation accuracy (std): 0.998393 (0.000000)\n",
      "AUROC: 0.509337\n",
      "AUPRC: 0.001684\n",
      "Predicted classes: [0]\n",
      "Confusion matrix:\n",
      " [[40372     0]\n",
      " [   65     0]]\n",
      "Classification report:\n",
      "               precision    recall  f1-score   support\n",
      "\n",
      "           0       1.00      1.00      1.00     40372\n",
      "           1       0.00      0.00      0.00        65\n",
      "\n",
      "    accuracy                           1.00     40437\n",
      "   macro avg       0.50      0.50      0.50     40437\n",
      "weighted avg       1.00      1.00      1.00     40437\n",
      "\n",
      "****************************************************************************\n"
     ]
    }
   ],
   "source": [
    "rf_clf = RandomForestClassifier(random_state = 42)\n",
    "model_selection_cv(rf_clf, X_train_prepared, y_train_label, cv_fold = 5, scoring = 'accuracy')"
   ]
  },
  {
   "cell_type": "markdown",
   "metadata": {},
   "source": [
    "## 3. XGBoost"
   ]
  },
  {
   "cell_type": "code",
   "execution_count": 26,
   "metadata": {},
   "outputs": [
    {
     "name": "stdout",
     "output_type": "stream",
     "text": [
      "****************************************************************************\n",
      "Cross-validation accuracy (std): 0.998393 (0.000000)\n",
      "AUROC: 0.794233\n",
      "AUPRC: 0.012387\n",
      "Predicted classes: [0]\n",
      "Confusion matrix:\n",
      " [[40372     0]\n",
      " [   65     0]]\n",
      "Classification report:\n",
      "               precision    recall  f1-score   support\n",
      "\n",
      "           0       1.00      1.00      1.00     40372\n",
      "           1       0.00      0.00      0.00        65\n",
      "\n",
      "    accuracy                           1.00     40437\n",
      "   macro avg       0.50      0.50      0.50     40437\n",
      "weighted avg       1.00      1.00      1.00     40437\n",
      "\n",
      "****************************************************************************\n"
     ]
    }
   ],
   "source": [
    "xgb_clf = xgb.XGBClassifier()\n",
    "model_selection_cv(xgb_clf, X_train_prepared, y_train_label, cv_fold = 5, scoring = 'accuracy')"
   ]
  },
  {
   "cell_type": "markdown",
   "metadata": {},
   "source": [
    "## Cost Sensitive Method and  Hyperparameter Tuning \n",
    "\n",
    "We will optimize the **Recall** by tuning  the hyperparameters of all the models"
   ]
  },
  {
   "cell_type": "code",
   "execution_count": 27,
   "metadata": {},
   "outputs": [
    {
     "data": {
      "text/plain": [
       "621.1076923076923"
      ]
     },
     "execution_count": 27,
     "metadata": {},
     "output_type": "execute_result"
    }
   ],
   "source": [
    " # Cost ratio of the negative class to the positive  class\n",
    "neg = y_train_label == 0\n",
    "pos = y_train_label == 1\n",
    "cost_ratio = np.sum(neg)/np.sum(pos)\n",
    "cost_ratio"
   ]
  },
  {
   "cell_type": "markdown",
   "metadata": {},
   "source": [
    "## 1 . Logistic Regression"
   ]
  },
  {
   "cell_type": "code",
   "execution_count": 30,
   "metadata": {},
   "outputs": [
    {
     "name": "stdout",
     "output_type": "stream",
     "text": [
      "Fitting 5 folds for each of 15 candidates, totalling 75 fits\n"
     ]
    },
    {
     "name": "stderr",
     "output_type": "stream",
     "text": [
      "[Parallel(n_jobs=-1)]: Using backend LokyBackend with 4 concurrent workers.\n",
      "[Parallel(n_jobs=-1)]: Done  42 tasks      | elapsed:   39.0s\n",
      "[Parallel(n_jobs=-1)]: Done  75 out of  75 | elapsed:  1.2min finished\n"
     ]
    },
    {
     "name": "stdout",
     "output_type": "stream",
     "text": [
      "Grid search best score: 0.6000045655064574\n",
      "Grid search best parameters: {'C': 0.125, 'class_weight': 'balanced'}\n"
     ]
    }
   ],
   "source": [
    "# Range of hyperparameters\n",
    "param_grid = {'C': [2**x for x in range(-3,7,2)], \n",
    "             'class_weight': ['balanced', {0:1, 1:2}, {0:1, 1:3}]}\n",
    "                             \n",
    "# Grid search\n",
    "gsearch_log = GridSearchCV(log_clf, param_grid, cv = 5,\n",
    "                           scoring = 'recall',verbose =1, n_jobs = -1)\n",
    "                                \n",
    "# Fit the  training set\n",
    "gsearch_log.fit(X_train_prepared, y_train_label)\n",
    "\n",
    "print('Grid search best score:', gsearch_log.best_score_)\n",
    "print('Grid search best parameters:', gsearch_log.best_params_)    "
   ]
  },
  {
   "cell_type": "markdown",
   "metadata": {},
   "source": [
    "## 2. Random Forest"
   ]
  },
  {
   "cell_type": "code",
   "execution_count": 35,
   "metadata": {},
   "outputs": [
    {
     "name": "stdout",
     "output_type": "stream",
     "text": [
      "Fitting 5 folds for each of 10 candidates, totalling 50 fits\n"
     ]
    },
    {
     "name": "stderr",
     "output_type": "stream",
     "text": [
      "[Parallel(n_jobs=-1)]: Using backend LokyBackend with 4 concurrent workers.\n",
      "[Parallel(n_jobs=-1)]: Done  42 tasks      | elapsed:  4.7min\n",
      "[Parallel(n_jobs=-1)]: Done  50 out of  50 | elapsed:  5.1min finished\n"
     ]
    },
    {
     "name": "stdout",
     "output_type": "stream",
     "text": [
      "Best Recall Score: 0.0\n",
      "Best hyperparameters: {'min_samples_leaf': 1, 'max_features': 0.5, 'class_weight': {0: 1, 1: 621.1076923076923}}\n"
     ]
    }
   ],
   "source": [
    "# Range of hyperparameters\n",
    "params = {'max_features': [1, 0.5, 'sqrt', 'log2'],\n",
    "          'min_samples_leaf':[1,5,10,30], \n",
    "         'class_weight': ['balanced', 'balanced_subsample',{0:1, 1:3},{0:1, 1:cost_ratio}]}\n",
    "               \n",
    "# Randomized Search\n",
    "rf_clf = RandomForestClassifier(n_estimators = 200, random_state = 42)\n",
    "rsearch_rf = RandomizedSearchCV(estimator = rf_clf, param_distributions = params,scoring = 'recall',\n",
    "                                cv = 5,n_jobs = -1, random_state = 42, verbose = 1)\n",
    "                                \n",
    "# Fit the  training set                                                                                          \n",
    "rsearch_rf.fit(X_train_prepared, y_train_label)\n",
    "\n",
    "# Print score\n",
    "print('Best Recall Score:', rsearch_rf.best_score_) \n",
    "print('Best hyperparameters:', rsearch_rf.best_params_) "
   ]
  },
  {
   "cell_type": "markdown",
   "metadata": {},
   "source": [
    "## 3. XGBoost"
   ]
  },
  {
   "cell_type": "code",
   "execution_count": 38,
   "metadata": {},
   "outputs": [
    {
     "name": "stdout",
     "output_type": "stream",
     "text": [
      "Fitting 5 folds for each of 10 candidates, totalling 50 fits\n"
     ]
    },
    {
     "name": "stderr",
     "output_type": "stream",
     "text": [
      "[Parallel(n_jobs=-1)]: Using backend LokyBackend with 4 concurrent workers.\n",
      "[Parallel(n_jobs=-1)]: Done  42 tasks      | elapsed: 22.9min\n",
      "[Parallel(n_jobs=-1)]: Done  50 out of  50 | elapsed: 25.1min finished\n"
     ]
    },
    {
     "name": "stdout",
     "output_type": "stream",
     "text": [
      "Best Recall Score: 0.06153922245620443\n",
      "Best hyperparameters: {'subsample': 0.6, 'min_child_weight': 5, 'max_depth': 3, 'colsample_bytree': 0.5}\n"
     ]
    }
   ],
   "source": [
    "# Range of hyperparameters\n",
    "params = {'max_depth': range(3,10,2), 'min_child_weight': range(1,6,2),\n",
    "         'subsample':[i/10 for i in range(5,9)],'colsample_bytree': [i/10 for i in range(5,9)]}\n",
    "\n",
    "# Randomized Search\n",
    "xgb_clf =  xgb.XGBClassifier(n_estimators = 500, objective = 'binary:logistic', \n",
    "                             scale_pos_weight = cost_ratio, learning_rate = 0.1) \n",
    "rsearch_xgb = RandomizedSearchCV(estimator = xgb_clf, param_distributions = params, \n",
    "                                  scoring = 'recall', cv = 5, n_jobs = -1, \n",
    "                                  random_state = 42, verbose = 1)  \n",
    "# Fit the  training set                                                         \n",
    "rsearch_xgb.fit(X_train_prepared, y_train_label)\n",
    "\n",
    "# Print score\n",
    "print('Best Recall Score:', rsearch_xgb.best_score_) \n",
    "print('Best hyperparameters:', rsearch_xgb.best_params_) "
   ]
  },
  {
   "cell_type": "markdown",
   "metadata": {},
   "source": [
    "# Prediction on the Test Set\n",
    "Let's make prediction on the test set using the best estimators from the randomized search"
   ]
  },
  {
   "cell_type": "markdown",
   "metadata": {},
   "source": [
    "## 1. Logistic Regression"
   ]
  },
  {
   "cell_type": "code",
   "execution_count": 42,
   "metadata": {},
   "outputs": [
    {
     "name": "stdout",
     "output_type": "stream",
     "text": [
      "****************************************************************************\n",
      "Test accuracy:  0.803589\n",
      "AUROC: 0.755804\n",
      "AUPRC: 0.006872\n",
      "Predicted classes: [0 1]\n",
      "Confusion matrix:\n",
      " [[13913  3390]\n",
      " [   14    14]]\n",
      "Classification report:\n",
      "               precision    recall  f1-score   support\n",
      "\n",
      "           0       1.00      0.80      0.89     17303\n",
      "           1       0.00      0.50      0.01        28\n",
      "\n",
      "    accuracy                           0.80     17331\n",
      "   macro avg       0.50      0.65      0.45     17331\n",
      "weighted avg       1.00      0.80      0.89     17331\n",
      "\n",
      "****************************************************************************\n"
     ]
    }
   ],
   "source": [
    "best_lr = gsearch_log.best_estimator_\n",
    "Test_Prediction(best_lr, X_train_prepared, y_train_label, X_test_prepared, y_test_label)"
   ]
  },
  {
   "cell_type": "markdown",
   "metadata": {},
   "source": [
    "## 2. Random Forest"
   ]
  },
  {
   "cell_type": "code",
   "execution_count": 43,
   "metadata": {},
   "outputs": [
    {
     "name": "stdout",
     "output_type": "stream",
     "text": [
      "****************************************************************************\n",
      "Test accuracy:  0.998384\n",
      "AUROC: 0.608529\n",
      "AUPRC: 0.005424\n",
      "Predicted classes: [0]\n",
      "Confusion matrix:\n",
      " [[17303     0]\n",
      " [   28     0]]\n",
      "Classification report:\n",
      "               precision    recall  f1-score   support\n",
      "\n",
      "           0       1.00      1.00      1.00     17303\n",
      "           1       0.00      0.00      0.00        28\n",
      "\n",
      "    accuracy                           1.00     17331\n",
      "   macro avg       0.50      0.50      0.50     17331\n",
      "weighted avg       1.00      1.00      1.00     17331\n",
      "\n",
      "****************************************************************************\n"
     ]
    }
   ],
   "source": [
    "best_rf = rsearch_rf.best_estimator_\n",
    "Test_Prediction(best_rf, X_train_prepared, y_train_label, X_test_prepared, y_test_label)"
   ]
  },
  {
   "cell_type": "markdown",
   "metadata": {},
   "source": [
    "## 3. XGBoost"
   ]
  },
  {
   "cell_type": "code",
   "execution_count": 44,
   "metadata": {},
   "outputs": [
    {
     "name": "stdout",
     "output_type": "stream",
     "text": [
      "****************************************************************************\n",
      "Test accuracy:  0.983325\n",
      "AUROC: 0.692240\n",
      "AUPRC: 0.006902\n",
      "Predicted classes: [0 1]\n",
      "Confusion matrix:\n",
      " [[17038   265]\n",
      " [   24     4]]\n",
      "Classification report:\n",
      "               precision    recall  f1-score   support\n",
      "\n",
      "           0       1.00      0.98      0.99     17303\n",
      "           1       0.01      0.14      0.03        28\n",
      "\n",
      "    accuracy                           0.98     17331\n",
      "   macro avg       0.51      0.56      0.51     17331\n",
      "weighted avg       1.00      0.98      0.99     17331\n",
      "\n",
      "****************************************************************************\n"
     ]
    }
   ],
   "source": [
    "best_xgb = rsearch_xgb.best_estimator_\n",
    "Test_Prediction(best_xgb, X_train_prepared, y_train_label, X_test_prepared, y_test_label)"
   ]
  },
  {
   "cell_type": "markdown",
   "metadata": {},
   "source": [
    "# ROC  and PR Curves on the  Test set"
   ]
  },
  {
   "cell_type": "code",
   "execution_count": 46,
   "metadata": {},
   "outputs": [
    {
     "data": {
      "image/png": "[encoded data removed]",
      "text/plain": [
       "<Figure size 1440x576 with 2 Axes>"
      ]
     },
     "metadata": {},
     "output_type": "display_data"
    }
   ],
   "source": [
    "# Set figure and font sizes\n",
    "fig = plt.figure(figsize = (20,8))\n",
    "plt.rcParams.update({'font.size':20})\n",
    "sns.set(font_scale = 1.5)\n",
    "sns.set_style('ticks')\n",
    "\n",
    "# Plot ROC and PR Curves for LR\n",
    "Plot_ROC_Curve_and_PRC(best_lr, X_train_prepared, y_train_label, X_test_prepared, y_test_label,\n",
    "                     color= 'r', label = 'LR (AUC= %0.2f)')\n",
    "\n",
    "# Plot ROC and PR Curves for RF\n",
    "Plot_ROC_Curve_and_PRC(best_rf, X_train_prepared, y_train_label, X_test_prepared, y_test_label,\n",
    "                        color= 'b', label = 'RF (AUC= %0.2f)')\n",
    "\n",
    "# Plot ROC and PR Curves for XGB\n",
    "Plot_ROC_Curve_and_PRC(best_xgb, X_train_prepared, y_train_label, X_test_prepared, y_test_label,\n",
    "                        color= 'g', label = 'XGB (AUC= %0.2f)')"
   ]
  },
  {
   "cell_type": "code",
   "execution_count": null,
   "metadata": {},
   "outputs": [],
   "source": []
  }
 ],
 "metadata": {
  "kernelspec": {
   "display_name": "Python 3",
   "language": "python",
   "name": "python3"
  }
 },
 "nbformat": 4,
 "nbformat_minor": 2
}
