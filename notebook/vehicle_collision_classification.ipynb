{
 "cells": [
  {
   "cell_type": "markdown",
   "metadata": {},
   "source": [
    "#  Classification Models"
   ]
  },
  {
   "cell_type": "markdown",
   "metadata": {},
   "source": [
    "##  Imports"
   ]
  },
  {
   "cell_type": "code",
   "execution_count": 1,
   "metadata": {},
   "outputs": [],
   "source": [
    "%load_ext autoreload\n",
    "%autoreload 2\n",
    "\n",
    "%matplotlib inline\n",
    "# Ignore deprecated warning\n",
    "import warnings\n",
    "warnings.filterwarnings(\"ignore\")\n",
    "\n",
    "# Pandas and numpy for data manipulation\n",
    "import pandas as pd\n",
    "import numpy as np\n",
    "\n",
    "# Matplotlib  for data visualization\n",
    "import matplotlib.pyplot as plt\n",
    "import seaborn as sns\n",
    "\n",
    "# Set font scale and style\n",
    "sns.set(font_scale = 1.5)\n",
    "sns.set_style('ticks')\n",
    "sns.set()\n",
    "\n",
    "# Dimensionality reduction\n",
    "from sklearn.decomposition import PCA\n",
    "\n",
    "# Model selection\n",
    "from sklearn.model_selection import train_test_split\n",
    "\n",
    "# Data pre-processing\n",
    "from sklearn_pandas import DataFrameMapper\n",
    "from sklearn.preprocessing import StandardScaler\n",
    "from sklearn.preprocessing import LabelBinarizer\n",
    "\n",
    "# Machine learning models\n",
    "import xgboost as xgb\n",
    "from xgboost.sklearn import XGBClassifier\n",
    "from sklearn.ensemble import RandomForestClassifier\n",
    "from sklearn.linear_model import LogisticRegression\n",
    "from sklearn.svm import SVC\n",
    "\n",
    "\n",
    "# Model performance metrics\n",
    "from sklearn.model_selection import cross_val_score, cross_val_predict\n",
    "from sklearn.metrics import confusion_matrix, classification_report, accuracy_score, auc,recall_score\n",
    "from sklearn.metrics import roc_curve, roc_auc_score, average_precision_score, precision_recall_curve"
   ]
  },
  {
   "cell_type": "code",
   "execution_count": 2,
   "metadata": {},
   "outputs": [],
   "source": [
    "# run some files containing custom functions\n",
    "%run -i '../scripts/helper_functions.py'"
   ]
  },
  {
   "cell_type": "code",
   "execution_count": 3,
   "metadata": {},
   "outputs": [
    {
     "name": "stdout",
     "output_type": "stream",
     "text": [
      "CPU times: user 7 µs, sys: 3 µs, total: 10 µs\n",
      "Wall time: 17.2 µs\n"
     ]
    }
   ],
   "source": [
    "#  Load cleaned data\n",
    "df = pd.read_csv('../raw_data/clean_data.csv')\n",
    "%time"
   ]
  },
  {
   "cell_type": "code",
   "execution_count": 4,
   "metadata": {},
   "outputs": [
    {
     "data": {
      "text/html": [
       "<div>\n",
       "<style scoped>\n",
       "    .dataframe tbody tr th:only-of-type {\n",
       "        vertical-align: middle;\n",
       "    }\n",
       "\n",
       "    .dataframe tbody tr th {\n",
       "        vertical-align: top;\n",
       "    }\n",
       "\n",
       "    .dataframe thead th {\n",
       "        text-align: right;\n",
       "    }\n",
       "</style>\n",
       "<table border=\"1\" class=\"dataframe\">\n",
       "  <thead>\n",
       "    <tr style=\"text-align: right;\">\n",
       "      <th></th>\n",
       "      <th>C_YEAR</th>\n",
       "      <th>C_MNTH</th>\n",
       "      <th>C_WDAY</th>\n",
       "      <th>C_HOUR</th>\n",
       "      <th>FATAL</th>\n",
       "      <th>C_VEHS</th>\n",
       "      <th>C_CONF</th>\n",
       "      <th>C_RCFG</th>\n",
       "      <th>C_WTHR</th>\n",
       "      <th>C_RSUR</th>\n",
       "      <th>...</th>\n",
       "      <th>V_TYPE</th>\n",
       "      <th>V_YEAR</th>\n",
       "      <th>P_ID</th>\n",
       "      <th>P_SEX</th>\n",
       "      <th>P_AGE</th>\n",
       "      <th>P_PSN</th>\n",
       "      <th>P_ISEV</th>\n",
       "      <th>P_SAFE</th>\n",
       "      <th>P_USER</th>\n",
       "      <th>C_CASE</th>\n",
       "    </tr>\n",
       "  </thead>\n",
       "  <tbody>\n",
       "    <tr>\n",
       "      <td>0</td>\n",
       "      <td>1999</td>\n",
       "      <td>January</td>\n",
       "      <td>Monday</td>\n",
       "      <td>9.0</td>\n",
       "      <td>0</td>\n",
       "      <td>2.0</td>\n",
       "      <td>Right turn</td>\n",
       "      <td>At an intersection</td>\n",
       "      <td>Clear and sunny</td>\n",
       "      <td>Dry, normal</td>\n",
       "      <td>...</td>\n",
       "      <td>Light Duty Vehicle</td>\n",
       "      <td>1992.0</td>\n",
       "      <td>1.0</td>\n",
       "      <td>F</td>\n",
       "      <td>33.0</td>\n",
       "      <td>Driver</td>\n",
       "      <td>Injury</td>\n",
       "      <td>Safety device used</td>\n",
       "      <td>Motor Vehicle Driver</td>\n",
       "      <td>2890</td>\n",
       "    </tr>\n",
       "    <tr>\n",
       "      <td>1</td>\n",
       "      <td>1999</td>\n",
       "      <td>January</td>\n",
       "      <td>Monday</td>\n",
       "      <td>9.0</td>\n",
       "      <td>0</td>\n",
       "      <td>2.0</td>\n",
       "      <td>Right turn</td>\n",
       "      <td>At an intersection</td>\n",
       "      <td>Clear and sunny</td>\n",
       "      <td>Dry, normal</td>\n",
       "      <td>...</td>\n",
       "      <td>Light Duty Vehicle</td>\n",
       "      <td>1992.0</td>\n",
       "      <td>1.0</td>\n",
       "      <td>F</td>\n",
       "      <td>70.0</td>\n",
       "      <td>Driver</td>\n",
       "      <td>No Injury</td>\n",
       "      <td>Safety device used</td>\n",
       "      <td>Motor Vehicle Driver</td>\n",
       "      <td>2890</td>\n",
       "    </tr>\n",
       "    <tr>\n",
       "      <td>2</td>\n",
       "      <td>1999</td>\n",
       "      <td>January</td>\n",
       "      <td>Monday</td>\n",
       "      <td>20.0</td>\n",
       "      <td>0</td>\n",
       "      <td>1.0</td>\n",
       "      <td>Ran off left shoulder</td>\n",
       "      <td>Intersection with parking lot entrance</td>\n",
       "      <td>Clear and sunny</td>\n",
       "      <td>Dry, normal</td>\n",
       "      <td>...</td>\n",
       "      <td>Light Duty Vehicle</td>\n",
       "      <td>1988.0</td>\n",
       "      <td>1.0</td>\n",
       "      <td>F</td>\n",
       "      <td>38.0</td>\n",
       "      <td>Driver</td>\n",
       "      <td>Injury</td>\n",
       "      <td>Safety device used</td>\n",
       "      <td>Motor Vehicle Driver</td>\n",
       "      <td>4332</td>\n",
       "    </tr>\n",
       "    <tr>\n",
       "      <td>3</td>\n",
       "      <td>1999</td>\n",
       "      <td>January</td>\n",
       "      <td>Monday</td>\n",
       "      <td>5.0</td>\n",
       "      <td>0</td>\n",
       "      <td>2.0</td>\n",
       "      <td>Hit a moving object</td>\n",
       "      <td>At an intersection</td>\n",
       "      <td>Raining</td>\n",
       "      <td>Wet</td>\n",
       "      <td>...</td>\n",
       "      <td>Other trucks and vans</td>\n",
       "      <td>1995.0</td>\n",
       "      <td>1.0</td>\n",
       "      <td>M</td>\n",
       "      <td>34.0</td>\n",
       "      <td>Driver</td>\n",
       "      <td>No Injury</td>\n",
       "      <td>Safety device used</td>\n",
       "      <td>Motor Vehicle Driver</td>\n",
       "      <td>5053</td>\n",
       "    </tr>\n",
       "    <tr>\n",
       "      <td>4</td>\n",
       "      <td>1999</td>\n",
       "      <td>January</td>\n",
       "      <td>Monday</td>\n",
       "      <td>5.0</td>\n",
       "      <td>0</td>\n",
       "      <td>2.0</td>\n",
       "      <td>Hit a moving object</td>\n",
       "      <td>At an intersection</td>\n",
       "      <td>Raining</td>\n",
       "      <td>Wet</td>\n",
       "      <td>...</td>\n",
       "      <td>Other trucks and vans</td>\n",
       "      <td>1995.0</td>\n",
       "      <td>2.0</td>\n",
       "      <td>M</td>\n",
       "      <td>30.0</td>\n",
       "      <td>Front row, right outboard</td>\n",
       "      <td>No Injury</td>\n",
       "      <td>Safety device used</td>\n",
       "      <td>Motor Vehicle Passenger</td>\n",
       "      <td>5053</td>\n",
       "    </tr>\n",
       "  </tbody>\n",
       "</table>\n",
       "<p>5 rows × 23 columns</p>\n",
       "</div>"
      ],
      "text/plain": [
       "   C_YEAR   C_MNTH  C_WDAY  C_HOUR  FATAL  C_VEHS                 C_CONF  \\\n",
       "0    1999  January  Monday     9.0      0     2.0             Right turn   \n",
       "1    1999  January  Monday     9.0      0     2.0             Right turn   \n",
       "2    1999  January  Monday    20.0      0     1.0  Ran off left shoulder   \n",
       "3    1999  January  Monday     5.0      0     2.0    Hit a moving object   \n",
       "4    1999  January  Monday     5.0      0     2.0    Hit a moving object   \n",
       "\n",
       "                                   C_RCFG           C_WTHR       C_RSUR  ...  \\\n",
       "0                      At an intersection  Clear and sunny  Dry, normal  ...   \n",
       "1                      At an intersection  Clear and sunny  Dry, normal  ...   \n",
       "2  Intersection with parking lot entrance  Clear and sunny  Dry, normal  ...   \n",
       "3                      At an intersection          Raining          Wet  ...   \n",
       "4                      At an intersection          Raining          Wet  ...   \n",
       "\n",
       "                  V_TYPE  V_YEAR  P_ID P_SEX  P_AGE  \\\n",
       "0     Light Duty Vehicle  1992.0   1.0     F   33.0   \n",
       "1     Light Duty Vehicle  1992.0   1.0     F   70.0   \n",
       "2     Light Duty Vehicle  1988.0   1.0     F   38.0   \n",
       "3  Other trucks and vans  1995.0   1.0     M   34.0   \n",
       "4  Other trucks and vans  1995.0   2.0     M   30.0   \n",
       "\n",
       "                       P_PSN     P_ISEV              P_SAFE  \\\n",
       "0                     Driver     Injury  Safety device used   \n",
       "1                     Driver  No Injury  Safety device used   \n",
       "2                     Driver     Injury  Safety device used   \n",
       "3                     Driver  No Injury  Safety device used   \n",
       "4  Front row, right outboard  No Injury  Safety device used   \n",
       "\n",
       "                    P_USER C_CASE  \n",
       "0     Motor Vehicle Driver   2890  \n",
       "1     Motor Vehicle Driver   2890  \n",
       "2     Motor Vehicle Driver   4332  \n",
       "3     Motor Vehicle Driver   5053  \n",
       "4  Motor Vehicle Passenger   5053  \n",
       "\n",
       "[5 rows x 23 columns]"
      ]
     },
     "execution_count": 4,
     "metadata": {},
     "output_type": "execute_result"
    }
   ],
   "source": [
    "df.head()"
   ]
  },
  {
   "cell_type": "code",
   "execution_count": 5,
   "metadata": {},
   "outputs": [
    {
     "data": {
      "text/plain": [
       "Index(['C_YEAR', 'C_MNTH', 'C_WDAY', 'C_HOUR', 'FATAL', 'C_VEHS', 'C_CONF',\n",
       "       'C_RCFG', 'C_WTHR', 'C_RSUR', 'C_RALN', 'C_TRAF', 'V_ID', 'V_TYPE',\n",
       "       'V_YEAR', 'P_ID', 'P_SEX', 'P_AGE', 'P_PSN', 'P_ISEV', 'P_SAFE',\n",
       "       'P_USER', 'C_CASE'],\n",
       "      dtype='object')"
      ]
     },
     "execution_count": 5,
     "metadata": {},
     "output_type": "execute_result"
    }
   ],
   "source": [
    "df.columns"
   ]
  },
  {
   "cell_type": "code",
   "execution_count": 6,
   "metadata": {
    "scrolled": true
   },
   "outputs": [
    {
     "data": {
      "text/plain": [
       "(3817613, 23)"
      ]
     },
     "execution_count": 6,
     "metadata": {},
     "output_type": "execute_result"
    }
   ],
   "source": [
    "df.shape"
   ]
  },
  {
   "cell_type": "markdown",
   "metadata": {},
   "source": [
    "##   Prepare data for machine learning\n",
    "Since the dataset is very large to fit in a small laptop memory, training the entire dataset on a laptop will take days to run let alone tuning the hyperparameters by grid search.  Hence, we will first split the dataset into subsets and train the model on the small subset"
   ]
  },
  {
   "cell_type": "code",
   "execution_count": 7,
   "metadata": {},
   "outputs": [],
   "source": [
    "X1, X2, y1, y2 = train_test_split(df,df.FATAL, test_size = 0.01, random_state = 42, stratify = df.FATAL)"
   ]
  },
  {
   "cell_type": "code",
   "execution_count": 8,
   "metadata": {},
   "outputs": [
    {
     "name": "stdout",
     "output_type": "stream",
     "text": [
      "(3779436, 23)\n",
      "(3779436,)\n",
      "(38177, 23)\n",
      "(38177,)\n"
     ]
    }
   ],
   "source": [
    "print(X1.shape)\n",
    "print(y1.shape)\n",
    "print(X2.shape)\n",
    "print(y2.shape)"
   ]
  },
  {
   "cell_type": "code",
   "execution_count": 9,
   "metadata": {},
   "outputs": [],
   "source": [
    "X2.to_csv('../data/collision.csv', index = False)"
   ]
  },
  {
   "cell_type": "code",
   "execution_count": 10,
   "metadata": {},
   "outputs": [],
   "source": [
    "# Reload data\n",
    "df = pd.read_csv('../data/collision.csv')"
   ]
  },
  {
   "cell_type": "markdown",
   "metadata": {},
   "source": [
    "We will perform machine learning on the smaller subset.  We create a feature matrix consisting of the predictors and a target variable which is the class to be predicted. We also drop features such as V_ID and P_ID as they are not useful in predicting the target variable"
   ]
  },
  {
   "cell_type": "code",
   "execution_count": 11,
   "metadata": {},
   "outputs": [
    {
     "data": {
      "text/plain": [
       "Index(['C_YEAR', 'C_MNTH', 'C_WDAY', 'C_HOUR', 'FATAL', 'C_VEHS', 'C_CONF',\n",
       "       'C_RCFG', 'C_WTHR', 'C_RSUR', 'C_RALN', 'C_TRAF', 'V_ID', 'V_TYPE',\n",
       "       'V_YEAR', 'P_ID', 'P_SEX', 'P_AGE', 'P_PSN', 'P_ISEV', 'P_SAFE',\n",
       "       'P_USER', 'C_CASE'],\n",
       "      dtype='object')"
      ]
     },
     "execution_count": 11,
     "metadata": {},
     "output_type": "execute_result"
    }
   ],
   "source": [
    "df.columns"
   ]
  },
  {
   "cell_type": "code",
   "execution_count": 12,
   "metadata": {},
   "outputs": [],
   "source": [
    "# Feature matrix\n",
    "X = df.drop(['P_ID', 'V_ID', 'FATAL'], axis = 1)\n",
    "\n",
    "# Target variable\n",
    "y = df['FATAL']"
   ]
  },
  {
   "cell_type": "code",
   "execution_count": 13,
   "metadata": {},
   "outputs": [
    {
     "data": {
      "text/plain": [
       "(38177, 20)"
      ]
     },
     "execution_count": 13,
     "metadata": {},
     "output_type": "execute_result"
    }
   ],
   "source": [
    "X.shape"
   ]
  },
  {
   "cell_type": "code",
   "execution_count": 14,
   "metadata": {},
   "outputs": [
    {
     "data": {
      "text/plain": [
       "(38177,)"
      ]
     },
     "execution_count": 14,
     "metadata": {},
     "output_type": "execute_result"
    }
   ],
   "source": [
    "y.shape"
   ]
  },
  {
   "cell_type": "markdown",
   "metadata": {},
   "source": [
    "We now split the into $80\\%$ training set and $20\\%$ test set in a stratify fashion"
   ]
  },
  {
   "cell_type": "code",
   "execution_count": 15,
   "metadata": {},
   "outputs": [],
   "source": [
    "X_train, X_test, y_train, y_test = train_test_split(X,y, test_size = 0.2, random_state = 42, stratify = y)"
   ]
  },
  {
   "cell_type": "code",
   "execution_count": 16,
   "metadata": {},
   "outputs": [
    {
     "name": "stdout",
     "output_type": "stream",
     "text": [
      "Training set size: (30541, 20)\n",
      "Class training set size: (30541,)\n",
      "*************************************\n",
      "Test set size: (7636, 20)\n",
      "Class test set size: (7636,)\n"
     ]
    }
   ],
   "source": [
    "print('Training set size:', X_train.shape)\n",
    "print('Class training set size:', y_train.shape)\n",
    "print('*************************************')\n",
    "print('Test set size:', X_test.shape)\n",
    "print('Class test set size:', y_test.shape)"
   ]
  },
  {
   "cell_type": "code",
   "execution_count": 17,
   "metadata": {},
   "outputs": [
    {
     "name": "stdout",
     "output_type": "stream",
     "text": [
      "Training set class distribution:\n",
      " 0    98.395599\n",
      "1     1.604401\n",
      "Name: FATAL, dtype: float64\n",
      "*********************************\n",
      "Test set class distribution:\n",
      " 0    98.389209\n",
      "1     1.610791\n",
      "Name: FATAL, dtype: float64\n"
     ]
    }
   ],
   "source": [
    "print('Training set class distribution:\\n', (y_train.value_counts()/X_train.shape[0])*100)\n",
    "print('*********************************')\n",
    "print('Test set class distribution:\\n', (y_test.value_counts()/X_test.shape[0])*100)"
   ]
  },
  {
   "cell_type": "markdown",
   "metadata": {},
   "source": [
    "- We can see that we still have the same class distribution as the original dataset"
   ]
  },
  {
   "cell_type": "markdown",
   "metadata": {},
   "source": [
    "##  Data Pre-processing"
   ]
  },
  {
   "cell_type": "code",
   "execution_count": 18,
   "metadata": {},
   "outputs": [],
   "source": [
    "# List of categorical attributes\n",
    "cat_subset = list(X_train.select_dtypes('O'))\n",
    "\n",
    "# List of numerical attributes\n",
    "num_subset = list(X_train.select_dtypes('number'))\n",
    "\n",
    "# Binarize the categorical attributes\n",
    "cat_attribs = [([cat], LabelBinarizer()) for cat in cat_subset]\n",
    "\n",
    "# Standardize the numerical attributes\n",
    "num_attribs = [([num], StandardScaler()) for num in num_subset]\n",
    "\n",
    "# Build a dataframe mapper pipeline\n",
    "mapper = DataFrameMapper(cat_attribs + num_attribs)\n",
    "\n",
    "# Fit transform the training set\n",
    "X_train_scale = mapper.fit_transform(X_train)\n",
    "\n",
    "# Only transform the training set\n",
    "X_test_scale = mapper.transform(X_test)"
   ]
  },
  {
   "cell_type": "code",
   "execution_count": 19,
   "metadata": {},
   "outputs": [
    {
     "name": "stdout",
     "output_type": "stream",
     "text": [
      "Training set size after pre-processing: (30541, 129)\n",
      "Test set size after pre-processing: (7636, 129)\n"
     ]
    }
   ],
   "source": [
    "# Size of the data after pre-processing\n",
    "print('Training set size after pre-processing:', X_train_scale.shape)\n",
    "print('Test set size after pre-processing:', X_test_scale.shape)"
   ]
  },
  {
   "cell_type": "markdown",
   "metadata": {},
   "source": [
    "Let's convert the class labels to arrays"
   ]
  },
  {
   "cell_type": "code",
   "execution_count": 39,
   "metadata": {},
   "outputs": [],
   "source": [
    "y_train = y_train.values"
   ]
  },
  {
   "cell_type": "code",
   "execution_count": 40,
   "metadata": {},
   "outputs": [],
   "source": [
    "y_test = y_test.values"
   ]
  },
  {
   "cell_type": "markdown",
   "metadata": {},
   "source": [
    "# Model Selection by Cross-Validation Predictions"
   ]
  },
  {
   "cell_type": "markdown",
   "metadata": {},
   "source": [
    "In this section, we train two models, random forest classifier and XGBoost on the imbalanced dataset. As we shall see below, the overall accuracy of the model is not a good  performance measure for imbalanced datasets because it is bias towards the majority (negative) class. Therefore, we shall select and optimize the model with the best area under the precision-recall (AUPR) curve. "
   ]
  },
  {
   "cell_type": "markdown",
   "metadata": {},
   "source": [
    "##  1. Random Forest Classifier"
   ]
  },
  {
   "cell_type": "code",
   "execution_count": 146,
   "metadata": {
    "scrolled": true
   },
   "outputs": [
    {
     "name": "stdout",
     "output_type": "stream",
     "text": [
      "****************************************************************************\n",
      "CV score: 0.989902 (0.000606)\n",
      "AUROC: 0.773770\n",
      "AUPRC: 0.454625\n",
      "Predicted classes: [0 1]\n",
      "Confusion matrix:\n",
      " [[27477     0]\n",
      " [  282   168]]\n",
      "Classification report:\n",
      "              precision    recall  f1-score   support\n",
      "\n",
      "          0       0.99      1.00      0.99     27477\n",
      "          1       1.00      0.37      0.54       450\n",
      "\n",
      "avg / total       0.99      0.99      0.99     27927\n",
      "\n",
      "****************************************************************************\n"
     ]
    }
   ],
   "source": [
    "rf = RandomForestClassifier(random_state =42)                         \n",
    "model_selection_cv(rf, X_train_scale, y_train, cv_fold=5, scoring = 'accuracy')"
   ]
  },
  {
   "cell_type": "markdown",
   "metadata": {},
   "source": [
    "## 2. XGBoost"
   ]
  },
  {
   "cell_type": "code",
   "execution_count": 147,
   "metadata": {},
   "outputs": [
    {
     "name": "stdout",
     "output_type": "stream",
     "text": [
      "****************************************************************************\n",
      "CV score: 0.990439 (0.000647)\n",
      "AUROC: 0.897507\n",
      "AUPRC: 0.527913\n",
      "Predicted classes: [0 1]\n",
      "Confusion matrix:\n",
      " [[27476     1]\n",
      " [  266   184]]\n",
      "Classification report:\n",
      "              precision    recall  f1-score   support\n",
      "\n",
      "          0       0.99      1.00      1.00     27477\n",
      "          1       0.99      0.41      0.58       450\n",
      "\n",
      "avg / total       0.99      0.99      0.99     27927\n",
      "\n",
      "****************************************************************************\n"
     ]
    }
   ],
   "source": [
    "xgb_model = xgb.XGBClassifier(random_state =42)\n",
    "model_selection_cv(xgb_model, X_train_scale, y_train, cv_fold = 5, scoring = 'accuracy')"
   ]
  },
  {
   "cell_type": "markdown",
   "metadata": {},
   "source": [
    "- With default hyperparameters, XGBoost outperformed randon forest in all aspects\n",
    "\n",
    "- We can see that the overall accuracy (CV score) is not a good performance measure\n",
    "\n",
    "-  The AUROC is also very high although recall is small, so AUROC is not a good performance measure\n",
    "\n",
    "- We shall select XBoost and optimize its AUPRC"
   ]
  },
  {
   "cell_type": "markdown",
   "metadata": {},
   "source": [
    "#  Model Tuning via Grid Search and Cost Sensitive Method"
   ]
  },
  {
   "cell_type": "markdown",
   "metadata": {},
   "source": [
    " In this section, we shall optimize the AUPR of XGBoost using  randomized search cross-validation and cost sensitive method"
   ]
  },
  {
   "cell_type": "code",
   "execution_count": 148,
   "metadata": {},
   "outputs": [],
   "source": [
    "from sklearn.model_selection import GridSearchCV, RandomizedSearchCV"
   ]
  },
  {
   "cell_type": "code",
   "execution_count": 149,
   "metadata": {},
   "outputs": [
    {
     "data": {
      "text/plain": [
       "61.06"
      ]
     },
     "execution_count": 149,
     "metadata": {},
     "output_type": "execute_result"
    }
   ],
   "source": [
    "# Class ratio of the negative class to the positive class\n",
    "neg = y_train == 0\n",
    "pos = y_train == 1\n",
    "class_ratio = np.sum(neg)/np.sum(pos)\n",
    "class_ratio"
   ]
  },
  {
   "cell_type": "markdown",
   "metadata": {},
   "source": [
    "### First grid search"
   ]
  },
  {
   "cell_type": "code",
   "execution_count": 150,
   "metadata": {},
   "outputs": [
    {
     "name": "stdout",
     "output_type": "stream",
     "text": [
      "Fitting 5 folds for each of 12 candidates, totalling 60 fits\n"
     ]
    },
    {
     "name": "stderr",
     "output_type": "stream",
     "text": [
      "[Parallel(n_jobs=-1)]: Done  42 tasks      | elapsed:  6.2min\n",
      "[Parallel(n_jobs=-1)]: Done  60 out of  60 | elapsed: 10.1min finished\n"
     ]
    },
    {
     "name": "stdout",
     "output_type": "stream",
     "text": [
      "Best score: 0.5313894991996042\n",
      "Best hyperparameters: {'max_depth': 3, 'min_child_weight': 5}\n"
     ]
    }
   ],
   "source": [
    "# First hyperparameter range\n",
    "param_1 = {'max_depth':range(3,10,2),'min_child_weight':range(1,6,2)}\n",
    "\n",
    "# Gridsearch\n",
    "xgb_model = xgb.XGBClassifier(n_estimators=140, subsample=0.8, colsample_bytree=0.8,random_state=42,\n",
    "                         scale_pos_weight = 1)\n",
    "gsearch1 = GridSearchCV(estimator = xgb_model, verbose = 1, param_grid = param_1, scoring='average_precision',\n",
    "                        n_jobs = -1, cv=5)\n",
    "# Fit the training set\n",
    "gsearch1.fit(X_train_scale, y_train)\n",
    "\n",
    "# Print results\n",
    "print('Best score:', gsearch1.best_score_)\n",
    "print('Best hyperparameters:', gsearch1.best_params_) "
   ]
  },
  {
   "cell_type": "markdown",
   "metadata": {},
   "source": [
    "### Second grid search"
   ]
  },
  {
   "cell_type": "code",
   "execution_count": 151,
   "metadata": {},
   "outputs": [
    {
     "name": "stdout",
     "output_type": "stream",
     "text": [
      "Fitting 5 folds for each of 9 candidates, totalling 45 fits\n"
     ]
    },
    {
     "name": "stderr",
     "output_type": "stream",
     "text": [
      "[Parallel(n_jobs=-1)]: Done  45 out of  45 | elapsed:  5.1min finished\n"
     ]
    },
    {
     "name": "stdout",
     "output_type": "stream",
     "text": [
      "Best score: 0.531879613881006\n",
      "Best hyperparameters: {'learning_rate': 0.1, 'reg_alpha': 0.001}\n"
     ]
    }
   ],
   "source": [
    "# Second hyperparameter range\n",
    "param_2 = {'learning_rate': [0.05,0.1,0.3],'reg_alpha':[0,0.001,0.01]}\n",
    "\n",
    "# Gridsearch\n",
    "xgb_model = xgb.XGBClassifier(n_estimators=180, subsample=0.8, colsample_bytree=0.8,random_state=42,\n",
    "                         scale_pos_weight = 1, max_depth =3, min_child_weight=5)\n",
    "gsearch2 = GridSearchCV(estimator = xgb_model, verbose = 1, param_grid = param_2, scoring='average_precision',\n",
    "                        n_jobs = -1, cv=5)\n",
    "# Fit the training set\n",
    "gsearch2.fit(X_train_scale, y_train)\n",
    "\n",
    "# Print results\n",
    "print('Best score:', gsearch2.best_score_)\n",
    "print('Best hyperparameters:', gsearch2.best_params_) "
   ]
  },
  {
   "cell_type": "markdown",
   "metadata": {},
   "source": [
    "### Third grid search"
   ]
  },
  {
   "cell_type": "code",
   "execution_count": 152,
   "metadata": {},
   "outputs": [
    {
     "name": "stdout",
     "output_type": "stream",
     "text": [
      "Fitting 5 folds for each of 5 candidates, totalling 25 fits\n"
     ]
    },
    {
     "name": "stderr",
     "output_type": "stream",
     "text": [
      "[Parallel(n_jobs=-1)]: Done  25 out of  25 | elapsed:  2.9min finished\n"
     ]
    },
    {
     "name": "stdout",
     "output_type": "stream",
     "text": [
      "Best score: 0.531879613881006\n",
      "Best hyperparameters: {'gamma': 0.0}\n"
     ]
    }
   ],
   "source": [
    "# Third hyperparameter range\n",
    "param_3 = {'gamma':[i/10.0 for i in range(0,5)]}\n",
    "\n",
    "# Gridsearch\n",
    "xgb_model = xgb.XGBClassifier(n_estimators=180, subsample=0.8, colsample_bytree=0.8,random_state=42,\n",
    "                         max_depth =3, min_child_weight=5, learning_rate =0.1,\n",
    "                         reg_alpha =0.001,scale_pos_weight = 1)\n",
    "gsearch3 = GridSearchCV(estimator = xgb_model, verbose = 1, param_grid = param_3, scoring='average_precision',\n",
    "                        n_jobs = -1, cv=5)\n",
    "# Fit the training set\n",
    "gsearch3.fit(X_train_scale, y_train)\n",
    "\n",
    "# Print results\n",
    "print('Best score:', gsearch3.best_score_)\n",
    "print('Best hyperparameters:', gsearch3.best_params_) "
   ]
  },
  {
   "cell_type": "markdown",
   "metadata": {},
   "source": [
    "Let's make prediction using the best hyperparameters and boosted number of trees"
   ]
  },
  {
   "cell_type": "code",
   "execution_count": 153,
   "metadata": {},
   "outputs": [
    {
     "name": "stdout",
     "output_type": "stream",
     "text": [
      "****************************************************************************\n",
      "CV score: 0.975078 (0.001699)\n",
      "AUROC: 0.854603\n",
      "AUPRC: 0.500428\n",
      "Predicted classes: [0 1]\n",
      "Confusion matrix:\n",
      " [[27010   467]\n",
      " [  229   221]]\n",
      "Classification report:\n",
      "              precision    recall  f1-score   support\n",
      "\n",
      "          0       0.99      0.98      0.99     27477\n",
      "          1       0.32      0.49      0.39       450\n",
      "\n",
      "avg / total       0.98      0.98      0.98     27927\n",
      "\n",
      "****************************************************************************\n"
     ]
    }
   ],
   "source": [
    "xgb_best = xgb.XGBClassifier(n_estimators=1000, subsample=0.8, colsample_bytree=0.8,random_state=42,\n",
    "                         max_depth = 3, min_child_weight=5, learning_rate =0.1,reg_alpha =0.001,\n",
    "                         scale_pos_weight = class_ratio, gamma=0.0)\n",
    "model_selection_cv(xgb_best, X_train_scale, y_train, cv_fold=5, scoring = 'accuracy')"
   ]
  },
  {
   "cell_type": "markdown",
   "metadata": {},
   "source": [
    "- There is an increase in recall from 41\\% to 49\\%."
   ]
  },
  {
   "cell_type": "markdown",
   "metadata": {},
   "source": [
    "# Resampling Methods"
   ]
  },
  {
   "cell_type": "markdown",
   "metadata": {},
   "source": [
    "In this section, we will employ two resampling techniques on the training set to balance the classes. However, the final prediction will be made on the imbalanced test set. The idea of resampling is to trick the classifier using a balanced dataset.  "
   ]
  },
  {
   "cell_type": "markdown",
   "metadata": {},
   "source": [
    "## 1. Under sampling of the majority class"
   ]
  },
  {
   "cell_type": "markdown",
   "metadata": {},
   "source": [
    "In undersampling, we reduce the majority class such that it matches the minority class"
   ]
  },
  {
   "cell_type": "code",
   "execution_count": 154,
   "metadata": {},
   "outputs": [],
   "source": [
    "# Import under sampling module from imbalanced learn\n",
    "from imblearn.under_sampling import RandomUnderSampler"
   ]
  },
  {
   "cell_type": "code",
   "execution_count": 155,
   "metadata": {},
   "outputs": [],
   "source": [
    "# Undersample the majority class\n",
    "und = RandomUnderSampler(ratio = 'majority', random_state = 42)\n",
    "X_train_scale_und, y_train_und = und.fit_sample(X_train_scale, y_train)"
   ]
  },
  {
   "cell_type": "code",
   "execution_count": 156,
   "metadata": {},
   "outputs": [
    {
     "data": {
      "text/plain": [
       "(900, 130)"
      ]
     },
     "execution_count": 156,
     "metadata": {},
     "output_type": "execute_result"
    }
   ],
   "source": [
    "X_train_scale_und.shape"
   ]
  },
  {
   "cell_type": "code",
   "execution_count": 157,
   "metadata": {},
   "outputs": [
    {
     "data": {
      "text/plain": [
       "(900,)"
      ]
     },
     "execution_count": 157,
     "metadata": {},
     "output_type": "execute_result"
    }
   ],
   "source": [
    "y_train_und.shape"
   ]
  },
  {
   "cell_type": "code",
   "execution_count": 158,
   "metadata": {},
   "outputs": [
    {
     "name": "stdout",
     "output_type": "stream",
     "text": [
      "Imbalanced training set class distribution: [27477   450]\n",
      "Undersampled training set class distribution: [450 450]\n"
     ]
    }
   ],
   "source": [
    "print('Imbalanced training set class distribution:', np.bincount(y_train))\n",
    "print('Undersampled training set class distribution:', np.bincount(y_train_und))"
   ]
  },
  {
   "cell_type": "markdown",
   "metadata": {},
   "source": [
    "- We can see that the majority class in the training set has been undersampled\n",
    "\n",
    "- We now have equal class distribution. Note that the test set is not resampled"
   ]
  },
  {
   "cell_type": "code",
   "execution_count": 159,
   "metadata": {
    "scrolled": true
   },
   "outputs": [
    {
     "name": "stdout",
     "output_type": "stream",
     "text": [
      "****************************************************************************\n",
      "CV score: 0.804444 (0.026620)\n",
      "AUROC: 0.887575\n",
      "AUPRC: 0.907560\n",
      "Predicted classes: [0 1]\n",
      "Confusion matrix:\n",
      " [[387  63]\n",
      " [113 337]]\n",
      "Classification report:\n",
      "              precision    recall  f1-score   support\n",
      "\n",
      "          0       0.77      0.86      0.81       450\n",
      "          1       0.84      0.75      0.79       450\n",
      "\n",
      "avg / total       0.81      0.80      0.80       900\n",
      "\n",
      "****************************************************************************\n"
     ]
    }
   ],
   "source": [
    "# Train logistic regression on the undersampled dataset\n",
    "xgb_und = xgb.XGBClassifier(random_state =42)\n",
    "model_selection_cv(xgb_und, X_train_scale_und, y_train_und, cv_fold=5, scoring = 'accuracy')"
   ]
  },
  {
   "cell_type": "markdown",
   "metadata": {},
   "source": [
    "## 2. Synthetic Minority Over Sampling Technique (SMOTE)"
   ]
  },
  {
   "cell_type": "markdown",
   "metadata": {},
   "source": [
    "In SMOTE, we generate synthetic oberservations to match the minority class"
   ]
  },
  {
   "cell_type": "code",
   "execution_count": 160,
   "metadata": {},
   "outputs": [],
   "source": [
    "# Import SMOTE from imbalanced learn\n",
    "from imblearn.over_sampling import SMOTE"
   ]
  },
  {
   "cell_type": "code",
   "execution_count": 161,
   "metadata": {},
   "outputs": [],
   "source": [
    "# Oversample the minority class\n",
    "sm = SMOTE(ratio = 'minority', random_state = 42)\n",
    "X_train_scale_ovsm, y_train_ovsm = sm.fit_sample(X_train_scale, y_train)"
   ]
  },
  {
   "cell_type": "code",
   "execution_count": 162,
   "metadata": {},
   "outputs": [
    {
     "data": {
      "text/plain": [
       "(54954, 130)"
      ]
     },
     "execution_count": 162,
     "metadata": {},
     "output_type": "execute_result"
    }
   ],
   "source": [
    "X_train_scale_ovsm.shape"
   ]
  },
  {
   "cell_type": "code",
   "execution_count": 163,
   "metadata": {},
   "outputs": [
    {
     "data": {
      "text/plain": [
       "(54954,)"
      ]
     },
     "execution_count": 163,
     "metadata": {},
     "output_type": "execute_result"
    }
   ],
   "source": [
    "y_train_ovsm.shape"
   ]
  },
  {
   "cell_type": "code",
   "execution_count": 164,
   "metadata": {},
   "outputs": [
    {
     "name": "stdout",
     "output_type": "stream",
     "text": [
      "Imbalanced training set class distribution: [27477   450]\n",
      "Resampled training set class distribution: [27477 27477]\n"
     ]
    }
   ],
   "source": [
    "print('Imbalanced training set class distribution:', np.bincount(y_train))\n",
    "print('Resampled training set class distribution:', np.bincount(y_train_ovsm))"
   ]
  },
  {
   "cell_type": "markdown",
   "metadata": {},
   "source": [
    "- Similarly,  SMOTE oversampled the minority class in the training set, so we now have equal class distribution. "
   ]
  },
  {
   "cell_type": "code",
   "execution_count": 165,
   "metadata": {},
   "outputs": [
    {
     "name": "stdout",
     "output_type": "stream",
     "text": [
      "****************************************************************************\n",
      "CV score: 0.990866 (0.008997)\n",
      "AUROC: 0.998331\n",
      "AUPRC: 0.998739\n",
      "Predicted classes: [0 1]\n",
      "Confusion matrix:\n",
      " [[27404    73]\n",
      " [  429 27048]]\n",
      "Classification report:\n",
      "              precision    recall  f1-score   support\n",
      "\n",
      "          0       0.98      1.00      0.99     27477\n",
      "          1       1.00      0.98      0.99     27477\n",
      "\n",
      "avg / total       0.99      0.99      0.99     54954\n",
      "\n",
      "****************************************************************************\n"
     ]
    }
   ],
   "source": [
    "# Train random forest in the SMOTE dataset\n",
    "xgb_ovsm = xgb.XGBClassifier(random_state =42)\n",
    "model_selection_cv(xgb_ovsm, X_train_scale_ovsm, y_train_ovsm, cv_fold=5, scoring = 'accuracy')"
   ]
  },
  {
   "cell_type": "markdown",
   "metadata": {},
   "source": [
    "#  ROC and PR Curves on the Cross-Validation Training Set"
   ]
  },
  {
   "cell_type": "code",
   "execution_count": 166,
   "metadata": {
    "scrolled": false
   },
   "outputs": [
    {
     "data": {
      "image/png": "[encoded data removed]",
      "text/plain": [
       "<Figure size 1440x576 with 2 Axes>"
      ]
     },
     "metadata": {},
     "output_type": "display_data"
    }
   ],
   "source": [
    "# Set figure and font sizes\n",
    "fig = plt.figure(figsize = (20,8))\n",
    "plt.rcParams.update({'font.size':20})\n",
    "\n",
    "# Plot ROC and PR curves for normal imbalanced distribution\n",
    "xgb_best = xgb.XGBClassifier(n_estimators=1000, subsample=0.8, colsample_bytree=0.8,random_state=42,\n",
    "                         max_depth =3, min_child_weight=5, learning_rate =0.1,reg_alpha =0.001,\n",
    "                        scale_pos_weight = class_ratio, gamma=0.0)   \n",
    "\n",
    "Plot_ROC_Curve_and_PRC_Cross_Val(xgb_best, X_train_scale, y_train,\n",
    "                       color= 'b', label = 'Normal (AUC= %0.2f)')\n",
    "\n",
    "# Plot ROC and PR curves for Under Sampled distribution\n",
    "Plot_ROC_Curve_and_PRC_Cross_Val(xgb_und, X_train_scale_und, y_train_und,\n",
    "                       color= 'g', label = 'Under Sampled (AUC= %0.2f)')\n",
    "                     \n",
    "# Plot ROC and PR curves for SMOTE distribution\n",
    "Plot_ROC_Curve_and_PRC_Cross_Val(xgb_ovsm, X_train_scale_ovsm, y_train_ovsm,\n",
    "                       color= 'r', label = 'SMOTE (AUC= %0.2f)') "
   ]
  },
  {
   "cell_type": "markdown",
   "metadata": {},
   "source": [
    "- We can see that SMOTE performed extremely well on the training set. We will now use this result to trick the classifier on the imbalanced test set"
   ]
  },
  {
   "cell_type": "markdown",
   "metadata": {},
   "source": [
    "# Prediction on the Imbalanced Test Set"
   ]
  },
  {
   "cell_type": "markdown",
   "metadata": {},
   "source": [
    "In this section, we make our final prediction on the imbalanced dataset after training the model using the resampling techniques."
   ]
  },
  {
   "cell_type": "markdown",
   "metadata": {},
   "source": [
    "## 1. Normal Imbalanced dataset"
   ]
  },
  {
   "cell_type": "code",
   "execution_count": 167,
   "metadata": {},
   "outputs": [
    {
     "name": "stdout",
     "output_type": "stream",
     "text": [
      "****************************************************************************\n",
      "Test accuracy:  0.969493\n",
      "AUROC: 0.849757\n",
      "AUPRC: 0.490625\n",
      "Predicted classes: [0 1]\n",
      "Confusion matrix:\n",
      " [[6713  157]\n",
      " [  56   56]]\n",
      "Classification report:\n",
      "              precision    recall  f1-score   support\n",
      "\n",
      "          0       0.99      0.98      0.98      6870\n",
      "          1       0.26      0.50      0.34       112\n",
      "\n",
      "avg / total       0.98      0.97      0.97      6982\n",
      "\n",
      "****************************************************************************\n"
     ]
    }
   ],
   "source": [
    "xgb_best = xgb.XGBClassifier(n_estimators=1000, subsample=0.8, colsample_bytree=0.8,random_state=42,\n",
    "                         max_depth =3, min_child_weight=5, learning_rate =0.1,reg_alpha =0.001,\n",
    "                        scale_pos_weight = class_ratio, gamma=0.0)\n",
    "\n",
    "Test_Prediction(xgb_best, X_train_scale, y_train, X_test_scale, y_test)"
   ]
  },
  {
   "cell_type": "markdown",
   "metadata": {},
   "source": [
    "## 2. Undersampled dataset"
   ]
  },
  {
   "cell_type": "code",
   "execution_count": 168,
   "metadata": {},
   "outputs": [
    {
     "name": "stdout",
     "output_type": "stream",
     "text": [
      "****************************************************************************\n",
      "Test accuracy:  0.853051\n",
      "AUROC: 0.849357\n",
      "AUPRC: 0.478777\n",
      "Predicted classes: [0 1]\n",
      "Confusion matrix:\n",
      " [[5886  984]\n",
      " [  42   70]]\n",
      "Classification report:\n",
      "              precision    recall  f1-score   support\n",
      "\n",
      "          0       0.99      0.86      0.92      6870\n",
      "          1       0.07      0.62      0.12       112\n",
      "\n",
      "avg / total       0.98      0.85      0.91      6982\n",
      "\n",
      "****************************************************************************\n"
     ]
    }
   ],
   "source": [
    "Test_Prediction(xgb_und, X_train_scale_und, y_train_und, X_test_scale, y_test)"
   ]
  },
  {
   "cell_type": "markdown",
   "metadata": {},
   "source": [
    "## 3. SMOTE dataset"
   ]
  },
  {
   "cell_type": "code",
   "execution_count": 169,
   "metadata": {},
   "outputs": [
    {
     "name": "stdout",
     "output_type": "stream",
     "text": [
      "****************************************************************************\n",
      "Test accuracy:  0.987826\n",
      "AUROC: 0.845458\n",
      "AUPRC: 0.476294\n",
      "Predicted classes: [0 1]\n",
      "Confusion matrix:\n",
      " [[6850   20]\n",
      " [  65   47]]\n",
      "Classification report:\n",
      "              precision    recall  f1-score   support\n",
      "\n",
      "          0       0.99      1.00      0.99      6870\n",
      "          1       0.70      0.42      0.53       112\n",
      "\n",
      "avg / total       0.99      0.99      0.99      6982\n",
      "\n",
      "****************************************************************************\n"
     ]
    }
   ],
   "source": [
    "Test_Prediction(xgb_ovsm, X_train_scale_ovsm, y_train_ovsm, X_test_scale, y_test)"
   ]
  },
  {
   "cell_type": "markdown",
   "metadata": {},
   "source": [
    "- On the basis of recall, undersampling outperformed other sampling techniques\n",
    "\n",
    "- On the basis of AUPRC, the normal imbalanced dataset outperformed other sampling techniques\n",
    "\n",
    "- SMOTE has the highest precision, because it misclassifies a small number of true negatives"
   ]
  },
  {
   "cell_type": "markdown",
   "metadata": {},
   "source": [
    "#  ROC and PR Curves on the Test Set"
   ]
  },
  {
   "cell_type": "code",
   "execution_count": 170,
   "metadata": {},
   "outputs": [
    {
     "data": {
      "image/png": "[encoded data removed]",
      "text/plain": [
       "<Figure size 1440x576 with 2 Axes>"
      ]
     },
     "metadata": {},
     "output_type": "display_data"
    }
   ],
   "source": [
    "# Set figure and font sizes\n",
    "fig = plt.figure(figsize = (20,8))\n",
    "plt.rcParams.update({'font.size':20})\n",
    "\n",
    "# Plot ROC and PR curves for normal imbalanced distribution\n",
    "xgb_best = xgb.XGBClassifier(n_estimators=1000, subsample=0.8, colsample_bytree=0.8,random_state=42,\n",
    "                         max_depth =3, min_child_weight=5, learning_rate =0.1,reg_alpha =0.001,\n",
    "                        scale_pos_weight = class_ratio, gamma=0.0) \n",
    "\n",
    "Plot_ROC_Curve_and_PRC(xgb_best, X_train_scale, y_train, X_test_scale, y_test,\n",
    "                       color= 'b', label = 'Normal (AUC= %0.2f)')\n",
    "\n",
    "# Plot ROC and PR curves for Under Sampled distribution\n",
    "Plot_ROC_Curve_and_PRC(xgb_und, X_train_scale_und, y_train_und, X_test_scale, y_test,\n",
    "                       color= 'g', label = 'Under Sampled (AUC= %0.2f)')\n",
    "\n",
    "# Plot ROC and PR curves for  SMOTE distribution\n",
    "Plot_ROC_Curve_and_PRC(xgb_ovsm, X_train_scale_ovsm, y_train_ovsm, X_test_scale, y_test,\n",
    "                       color= 'r', label = 'SMOTE (AUC= %0.2f)')"
   ]
  },
  {
   "cell_type": "markdown",
   "metadata": {},
   "source": [
    "- We can see that the AUPRC of the normal imbalanced dataset is slightly higher (by 0.01\\%) than undersampling and SMOTE."
   ]
  },
  {
   "cell_type": "markdown",
   "metadata": {},
   "source": [
    "# Conclusion"
   ]
  },
  {
   "cell_type": "markdown",
   "metadata": {},
   "source": [
    "In conclusion, we have analysed the motor vehicle collision on public roads in Canada from 1999 to 2016. We explored and identified some of the main causes of fatal motor vehicle collision and we built a machine learning model to predict the fatal accident class, which is the minority class with only $2\\%$ of the whole dataset.\n",
    "\n",
    "From our exploratory data analysis, we found the following results:\n",
    "\n",
    "1. The most fatal collision occured in the year 1999 and the least fatal collision occured in the year 2014.\n",
    "\n",
    "2. Two in every 100 men involves in a fatal collision, whereas one in every 100 women involves in a fatal collision.\n",
    "\n",
    "3. Most fatal collision are mainly caused by  teenagers between the age range 16 to 19 and they are mostly boys.\n",
    "\n",
    "4. The vehicle model in the year 2000 & 2001 caused the most fatal collisions.\n",
    "\n",
    "5. Most fatal collisions occur on weekends in the month of July and August (summer session).\n",
    "\n",
    "6. Most fatal collisions due to visibility limitation.\n",
    "\n",
    "Furthermore, we built a machine learning predictive model to classify fatal collisions from non-fatal collisions, where the former is only $2\\%$ of the total observations resulting in a highly imbalanced dataset. The dataset contains over 6 million observations with numerous missing values. The missing values were delected and the resulting dataset still contains over 3 million observations. We built the predictive modeling with only $1\\%$ of th total observation due to the capacity of our computer system. We found that XGBoost outperformed Random forest classifier on the training set, so we picked the former and optimized its AUPR and Recall, which were chosen as the performance measure. \n",
    "\n",
    "The dataset was split into $80\\%$ training set and $20\\%$ test set. We modeled XGBoost classifier on the imbalanced training set using cost sensitive method, undersampling, and SMOTE.  On the cross-validation training set, SMOTE outperfomed other resampling methods by a high margin. However, on the imbalanced test set we obtain the following results:"
   ]
  },
  {
   "cell_type": "code",
   "execution_count": 219,
   "metadata": {
    "scrolled": true
   },
   "outputs": [
    {
     "data": {
      "text/html": [
       "<div>\n",
       "<style scoped>\n",
       "    .dataframe tbody tr th:only-of-type {\n",
       "        vertical-align: middle;\n",
       "    }\n",
       "\n",
       "    .dataframe tbody tr th {\n",
       "        vertical-align: top;\n",
       "    }\n",
       "\n",
       "    .dataframe thead th {\n",
       "        text-align: right;\n",
       "    }\n",
       "</style>\n",
       "<table border=\"1\" class=\"dataframe\">\n",
       "  <thead>\n",
       "    <tr style=\"text-align: right;\">\n",
       "      <th></th>\n",
       "      <th>Normal</th>\n",
       "      <th>Undersampling</th>\n",
       "      <th>SMOTE</th>\n",
       "    </tr>\n",
       "  </thead>\n",
       "  <tbody>\n",
       "    <tr>\n",
       "      <th>AUROC</th>\n",
       "      <td>0.85</td>\n",
       "      <td>0.85</td>\n",
       "      <td>0.85</td>\n",
       "    </tr>\n",
       "    <tr>\n",
       "      <th>AUPR</th>\n",
       "      <td>0.49</td>\n",
       "      <td>0.48</td>\n",
       "      <td>0.48</td>\n",
       "    </tr>\n",
       "    <tr>\n",
       "      <th>Recall</th>\n",
       "      <td>0.50</td>\n",
       "      <td>0.62</td>\n",
       "      <td>0.42</td>\n",
       "    </tr>\n",
       "    <tr>\n",
       "      <th>Precision</th>\n",
       "      <td>0.26</td>\n",
       "      <td>0.07</td>\n",
       "      <td>0.70</td>\n",
       "    </tr>\n",
       "  </tbody>\n",
       "</table>\n",
       "</div>"
      ],
      "text/plain": [
       "           Normal  Undersampling  SMOTE\n",
       "AUROC        0.85           0.85   0.85\n",
       "AUPR         0.49           0.48   0.48\n",
       "Recall       0.50           0.62   0.42\n",
       "Precision    0.26           0.07   0.70"
      ]
     },
     "execution_count": 219,
     "metadata": {},
     "output_type": "execute_result"
    }
   ],
   "source": [
    "pd.DataFrame({'Normal':[0.85,0.49,0.50,0.26], 'Undersampling': [0.85,0.48,0.62,0.07], \n",
    "               'SMOTE': [0.85,0.48,0.42,0.70]}, index = ['AUROC', 'AUPR', 'Recall', 'Precision'])"
   ]
  },
  {
   "cell_type": "markdown",
   "metadata": {},
   "source": [
    "These results show that we are able to predict the fatal accidents and the model can be used to predict the risk for fatal accident in the future. However, we beleive that these results can be improved in many ways, for example by using the whole dataset, tuning XGBoost properly, or adding interaction terms."
   ]
  },
  {
   "cell_type": "code",
   "execution_count": null,
   "metadata": {},
   "outputs": [],
   "source": [
    "# from numbers import Number\n",
    "# from scipy import stats\n",
    "\n",
    "# var_list = ['C_YEAR','C_MNTH','C_WDAY','C_HOUR','C_VEHS','C_CONF','C_RCFG','C_WTHR','C_RSUR','C_RALN','C_TRAF',\n",
    "# 'V_ID','V_TYPE','V_YEAR','P_ID','P_SEX','P_AGE','P_PSN','P_ISEV','P_SAFE','P_USER']\n",
    " \n",
    "# CHI2 = []\n",
    "# P =[]\n",
    "# Variable =[]\n",
    "\n",
    "# for k in var_list:\n",
    "#     table = pd.crosstab(df['C_SEV'], df[k])\n",
    "#     chi2, p, dof, expected = stats.chi2_contingency(table.values)\n",
    "#     Variable.append(k)\n",
    "#     CHI2.append(chi2)\n",
    "#     P.append(p)\n",
    "    \n",
    "# pd.DataFrame({'Variable': Variable, 'Chi-Square':CHI2, 'P-Value':P })"
   ]
  }
 ],
 "metadata": {
  "kernelspec": {
   "display_name": "Python 3",
   "language": "python",
   "name": "python3"
  },
  "language_info": {
   "codemirror_mode": {
    "name": "ipython",
    "version": 3
   },
   "file_extension": ".py",
   "mimetype": "text/x-python",
   "name": "python",
   "nbconvert_exporter": "python",
   "pygments_lexer": "ipython3",
   "version": "3.7.3"
  }
 },
 "nbformat": 4,
 "nbformat_minor": 2
}
