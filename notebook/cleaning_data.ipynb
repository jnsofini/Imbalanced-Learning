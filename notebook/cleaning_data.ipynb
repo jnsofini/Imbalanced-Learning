{
 "cells": [
  {
   "cell_type": "markdown",
   "metadata": {},
   "source": [
    "# Data cleaning"
   ]
  },
  {
   "cell_type": "markdown",
   "metadata": {},
   "source": [
    "##  Imports"
   ]
  },
  {
   "cell_type": "code",
   "execution_count": 2,
   "metadata": {},
   "outputs": [],
   "source": [
    "%load_ext autoreload\n",
    "%autoreload 2\n",
    "# Ignore deprecated warning\n",
    "import warnings\n",
    "warnings.filterwarnings(\"ignore\")\n",
    "\n",
    "# Pandas and numpy for data manipulation\n",
    "import pandas as pd\n",
    "import numpy as np\n",
    "\n",
    "# Matplotlib  for data visualization\n",
    "import matplotlib.pyplot as plt\n",
    "import seaborn as sns\n",
    "\n",
    "# Set font scale and style\n",
    "sns.set(font_scale = 1.5)\n",
    "sns.set_style('ticks')\n",
    "sns.set()\n",
    "\n",
    "%matplotlib inline"
   ]
  },
  {
   "cell_type": "markdown",
   "metadata": {},
   "source": [
    "##  Load original data"
   ]
  },
  {
   "cell_type": "code",
   "execution_count": 3,
   "metadata": {},
   "outputs": [
    {
     "name": "stdout",
     "output_type": "stream",
     "text": [
      "CPU times: user 3 µs, sys: 0 ns, total: 3 µs\n",
      "Wall time: 6.2 µs\n"
     ]
    }
   ],
   "source": [
    "df = pd.read_csv('../raw_data/NCDB_1999_to_2017.csv')\n",
    "%time"
   ]
  },
  {
   "cell_type": "code",
   "execution_count": 4,
   "metadata": {},
   "outputs": [
    {
     "data": {
      "text/html": [
       "<div>\n",
       "<style scoped>\n",
       "    .dataframe tbody tr th:only-of-type {\n",
       "        vertical-align: middle;\n",
       "    }\n",
       "\n",
       "    .dataframe tbody tr th {\n",
       "        vertical-align: top;\n",
       "    }\n",
       "\n",
       "    .dataframe thead th {\n",
       "        text-align: right;\n",
       "    }\n",
       "</style>\n",
       "<table border=\"1\" class=\"dataframe\">\n",
       "  <thead>\n",
       "    <tr style=\"text-align: right;\">\n",
       "      <th></th>\n",
       "      <th>C_YEAR</th>\n",
       "      <th>C_MNTH</th>\n",
       "      <th>C_WDAY</th>\n",
       "      <th>C_HOUR</th>\n",
       "      <th>C_SEV</th>\n",
       "      <th>C_VEHS</th>\n",
       "      <th>C_CONF</th>\n",
       "      <th>C_RCFG</th>\n",
       "      <th>C_WTHR</th>\n",
       "      <th>C_RSUR</th>\n",
       "      <th>...</th>\n",
       "      <th>V_TYPE</th>\n",
       "      <th>V_YEAR</th>\n",
       "      <th>P_ID</th>\n",
       "      <th>P_SEX</th>\n",
       "      <th>P_AGE</th>\n",
       "      <th>P_PSN</th>\n",
       "      <th>P_ISEV</th>\n",
       "      <th>P_SAFE</th>\n",
       "      <th>P_USER</th>\n",
       "      <th>C_CASE</th>\n",
       "    </tr>\n",
       "  </thead>\n",
       "  <tbody>\n",
       "    <tr>\n",
       "      <td>0</td>\n",
       "      <td>1999</td>\n",
       "      <td>1</td>\n",
       "      <td>1</td>\n",
       "      <td>20</td>\n",
       "      <td>2</td>\n",
       "      <td>02</td>\n",
       "      <td>34</td>\n",
       "      <td>UU</td>\n",
       "      <td>1</td>\n",
       "      <td>5</td>\n",
       "      <td>...</td>\n",
       "      <td>06</td>\n",
       "      <td>1990</td>\n",
       "      <td>01</td>\n",
       "      <td>M</td>\n",
       "      <td>41</td>\n",
       "      <td>11</td>\n",
       "      <td>1</td>\n",
       "      <td>UU</td>\n",
       "      <td>1</td>\n",
       "      <td>752</td>\n",
       "    </tr>\n",
       "    <tr>\n",
       "      <td>1</td>\n",
       "      <td>1999</td>\n",
       "      <td>1</td>\n",
       "      <td>1</td>\n",
       "      <td>20</td>\n",
       "      <td>2</td>\n",
       "      <td>02</td>\n",
       "      <td>34</td>\n",
       "      <td>UU</td>\n",
       "      <td>1</td>\n",
       "      <td>5</td>\n",
       "      <td>...</td>\n",
       "      <td>01</td>\n",
       "      <td>1987</td>\n",
       "      <td>01</td>\n",
       "      <td>M</td>\n",
       "      <td>19</td>\n",
       "      <td>11</td>\n",
       "      <td>1</td>\n",
       "      <td>UU</td>\n",
       "      <td>1</td>\n",
       "      <td>752</td>\n",
       "    </tr>\n",
       "    <tr>\n",
       "      <td>2</td>\n",
       "      <td>1999</td>\n",
       "      <td>1</td>\n",
       "      <td>1</td>\n",
       "      <td>20</td>\n",
       "      <td>2</td>\n",
       "      <td>02</td>\n",
       "      <td>34</td>\n",
       "      <td>UU</td>\n",
       "      <td>1</td>\n",
       "      <td>5</td>\n",
       "      <td>...</td>\n",
       "      <td>01</td>\n",
       "      <td>1987</td>\n",
       "      <td>02</td>\n",
       "      <td>F</td>\n",
       "      <td>20</td>\n",
       "      <td>13</td>\n",
       "      <td>2</td>\n",
       "      <td>02</td>\n",
       "      <td>2</td>\n",
       "      <td>752</td>\n",
       "    </tr>\n",
       "    <tr>\n",
       "      <td>3</td>\n",
       "      <td>1999</td>\n",
       "      <td>1</td>\n",
       "      <td>1</td>\n",
       "      <td>08</td>\n",
       "      <td>2</td>\n",
       "      <td>01</td>\n",
       "      <td>01</td>\n",
       "      <td>UU</td>\n",
       "      <td>5</td>\n",
       "      <td>3</td>\n",
       "      <td>...</td>\n",
       "      <td>01</td>\n",
       "      <td>1986</td>\n",
       "      <td>01</td>\n",
       "      <td>M</td>\n",
       "      <td>46</td>\n",
       "      <td>11</td>\n",
       "      <td>1</td>\n",
       "      <td>UU</td>\n",
       "      <td>1</td>\n",
       "      <td>753</td>\n",
       "    </tr>\n",
       "    <tr>\n",
       "      <td>4</td>\n",
       "      <td>1999</td>\n",
       "      <td>1</td>\n",
       "      <td>1</td>\n",
       "      <td>08</td>\n",
       "      <td>2</td>\n",
       "      <td>01</td>\n",
       "      <td>01</td>\n",
       "      <td>UU</td>\n",
       "      <td>5</td>\n",
       "      <td>3</td>\n",
       "      <td>...</td>\n",
       "      <td>NN</td>\n",
       "      <td>NNNN</td>\n",
       "      <td>01</td>\n",
       "      <td>M</td>\n",
       "      <td>05</td>\n",
       "      <td>99</td>\n",
       "      <td>2</td>\n",
       "      <td>UU</td>\n",
       "      <td>3</td>\n",
       "      <td>753</td>\n",
       "    </tr>\n",
       "  </tbody>\n",
       "</table>\n",
       "<p>5 rows × 23 columns</p>\n",
       "</div>"
      ],
      "text/plain": [
       "   C_YEAR C_MNTH C_WDAY C_HOUR  C_SEV C_VEHS C_CONF C_RCFG C_WTHR C_RSUR  ...  \\\n",
       "0    1999      1      1     20      2     02     34     UU      1      5  ...   \n",
       "1    1999      1      1     20      2     02     34     UU      1      5  ...   \n",
       "2    1999      1      1     20      2     02     34     UU      1      5  ...   \n",
       "3    1999      1      1     08      2     01     01     UU      5      3  ...   \n",
       "4    1999      1      1     08      2     01     01     UU      5      3  ...   \n",
       "\n",
       "  V_TYPE V_YEAR P_ID P_SEX P_AGE P_PSN P_ISEV P_SAFE P_USER C_CASE  \n",
       "0     06   1990   01     M    41    11      1     UU      1    752  \n",
       "1     01   1987   01     M    19    11      1     UU      1    752  \n",
       "2     01   1987   02     F    20    13      2     02      2    752  \n",
       "3     01   1986   01     M    46    11      1     UU      1    753  \n",
       "4     NN   NNNN   01     M    05    99      2     UU      3    753  \n",
       "\n",
       "[5 rows x 23 columns]"
      ]
     },
     "execution_count": 4,
     "metadata": {},
     "output_type": "execute_result"
    }
   ],
   "source": [
    "df.head()"
   ]
  },
  {
   "cell_type": "markdown",
   "metadata": {},
   "source": [
    "Please note that in each attribute the values with U, UU, UUU, UUUU represent Unknown. X, XX, XXX, XXXX represent Jurisdiction does not provide this data element. Q, QQ, QQQ, QQQQ represent Choice is other than the preceding values.  N, NN, NNN, NNNN represent Data element is not applicable. Please see the explanatory docx file in the Data folder for a full explanation of the attributes and their values."
   ]
  },
  {
   "cell_type": "code",
   "execution_count": 5,
   "metadata": {},
   "outputs": [],
   "source": [
    "# Rename the class variable\n",
    "df =df.rename(columns ={'C_SEV':'FATAL'})"
   ]
  },
  {
   "cell_type": "code",
   "execution_count": 6,
   "metadata": {},
   "outputs": [
    {
     "data": {
      "text/plain": [
       "(6772563, 23)"
      ]
     },
     "execution_count": 6,
     "metadata": {},
     "output_type": "execute_result"
    }
   ],
   "source": [
    "# Data shape\n",
    "df.shape"
   ]
  },
  {
   "cell_type": "code",
   "execution_count": 7,
   "metadata": {},
   "outputs": [
    {
     "name": "stdout",
     "output_type": "stream",
     "text": [
      "<class 'pandas.core.frame.DataFrame'>\n",
      "RangeIndex: 6772563 entries, 0 to 6772562\n",
      "Data columns (total 23 columns):\n",
      "C_YEAR    int64\n",
      "C_MNTH    object\n",
      "C_WDAY    object\n",
      "C_HOUR    object\n",
      "FATAL     int64\n",
      "C_VEHS    object\n",
      "C_CONF    object\n",
      "C_RCFG    object\n",
      "C_WTHR    object\n",
      "C_RSUR    object\n",
      "C_RALN    object\n",
      "C_TRAF    object\n",
      "V_ID      object\n",
      "V_TYPE    object\n",
      "V_YEAR    object\n",
      "P_ID      object\n",
      "P_SEX     object\n",
      "P_AGE     object\n",
      "P_PSN     object\n",
      "P_ISEV    object\n",
      "P_SAFE    object\n",
      "P_USER    object\n",
      "C_CASE    int64\n",
      "dtypes: int64(3), object(20)\n",
      "memory usage: 1.2+ GB\n"
     ]
    }
   ],
   "source": [
    "# Data types and missing values\n",
    "df.info()"
   ]
  },
  {
   "cell_type": "markdown",
   "metadata": {},
   "source": [
    "- There are only 3 numerical attributes out of 23 attributes."
   ]
  },
  {
   "cell_type": "markdown",
   "metadata": {},
   "source": [
    "The data show no missing values because some of the attributes contain inconsistent formats like U, X, N, and Q as stated above. "
   ]
  },
  {
   "cell_type": "code",
   "execution_count": 8,
   "metadata": {},
   "outputs": [],
   "source": [
    "# Replace letters with numpy nan\n",
    "letter_list = ['U', 'UU', 'UUU', 'UUUU', 'Q', 'QQ', 'QQQ', 'QQQQ', \n",
    "               'N', 'NN', 'NNN', 'NNNN', 'X', 'XX', 'XXX', 'XXXX']\n",
    "df = df.replace(letter_list, np.nan)"
   ]
  },
  {
   "cell_type": "code",
   "execution_count": 9,
   "metadata": {},
   "outputs": [
    {
     "name": "stdout",
     "output_type": "stream",
     "text": [
      "<class 'pandas.core.frame.DataFrame'>\n",
      "RangeIndex: 6772563 entries, 0 to 6772562\n",
      "Data columns (total 23 columns):\n",
      "C_YEAR    int64\n",
      "C_MNTH    object\n",
      "C_WDAY    object\n",
      "C_HOUR    object\n",
      "FATAL     int64\n",
      "C_VEHS    object\n",
      "C_CONF    object\n",
      "C_RCFG    object\n",
      "C_WTHR    object\n",
      "C_RSUR    object\n",
      "C_RALN    object\n",
      "C_TRAF    object\n",
      "V_ID      object\n",
      "V_TYPE    object\n",
      "V_YEAR    object\n",
      "P_ID      object\n",
      "P_SEX     object\n",
      "P_AGE     object\n",
      "P_PSN     object\n",
      "P_ISEV    object\n",
      "P_SAFE    object\n",
      "P_USER    object\n",
      "C_CASE    int64\n",
      "dtypes: int64(3), object(20)\n",
      "memory usage: 1.2+ GB\n"
     ]
    }
   ],
   "source": [
    "df.info()"
   ]
  },
  {
   "cell_type": "code",
   "execution_count": 10,
   "metadata": {
    "scrolled": false
   },
   "outputs": [
    {
     "data": {
      "text/html": [
       "<div>\n",
       "<style scoped>\n",
       "    .dataframe tbody tr th:only-of-type {\n",
       "        vertical-align: middle;\n",
       "    }\n",
       "\n",
       "    .dataframe tbody tr th {\n",
       "        vertical-align: top;\n",
       "    }\n",
       "\n",
       "    .dataframe thead th {\n",
       "        text-align: right;\n",
       "    }\n",
       "</style>\n",
       "<table border=\"1\" class=\"dataframe\">\n",
       "  <thead>\n",
       "    <tr style=\"text-align: right;\">\n",
       "      <th></th>\n",
       "      <th>Variable</th>\n",
       "      <th>Percentage of missing values</th>\n",
       "    </tr>\n",
       "  </thead>\n",
       "  <tbody>\n",
       "    <tr>\n",
       "      <td>20</td>\n",
       "      <td>P_SAFE</td>\n",
       "      <td>21.193838</td>\n",
       "    </tr>\n",
       "    <tr>\n",
       "      <td>7</td>\n",
       "      <td>C_RCFG</td>\n",
       "      <td>10.663408</td>\n",
       "    </tr>\n",
       "    <tr>\n",
       "      <td>14</td>\n",
       "      <td>V_YEAR</td>\n",
       "      <td>9.899945</td>\n",
       "    </tr>\n",
       "    <tr>\n",
       "      <td>6</td>\n",
       "      <td>C_CONF</td>\n",
       "      <td>8.005655</td>\n",
       "    </tr>\n",
       "    <tr>\n",
       "      <td>10</td>\n",
       "      <td>C_RALN</td>\n",
       "      <td>7.525290</td>\n",
       "    </tr>\n",
       "    <tr>\n",
       "      <td>17</td>\n",
       "      <td>P_AGE</td>\n",
       "      <td>6.762344</td>\n",
       "    </tr>\n",
       "    <tr>\n",
       "      <td>19</td>\n",
       "      <td>P_ISEV</td>\n",
       "      <td>6.414484</td>\n",
       "    </tr>\n",
       "    <tr>\n",
       "      <td>11</td>\n",
       "      <td>C_TRAF</td>\n",
       "      <td>5.314738</td>\n",
       "    </tr>\n",
       "    <tr>\n",
       "      <td>13</td>\n",
       "      <td>V_TYPE</td>\n",
       "      <td>4.903092</td>\n",
       "    </tr>\n",
       "    <tr>\n",
       "      <td>16</td>\n",
       "      <td>P_SEX</td>\n",
       "      <td>4.492007</td>\n",
       "    </tr>\n",
       "    <tr>\n",
       "      <td>9</td>\n",
       "      <td>C_RSUR</td>\n",
       "      <td>4.110630</td>\n",
       "    </tr>\n",
       "    <tr>\n",
       "      <td>21</td>\n",
       "      <td>P_USER</td>\n",
       "      <td>3.262000</td>\n",
       "    </tr>\n",
       "    <tr>\n",
       "      <td>18</td>\n",
       "      <td>P_PSN</td>\n",
       "      <td>2.000173</td>\n",
       "    </tr>\n",
       "    <tr>\n",
       "      <td>8</td>\n",
       "      <td>C_WTHR</td>\n",
       "      <td>1.708925</td>\n",
       "    </tr>\n",
       "    <tr>\n",
       "      <td>3</td>\n",
       "      <td>C_HOUR</td>\n",
       "      <td>0.979496</td>\n",
       "    </tr>\n",
       "    <tr>\n",
       "      <td>15</td>\n",
       "      <td>P_ID</td>\n",
       "      <td>0.262353</td>\n",
       "    </tr>\n",
       "    <tr>\n",
       "      <td>2</td>\n",
       "      <td>C_WDAY</td>\n",
       "      <td>0.020140</td>\n",
       "    </tr>\n",
       "    <tr>\n",
       "      <td>5</td>\n",
       "      <td>C_VEHS</td>\n",
       "      <td>0.008372</td>\n",
       "    </tr>\n",
       "    <tr>\n",
       "      <td>12</td>\n",
       "      <td>V_ID</td>\n",
       "      <td>0.006940</td>\n",
       "    </tr>\n",
       "    <tr>\n",
       "      <td>1</td>\n",
       "      <td>C_MNTH</td>\n",
       "      <td>0.006275</td>\n",
       "    </tr>\n",
       "    <tr>\n",
       "      <td>0</td>\n",
       "      <td>C_YEAR</td>\n",
       "      <td>0.000000</td>\n",
       "    </tr>\n",
       "    <tr>\n",
       "      <td>4</td>\n",
       "      <td>FATAL</td>\n",
       "      <td>0.000000</td>\n",
       "    </tr>\n",
       "    <tr>\n",
       "      <td>22</td>\n",
       "      <td>C_CASE</td>\n",
       "      <td>0.000000</td>\n",
       "    </tr>\n",
       "  </tbody>\n",
       "</table>\n",
       "</div>"
      ],
      "text/plain": [
       "   Variable  Percentage of missing values\n",
       "20   P_SAFE                     21.193838\n",
       "7    C_RCFG                     10.663408\n",
       "14   V_YEAR                      9.899945\n",
       "6    C_CONF                      8.005655\n",
       "10   C_RALN                      7.525290\n",
       "17    P_AGE                      6.762344\n",
       "19   P_ISEV                      6.414484\n",
       "11   C_TRAF                      5.314738\n",
       "13   V_TYPE                      4.903092\n",
       "16    P_SEX                      4.492007\n",
       "9    C_RSUR                      4.110630\n",
       "21   P_USER                      3.262000\n",
       "18    P_PSN                      2.000173\n",
       "8    C_WTHR                      1.708925\n",
       "3    C_HOUR                      0.979496\n",
       "15     P_ID                      0.262353\n",
       "2    C_WDAY                      0.020140\n",
       "5    C_VEHS                      0.008372\n",
       "12     V_ID                      0.006940\n",
       "1    C_MNTH                      0.006275\n",
       "0    C_YEAR                      0.000000\n",
       "4     FATAL                      0.000000\n",
       "22   C_CASE                      0.000000"
      ]
     },
     "execution_count": 10,
     "metadata": {},
     "output_type": "execute_result"
    }
   ],
   "source": [
    "# Percentage of missing values\n",
    "missing_values = (df.isnull().sum()/df.shape[0])*100\n",
    "\n",
    "# Create a dataframe of missing values\n",
    "Missing_df =pd.DataFrame({'Variable': missing_values.index, \n",
    "                          'Percentage of missing values': missing_values.values})\n",
    "Missing_df.sort_values(by = 'Percentage of missing values', ascending = False)"
   ]
  },
  {
   "cell_type": "markdown",
   "metadata": {},
   "source": [
    "- Indeed, there are lots of missing values in the attributes.\n",
    "\n",
    "- P_SAFE has the largest percentage of missing values followed by C_RCFG\n",
    "\n",
    "- There are no missing values in C_YEAR,  C_CASE, and FATAL (class variable), "
   ]
  },
  {
   "cell_type": "markdown",
   "metadata": {},
   "source": [
    "##  Convert variables to the correct format"
   ]
  },
  {
   "cell_type": "markdown",
   "metadata": {},
   "source": [
    "Based on the data information, there are many categorical variables encoded as numbers. We will now convert them  to the correct description to better understand the data"
   ]
  },
  {
   "cell_type": "markdown",
   "metadata": {},
   "source": [
    "### Day of week"
   ]
  },
  {
   "cell_type": "code",
   "execution_count": 11,
   "metadata": {},
   "outputs": [
    {
     "data": {
      "text/plain": [
       "array([1, 2, 3, 4, 5, 6, 7, '7', nan, '1', '2', '3', '4', '5', '6'],\n",
       "      dtype=object)"
      ]
     },
     "execution_count": 11,
     "metadata": {},
     "output_type": "execute_result"
    }
   ],
   "source": [
    "df.C_WDAY.unique()"
   ]
  },
  {
   "cell_type": "code",
   "execution_count": 12,
   "metadata": {},
   "outputs": [],
   "source": [
    "week_dict = {'1': 'Monday','2': 'Tuesday','3':'Wednesday','4':'Thursday',\n",
    "             '5':'Friday', '6': 'Saturday', '7':'Sunday',1: 'Monday',2: 'Tuesday',3:'Wednesday',\n",
    "             4:'Thursday',5:'Friday', 6: 'Saturday', 7:'Sunday'} "
   ]
  },
  {
   "cell_type": "code",
   "execution_count": 13,
   "metadata": {},
   "outputs": [],
   "source": [
    "df['C_WDAY'] = df['C_WDAY'].replace(week_dict) "
   ]
  },
  {
   "cell_type": "code",
   "execution_count": 14,
   "metadata": {},
   "outputs": [
    {
     "data": {
      "text/plain": [
       "Friday       1153400\n",
       "Thursday     1009100\n",
       "Saturday      993132\n",
       "Wednesday     957246\n",
       "Tuesday       947966\n",
       "Monday        898879\n",
       "Sunday        811476\n",
       "Name: C_WDAY, dtype: int64"
      ]
     },
     "execution_count": 14,
     "metadata": {},
     "output_type": "execute_result"
    }
   ],
   "source": [
    "df.C_WDAY.value_counts()"
   ]
  },
  {
   "cell_type": "markdown",
   "metadata": {},
   "source": [
    "### Month of the year"
   ]
  },
  {
   "cell_type": "code",
   "execution_count": 15,
   "metadata": {
    "scrolled": true
   },
   "outputs": [
    {
     "data": {
      "text/plain": [
       "array([1, 2, 3, 4, 5, 6, 7, 8, 9, 10, 11, 12, '12', nan, '01', '02', '11'],\n",
       "      dtype=object)"
      ]
     },
     "execution_count": 15,
     "metadata": {},
     "output_type": "execute_result"
    }
   ],
   "source": [
    "df.C_MNTH.unique()"
   ]
  },
  {
   "cell_type": "code",
   "execution_count": 16,
   "metadata": {},
   "outputs": [],
   "source": [
    "month_dict = {1: 'January', '01': 'January', 2: 'February','02': 'February',3: 'March', 4: 'April',\n",
    "             5:'May', 6: 'June', 7: 'July',8: 'August', 9: 'September',10: 'october', 11: 'November',\n",
    "              '11': 'November', 12: 'December', '12': 'December'}"
   ]
  },
  {
   "cell_type": "code",
   "execution_count": 17,
   "metadata": {},
   "outputs": [],
   "source": [
    "df['C_MNTH'] = df['C_MNTH'].replace(month_dict)"
   ]
  },
  {
   "cell_type": "code",
   "execution_count": 18,
   "metadata": {},
   "outputs": [
    {
     "data": {
      "text/plain": [
       "August       630176\n",
       "July         622086\n",
       "December     607295\n",
       "June         600337\n",
       "october      596323\n",
       "September    593307\n",
       "November     578503\n",
       "January      575882\n",
       "May          541602\n",
       "February     492727\n",
       "March        481139\n",
       "April        452761\n",
       "Name: C_MNTH, dtype: int64"
      ]
     },
     "execution_count": 18,
     "metadata": {},
     "output_type": "execute_result"
    }
   ],
   "source": [
    "df.C_MNTH.value_counts()"
   ]
  },
  {
   "cell_type": "markdown",
   "metadata": {},
   "source": [
    "- Also the months are encoded as integers  ranging from 1 to 12"
   ]
  },
  {
   "cell_type": "markdown",
   "metadata": {},
   "source": [
    "### Collision hour"
   ]
  },
  {
   "cell_type": "code",
   "execution_count": 19,
   "metadata": {
    "scrolled": true
   },
   "outputs": [
    {
     "data": {
      "text/plain": [
       "array(['20', '08', '17', '15', '14', '01', '11', '13', '19', '16', '09',\n",
       "       '02', '18', '12', '10', '23', '00', '06', '07', '21', nan, '05',\n",
       "       '22', '03', '04'], dtype=object)"
      ]
     },
     "execution_count": 19,
     "metadata": {},
     "output_type": "execute_result"
    }
   ],
   "source": [
    "df.C_HOUR.unique()"
   ]
  },
  {
   "cell_type": "markdown",
   "metadata": {},
   "source": [
    "We will convert hour to numeric"
   ]
  },
  {
   "cell_type": "code",
   "execution_count": 20,
   "metadata": {},
   "outputs": [],
   "source": [
    "df['C_HOUR'] = pd.to_numeric(df['C_HOUR'], errors = 'coerce')"
   ]
  },
  {
   "cell_type": "code",
   "execution_count": 21,
   "metadata": {},
   "outputs": [
    {
     "data": {
      "text/plain": [
       "dtype('float64')"
      ]
     },
     "execution_count": 21,
     "metadata": {},
     "output_type": "execute_result"
    }
   ],
   "source": [
    "df.C_HOUR.dtypes"
   ]
  },
  {
   "cell_type": "markdown",
   "metadata": {},
   "source": [
    "### Number of vehicles involved in collision"
   ]
  },
  {
   "cell_type": "code",
   "execution_count": 22,
   "metadata": {
    "scrolled": true
   },
   "outputs": [
    {
     "data": {
      "text/plain": [
       "array(['02', '01', '03', '04', '06', '07', '09', nan, '05', '13', '08',\n",
       "       '12', '14', '10', '11', '16', 1, 2, 3, 4, 5, 6, 8, 7, 12, 10, '26',\n",
       "       '71', 19, 25, 9, '21', '27', '15', '35', 15, 13, 26, '22', '41',\n",
       "       27, 46, 31, 11, '18', 18, 56, '23', 36, 17, 14, 20, 21, '19', 16,\n",
       "       '29', '25', 77, 28, 38, '38', '17', '32', 35, 22, 33, '54', 72,\n",
       "       '40', 44, 58, '30', '77', '20', '24', '34', 24, 39, '51', 57, 43,\n",
       "       37, 47], dtype=object)"
      ]
     },
     "execution_count": 22,
     "metadata": {},
     "output_type": "execute_result"
    }
   ],
   "source": [
    "df.C_VEHS.unique()"
   ]
  },
  {
   "cell_type": "markdown",
   "metadata": {},
   "source": [
    "The number of vehicles involved in an accident contains inconsistent numbering, e.g '01', '02', and so on. We  will correct this typos and convert the attribute to numeric"
   ]
  },
  {
   "cell_type": "code",
   "execution_count": 23,
   "metadata": {},
   "outputs": [],
   "source": [
    "df['C_VEHS'] = df['C_VEHS'].replace(['01','02','03','04','05','06','07','08','09'],\n",
    "                                   [1,2,3,4,5,6,7,8,9])"
   ]
  },
  {
   "cell_type": "code",
   "execution_count": 24,
   "metadata": {},
   "outputs": [],
   "source": [
    "df['C_VEHS'] = pd.to_numeric(df['C_VEHS'],errors = 'coerce')"
   ]
  },
  {
   "cell_type": "code",
   "execution_count": 25,
   "metadata": {},
   "outputs": [
    {
     "data": {
      "text/plain": [
       "dtype('float64')"
      ]
     },
     "execution_count": 25,
     "metadata": {},
     "output_type": "execute_result"
    }
   ],
   "source": [
    "df.C_VEHS.dtypes"
   ]
  },
  {
   "cell_type": "markdown",
   "metadata": {},
   "source": [
    "### Collision configuration"
   ]
  },
  {
   "cell_type": "code",
   "execution_count": 26,
   "metadata": {},
   "outputs": [
    {
     "data": {
      "text/plain": [
       "array(['34', '01', nan, '04', '31', '21', '23', '03', '02', '33', '24',\n",
       "       '35', '41', '06', '32', '36', '05', '22', '25'], dtype=object)"
      ]
     },
     "execution_count": 26,
     "metadata": {},
     "output_type": "execute_result"
    }
   ],
   "source": [
    "df.C_CONF.unique()"
   ]
  },
  {
   "cell_type": "code",
   "execution_count": 27,
   "metadata": {},
   "outputs": [],
   "source": [
    "coll_dict = {'01': 'Hit a moving object', '02': 'Hit a stationary object', '03': 'Ran off left shoulder',\n",
    "                 '04': 'Ran off right shoulder', '05': 'Rollover on roadway', '06': 'Any other single-vehicle ',\n",
    "                 '34': 'Right turn', '31': 'Head-on collision', '21': 'Rear-end collision', \n",
    "                  '23': 'left turn conflict', '33': 'Left turn across opposing traffic',\n",
    "                 '24': 'right turn conflict', '35': 'Right angle collision', '41': 'Hit a parked motor vehicle',\n",
    "                 '32': 'Approaching side-swipe', \n",
    "                  '36': 'Any other two-vehicle - different direction', '22': 'Side swipe', \n",
    "                  '25': 'Any other two-vehicle - same direction'}"
   ]
  },
  {
   "cell_type": "code",
   "execution_count": 28,
   "metadata": {},
   "outputs": [],
   "source": [
    "df['C_CONF'] = df['C_CONF'].replace(coll_dict)"
   ]
  },
  {
   "cell_type": "code",
   "execution_count": 29,
   "metadata": {},
   "outputs": [
    {
     "data": {
      "text/plain": [
       "Rear-end collision                             2048320\n",
       "Right angle collision                           994411\n",
       "Any other single-vehicle                        596787\n",
       "Any other two-vehicle - different direction     513154\n",
       "Left turn across opposing traffic               488067\n",
       "Ran off right shoulder                          245537\n",
       "Side swipe                                      226425\n",
       "Hit a stationary object                         221884\n",
       "Head-on collision                               221694\n",
       "Ran off left shoulder                           187277\n",
       "Hit a moving object                             100895\n",
       "Hit a parked motor vehicle                       92856\n",
       "left turn conflict                               79588\n",
       "Right turn                                       67121\n",
       "right turn conflict                              60441\n",
       "Approaching side-swipe                           56643\n",
       "Rollover on roadway                              15359\n",
       "Any other two-vehicle - same direction           13916\n",
       "Name: C_CONF, dtype: int64"
      ]
     },
     "execution_count": 29,
     "metadata": {},
     "output_type": "execute_result"
    }
   ],
   "source": [
    "df.C_CONF.value_counts()"
   ]
  },
  {
   "cell_type": "markdown",
   "metadata": {},
   "source": [
    "### Roadway configuration"
   ]
  },
  {
   "cell_type": "code",
   "execution_count": 30,
   "metadata": {
    "scrolled": true
   },
   "outputs": [
    {
     "data": {
      "text/plain": [
       "array([nan, '01', '02', '03', '05', '04', '06', '08', '07', '09', '10'],\n",
       "      dtype=object)"
      ]
     },
     "execution_count": 30,
     "metadata": {},
     "output_type": "execute_result"
    }
   ],
   "source": [
    "df.C_RCFG.unique()"
   ]
  },
  {
   "cell_type": "code",
   "execution_count": 31,
   "metadata": {},
   "outputs": [],
   "source": [
    "roadway_dict = {'01': 'Non-intersection', '02':'At an intersection', \n",
    "                '03': 'Intersection with parking lot entrance', '04': 'Railroad level crossing',\n",
    "               '05': 'Bridge, overpass, viaduct', '06': 'Tunnel or underpass', '07': 'Passing or climbing lane',\n",
    "               '08': 'Ramp', '09': 'Traffic circle', '10': 'Express lane of a freeway system'}"
   ]
  },
  {
   "cell_type": "code",
   "execution_count": 32,
   "metadata": {},
   "outputs": [],
   "source": [
    "df['C_RCFG'] = df['C_RCFG'].replace(roadway_dict)"
   ]
  },
  {
   "cell_type": "code",
   "execution_count": 33,
   "metadata": {},
   "outputs": [
    {
     "data": {
      "text/plain": [
       "At an intersection                        3164403\n",
       "Non-intersection                          2450730\n",
       "Intersection with parking lot entrance     323683\n",
       "Bridge, overpass, viaduct                   59411\n",
       "Railroad level crossing                     26325\n",
       "Ramp                                        14382\n",
       "Tunnel or underpass                          7020\n",
       "Traffic circle                               2662\n",
       "Passing or climbing lane                     1126\n",
       "Express lane of a freeway system              635\n",
       "Name: C_RCFG, dtype: int64"
      ]
     },
     "execution_count": 33,
     "metadata": {},
     "output_type": "execute_result"
    }
   ],
   "source": [
    "df.C_RCFG.value_counts()"
   ]
  },
  {
   "cell_type": "markdown",
   "metadata": {},
   "source": [
    "### Weather condition"
   ]
  },
  {
   "cell_type": "code",
   "execution_count": 34,
   "metadata": {},
   "outputs": [
    {
     "data": {
      "text/plain": [
       "array(['1', '5', '3', '4', '7', '2', nan, '6'], dtype=object)"
      ]
     },
     "execution_count": 34,
     "metadata": {},
     "output_type": "execute_result"
    }
   ],
   "source": [
    "df.C_WTHR.unique()"
   ]
  },
  {
   "cell_type": "code",
   "execution_count": 35,
   "metadata": {},
   "outputs": [],
   "source": [
    "wthr_dict = {'1': 'Clear and sunny', '2': 'Overcast, cloudy but no precipitation', '3': 'Raining',\n",
    "            '4': 'Snowing', '5': 'Freezing rain, sleet, hail', '6': 'Visibility limitation', '7': 'Strong wind'}"
   ]
  },
  {
   "cell_type": "code",
   "execution_count": 36,
   "metadata": {},
   "outputs": [],
   "source": [
    "df['C_WTHR'] = df['C_WTHR'].map(wthr_dict)"
   ]
  },
  {
   "cell_type": "code",
   "execution_count": 37,
   "metadata": {
    "scrolled": true
   },
   "outputs": [
    {
     "data": {
      "text/plain": [
       "Clear and sunny                          4733643\n",
       "Overcast, cloudy but no precipitation     686118\n",
       "Raining                                   682310\n",
       "Snowing                                   406111\n",
       "Visibility limitation                      95960\n",
       "Freezing rain, sleet, hail                 34864\n",
       "Strong wind                                17819\n",
       "Name: C_WTHR, dtype: int64"
      ]
     },
     "execution_count": 37,
     "metadata": {},
     "output_type": "execute_result"
    }
   ],
   "source": [
    "df.C_WTHR.value_counts()"
   ]
  },
  {
   "cell_type": "markdown",
   "metadata": {},
   "source": [
    "### Road surface"
   ]
  },
  {
   "cell_type": "code",
   "execution_count": 38,
   "metadata": {},
   "outputs": [
    {
     "data": {
      "text/plain": [
       "array(['5', '3', '2', '4', '1', '6', nan, '7', '9', '8'], dtype=object)"
      ]
     },
     "execution_count": 38,
     "metadata": {},
     "output_type": "execute_result"
    }
   ],
   "source": [
    "df.C_RSUR.unique()"
   ]
  },
  {
   "cell_type": "code",
   "execution_count": 39,
   "metadata": {},
   "outputs": [],
   "source": [
    "roadsur_dict = {'1':'Dry, normal', '2': 'Wet', '3': 'Snow', '4':'Slush', '5': 'Icy', '6':'Sand/gravel/dirt',\n",
    "               '7':'Muddy', '8': 'Oil', '9': 'Flooded'}"
   ]
  },
  {
   "cell_type": "code",
   "execution_count": 40,
   "metadata": {},
   "outputs": [],
   "source": [
    "df['C_RSUR'] = df['C_RSUR'].map(roadsur_dict)"
   ]
  },
  {
   "cell_type": "code",
   "execution_count": 41,
   "metadata": {},
   "outputs": [
    {
     "data": {
      "text/plain": [
       "Dry, normal         4472954\n",
       "Wet                 1230604\n",
       "Icy                  371520\n",
       "Snow                 296648\n",
       "Slush                 84944\n",
       "Sand/gravel/dirt      29058\n",
       "Muddy                  6626\n",
       "Oil                    1372\n",
       "Flooded                 442\n",
       "Name: C_RSUR, dtype: int64"
      ]
     },
     "execution_count": 41,
     "metadata": {},
     "output_type": "execute_result"
    }
   ],
   "source": [
    "df.C_RSUR.value_counts()"
   ]
  },
  {
   "cell_type": "markdown",
   "metadata": {},
   "source": [
    "### Road alignment"
   ]
  },
  {
   "cell_type": "code",
   "execution_count": 42,
   "metadata": {},
   "outputs": [
    {
     "data": {
      "text/plain": [
       "array(['3', '6', '1', nan, '2', '5', '4'], dtype=object)"
      ]
     },
     "execution_count": 42,
     "metadata": {},
     "output_type": "execute_result"
    }
   ],
   "source": [
    "df.C_RALN.unique()"
   ]
  },
  {
   "cell_type": "code",
   "execution_count": 43,
   "metadata": {},
   "outputs": [],
   "source": [
    "roadall_dist = {'1':'Straight and level', '2':'Straight with gradient', '3': 'Curved and level',\n",
    "               '4':'Curved with gradient', '5': 'Top of hill or gradient', '6': 'Bottom of hill or gradient'}"
   ]
  },
  {
   "cell_type": "code",
   "execution_count": 44,
   "metadata": {},
   "outputs": [],
   "source": [
    "df['C_RALN']= df['C_RALN'].replace(roadall_dist)"
   ]
  },
  {
   "cell_type": "code",
   "execution_count": 45,
   "metadata": {},
   "outputs": [
    {
     "data": {
      "text/plain": [
       "Straight and level            4847227\n",
       "Straight with gradient         663332\n",
       "Curved and level               415627\n",
       "Curved with gradient           252634\n",
       "Top of hill or gradient         48413\n",
       "Bottom of hill or gradient      35675\n",
       "Name: C_RALN, dtype: int64"
      ]
     },
     "execution_count": 45,
     "metadata": {},
     "output_type": "execute_result"
    }
   ],
   "source": [
    "df.C_RALN.value_counts()"
   ]
  },
  {
   "cell_type": "markdown",
   "metadata": {},
   "source": [
    "### Traffic control"
   ]
  },
  {
   "cell_type": "code",
   "execution_count": 46,
   "metadata": {},
   "outputs": [
    {
     "data": {
      "text/plain": [
       "array(['03', '18', '01', nan, '06', '10', '05', '04', '11', '07', '08',\n",
       "       '16', '17', '02', '13', '15', '09', '12'], dtype=object)"
      ]
     },
     "execution_count": 46,
     "metadata": {},
     "output_type": "execute_result"
    }
   ],
   "source": [
    "df.C_TRAF.unique()"
   ]
  },
  {
   "cell_type": "code",
   "execution_count": 47,
   "metadata": {},
   "outputs": [],
   "source": [
    "tracon_dict ={'01': 'Traffic signals fully operational', '02': 'Traffic signals in flashing mode',\n",
    "             '03': 'Stop sign', '04': 'Yield sign', '05':'Warning sign', '06':'Pedestrian crosswalk',\n",
    "             '07': 'Police officer', '08': 'School guard, flagman', '09': 'School crossing',\n",
    "              '10': 'Reduced speed zone', '11': 'No passing zone sign', '12': 'Markings on the road',\n",
    "             '13': 'School bus stopped with school bus signal lights flashing',\n",
    "             '15':'Railway crossing with signals, or signals and gates',\n",
    "             '16': 'Railway crossing with signs only',\n",
    "             '17': 'Control device not specified', '18': 'No control present'}\n",
    "df['C_TRAF'] = df['C_TRAF'].map(tracon_dict)"
   ]
  },
  {
   "cell_type": "code",
   "execution_count": 48,
   "metadata": {},
   "outputs": [
    {
     "data": {
      "text/plain": [
       "No control present                                           3518144\n",
       "Traffic signals fully operational                            1896178\n",
       "Stop sign                                                     755044\n",
       "Yield sign                                                    105989\n",
       "Pedestrian crosswalk                                           52653\n",
       "School guard, flagman                                          28073\n",
       "Traffic signals in flashing mode                               22208\n",
       "School bus stopped with school bus signal lights flashing       4929\n",
       "Warning sign                                                    4611\n",
       "Control device not specified                                    4572\n",
       "Railway crossing with signals, or signals and gates             4451\n",
       "Markings on the road                                            4399\n",
       "No passing zone sign                                            3863\n",
       "Reduced speed zone                                              3160\n",
       "Police officer                                                  2656\n",
       "Railway crossing with signs only                                1052\n",
       "School crossing                                                  637\n",
       "Name: C_TRAF, dtype: int64"
      ]
     },
     "execution_count": 48,
     "metadata": {},
     "output_type": "execute_result"
    }
   ],
   "source": [
    "df.C_TRAF.value_counts()"
   ]
  },
  {
   "cell_type": "markdown",
   "metadata": {},
   "source": [
    "### Vehicle sequence number"
   ]
  },
  {
   "cell_type": "code",
   "execution_count": 49,
   "metadata": {
    "scrolled": true
   },
   "outputs": [
    {
     "data": {
      "text/plain": [
       "array(['01', '02', '99', '03', '04', nan, '05', '06', '07', '08', '09',\n",
       "       '10', '11', '12', '13', '14', '15', '16', '17', '18', '19', '20',\n",
       "       '21', '22', '23', '24', '25', '26', '27', '28', '29', '30', '31',\n",
       "       '32', '33', '34', '35', '36', '37', '38', '39', '40', '41', '42',\n",
       "       '43', '44', '45', '46', '47', '48', '49', '50', '51', '52', '53',\n",
       "       '54', '55', '56', '57', '58', '59', '60', '61', '62', '63', '64',\n",
       "       '65', '66', '67', '68', '69', '70', '71', 2, 1, 99, 3, 4, 5, 6, 7,\n",
       "       8, 9, 10, 11, 12, 13, 14, 15, 16, 17, 18, 19, 20, 21, 22, 23, 24,\n",
       "       25, 26, 27, 28, 29, 30, 31, 32, 33, 34, 35, 36, 37, 38, 39, 40, 41,\n",
       "       '72', '73', '74', '83', '85', '86', '75', '76', '77', 42, 43, 44,\n",
       "       45, 46, 47, 48, 49, 51, 52, 50, 53, 54, 55, 56, 57], dtype=object)"
      ]
     },
     "execution_count": 49,
     "metadata": {},
     "output_type": "execute_result"
    }
   ],
   "source": [
    "df.V_ID.unique()"
   ]
  },
  {
   "cell_type": "markdown",
   "metadata": {},
   "source": [
    "There is a mismatch in the vehicle sequence number, e.g. '01' is 1, '02' is 2 and so on"
   ]
  },
  {
   "cell_type": "code",
   "execution_count": 50,
   "metadata": {},
   "outputs": [],
   "source": [
    "df['V_ID'] = df['V_ID'].replace(['01','02','03','04','05','06', '07','08','09'],\n",
    "                               [1,2,3,4,5,6,7,8,9])"
   ]
  },
  {
   "cell_type": "code",
   "execution_count": 51,
   "metadata": {},
   "outputs": [],
   "source": [
    "# Convert to numeric\n",
    "df['V_ID'] = pd.to_numeric(df['V_ID'], errors ='coerce')"
   ]
  },
  {
   "cell_type": "markdown",
   "metadata": {},
   "source": [
    "### Vehicle type"
   ]
  },
  {
   "cell_type": "code",
   "execution_count": 52,
   "metadata": {},
   "outputs": [
    {
     "data": {
      "text/plain": [
       "array(['06', '01', nan, '11', '20', '17', '07', '08', '09', '22', '14',\n",
       "       '23', '05', '16', '19', '18', '10', '21'], dtype=object)"
      ]
     },
     "execution_count": 52,
     "metadata": {},
     "output_type": "execute_result"
    }
   ],
   "source": [
    "df.V_TYPE.unique()"
   ]
  },
  {
   "cell_type": "code",
   "execution_count": 53,
   "metadata": {},
   "outputs": [],
   "source": [
    "vehtype_dict ={'01': 'Light Duty Vehicle', '06': 'Other trucks and vans', '11': 'Urban and Intercity Bus',\n",
    "              '20': 'Construction equipment', '17': 'Bicycle', '07': 'Unit trucks', '08': 'Road tractor',\n",
    "              '09': 'School bus', '22': 'Snowmobile', '14': 'Motorcycle and moped', '23': 'Street car',\n",
    "              '05': 'Panel/cargo van', '16': 'Off road vehicles', \n",
    "               '19': 'Farm equipment', '18': 'Purpose-built motorhome',\n",
    "              '10': 'Smaller school bus', '21': 'Fire engine'}\n",
    "df['V_TYPE'] = df['V_TYPE'].map(vehtype_dict)"
   ]
  },
  {
   "cell_type": "code",
   "execution_count": 54,
   "metadata": {},
   "outputs": [
    {
     "data": {
      "text/plain": [
       "Light Duty Vehicle         5581077\n",
       "Other trucks and vans       193087\n",
       "Motorcycle and moped        144140\n",
       "Bicycle                     141776\n",
       "Unit trucks                 101481\n",
       "Road tractor                 81219\n",
       "Panel/cargo van              75876\n",
       "Urban and Intercity Bus      59947\n",
       "School bus                   25546\n",
       "Off road vehicles            11135\n",
       "Construction equipment        8807\n",
       "Snowmobile                    5057\n",
       "Purpose-built motorhome       3540\n",
       "Street car                    3451\n",
       "Farm equipment                2323\n",
       "Smaller school bus            1087\n",
       "Fire engine                    949\n",
       "Name: V_TYPE, dtype: int64"
      ]
     },
     "execution_count": 54,
     "metadata": {},
     "output_type": "execute_result"
    }
   ],
   "source": [
    "df.V_TYPE.value_counts()"
   ]
  },
  {
   "cell_type": "markdown",
   "metadata": {},
   "source": [
    "### Vehicle model year"
   ]
  },
  {
   "cell_type": "code",
   "execution_count": 55,
   "metadata": {
    "scrolled": true
   },
   "outputs": [
    {
     "data": {
      "text/plain": [
       "array(['1990', '1987', '1986', nan, '1984', '1991', '1992', '1997',\n",
       "       '1993', '1985', '1988', '1994', '1995', '1998', '1989', '1996',\n",
       "       '1983', '1999', '1965', '1977', '1978', '1968', '1981', '1979',\n",
       "       '1976', '1972', '2000', '1982', '1975', '1973', '1974', '1980',\n",
       "       '1967', '1970', '1971', '1962', '1969', '1966', '1945', '1963',\n",
       "       '1960', '1950', '1964', '1959', '1955', '1958', '1903', '1909',\n",
       "       '1949', '1923', '1961', '1914', '1908', '1953', '1906', '1939',\n",
       "       '1925', '1948', '1938', '1907', '1952', '1904', '1917', '1912',\n",
       "       '1944', '1956', '1930', '1931', '1951', '1946', '1947', '1957',\n",
       "       '1954', '1943', '1901', '1937', '1905', '1935', '1926', '1941',\n",
       "       '1932', '1920', '1933', '1919', '1915', '1929', '1928', '2001',\n",
       "       '1913', '1940', '1927', '2002', '1916', '1942', '1918', '2003',\n",
       "       '1924', '1922', '1934', '2004', '2005', '2006', '2007', '2008',\n",
       "       '1911', '2009', '2010', '2011', '1936', '2012', '1910', '1921',\n",
       "       '2013', '2014', '2015', '2016', '2017', '2018'], dtype=object)"
      ]
     },
     "execution_count": 55,
     "metadata": {},
     "output_type": "execute_result"
    }
   ],
   "source": [
    "df.V_YEAR.unique()"
   ]
  },
  {
   "cell_type": "code",
   "execution_count": 56,
   "metadata": {},
   "outputs": [],
   "source": [
    "# Convert to numeric\n",
    "df['V_YEAR'] = pd.to_numeric(df['V_YEAR'], errors = 'coerce')"
   ]
  },
  {
   "cell_type": "code",
   "execution_count": 57,
   "metadata": {},
   "outputs": [
    {
     "data": {
      "text/plain": [
       "2000.0    341453\n",
       "2002.0    323150\n",
       "2003.0    317580\n",
       "1998.0    306083\n",
       "2001.0    300348\n",
       "Name: V_YEAR, dtype: int64"
      ]
     },
     "execution_count": 57,
     "metadata": {},
     "output_type": "execute_result"
    }
   ],
   "source": [
    "df['V_YEAR'].value_counts().head()"
   ]
  },
  {
   "cell_type": "markdown",
   "metadata": {},
   "source": [
    "### Person sequence ID"
   ]
  },
  {
   "cell_type": "code",
   "execution_count": 58,
   "metadata": {
    "scrolled": true
   },
   "outputs": [
    {
     "data": {
      "text/plain": [
       "array(['01', '02', '03', '04', '05', '06', nan, '07', '08', '09', '10',\n",
       "       '11', '12', '13', '14', '15', '16', '17', '18', '19', '20', '21',\n",
       "       '22', '23', '24', '25', '26', '27', '28', '29', '30', '31', '32',\n",
       "       '33', '34', '35', '36', '37', '38', '39', '40', '41', '42', '43',\n",
       "       '44', '45', '46', '47', '48', '49', '50', '51', '52', '53', '54',\n",
       "       '55', '56', '57', '58', '59', '60', '61', '62', '63', '64', '65',\n",
       "       '66', '67', '68', '69', '70', '71', '72', '73', '74', '75', '76',\n",
       "       '77', '78', '79', '80', '81', '82', '83', '84', '85', '86', '87',\n",
       "       '88', '89', '90', '91', '92', '93', '94', '95', '99'], dtype=object)"
      ]
     },
     "execution_count": 58,
     "metadata": {},
     "output_type": "execute_result"
    }
   ],
   "source": [
    "df.P_ID.unique()"
   ]
  },
  {
   "cell_type": "code",
   "execution_count": 59,
   "metadata": {},
   "outputs": [],
   "source": [
    "df['P_ID'] = df['P_ID'].replace(['01', '02','03','04','05','06','07','08','09'],\n",
    "                               [1,2,3,4,5,6,7,8,9])"
   ]
  },
  {
   "cell_type": "code",
   "execution_count": 60,
   "metadata": {},
   "outputs": [],
   "source": [
    "df['P_ID'] = pd.to_numeric(df['P_ID'], errors = 'coerce')"
   ]
  },
  {
   "cell_type": "code",
   "execution_count": 61,
   "metadata": {},
   "outputs": [
    {
     "data": {
      "text/plain": [
       "dtype('float64')"
      ]
     },
     "execution_count": 61,
     "metadata": {},
     "output_type": "execute_result"
    }
   ],
   "source": [
    "df.P_ID.dtypes"
   ]
  },
  {
   "cell_type": "markdown",
   "metadata": {},
   "source": [
    "### Gender"
   ]
  },
  {
   "cell_type": "code",
   "execution_count": 62,
   "metadata": {},
   "outputs": [
    {
     "data": {
      "text/plain": [
       "array(['M', 'F', nan], dtype=object)"
      ]
     },
     "execution_count": 62,
     "metadata": {},
     "output_type": "execute_result"
    }
   ],
   "source": [
    "df.P_SEX.unique()"
   ]
  },
  {
   "cell_type": "code",
   "execution_count": 63,
   "metadata": {},
   "outputs": [
    {
     "data": {
      "text/plain": [
       "M    3639636\n",
       "F    2828703\n",
       "Name: P_SEX, dtype: int64"
      ]
     },
     "execution_count": 63,
     "metadata": {},
     "output_type": "execute_result"
    }
   ],
   "source": [
    "df.P_SEX.value_counts()"
   ]
  },
  {
   "cell_type": "markdown",
   "metadata": {},
   "source": [
    "- More males are involved in vehicle collision than females"
   ]
  },
  {
   "cell_type": "markdown",
   "metadata": {},
   "source": [
    "### Person age"
   ]
  },
  {
   "cell_type": "code",
   "execution_count": 64,
   "metadata": {
    "scrolled": false
   },
   "outputs": [
    {
     "data": {
      "text/plain": [
       "array(['41', '19', '20', '46', '05', '28', '21', nan, '61', '56', '34',\n",
       "       '22', '30', '49', '32', '31', '68', '08', '45', '17', '33', '82',\n",
       "       '39', '37', '55', '38', '43', '35', '23', '25', '65', '44', '36',\n",
       "       '70', '50', '40', '27', '26', '15', '53', '16', '13', '14', '12',\n",
       "       '18', '77', '86', '42', '24', '47', '62', '06', '57', '83', '74',\n",
       "       '67', '51', '29', '01', '02', '54', '71', '10', '79', '63', '58',\n",
       "       '48', '60', '07', '64', '75', '52', '85', '93', '92', '69', '72',\n",
       "       '11', '59', '09', '66', '76', '73', '04', '78', '80', '84', '03',\n",
       "       '81', '89', '87', '88', '90', '91', '95', '97', '94', '99', '98',\n",
       "       '96'], dtype=object)"
      ]
     },
     "execution_count": 64,
     "metadata": {},
     "output_type": "execute_result"
    }
   ],
   "source": [
    "df.P_AGE.unique()"
   ]
  },
  {
   "cell_type": "code",
   "execution_count": 65,
   "metadata": {},
   "outputs": [],
   "source": [
    "df['P_AGE'] = df['P_AGE'].replace(['01','02','03','04', '05', '06','07','08','09'],\n",
    "                                 [1,2,3,4,5,6,7,8,9])"
   ]
  },
  {
   "cell_type": "code",
   "execution_count": 66,
   "metadata": {},
   "outputs": [],
   "source": [
    "df['P_AGE'] = pd.to_numeric(df['P_AGE'], errors = 'coerce')"
   ]
  },
  {
   "cell_type": "code",
   "execution_count": 67,
   "metadata": {
    "scrolled": true
   },
   "outputs": [
    {
     "data": {
      "text/plain": [
       "dtype('float64')"
      ]
     },
     "execution_count": 67,
     "metadata": {},
     "output_type": "execute_result"
    }
   ],
   "source": [
    "df.P_AGE.dtypes"
   ]
  },
  {
   "cell_type": "markdown",
   "metadata": {},
   "source": [
    "### Person position"
   ]
  },
  {
   "cell_type": "code",
   "execution_count": 68,
   "metadata": {
    "scrolled": true
   },
   "outputs": [
    {
     "data": {
      "text/plain": [
       "array(['11', '13', '99', '23', '98', '21', '22', '12', nan, '96', '32',\n",
       "       '31', '33', '97'], dtype=object)"
      ]
     },
     "execution_count": 68,
     "metadata": {},
     "output_type": "execute_result"
    }
   ],
   "source": [
    "df.P_PSN.unique()"
   ]
  },
  {
   "cell_type": "code",
   "execution_count": 69,
   "metadata": {},
   "outputs": [],
   "source": [
    "perpos_dict = {'11': 'Driver', '13': 'Front row, right outboard',\n",
    "               '99': 'Pedestrian', '23': 'Second row, right outboard',\n",
    "              '98': 'Outside passenger compartment', '21': 'Second row, left outboard',\n",
    "              '22': 'Second row, center', '12': 'Front row, center', '96': 'Position unknown',\n",
    "              '32': 'Third row, center', '31': 'Third row, left outboard',\n",
    "              '33': 'Third row, right outboard', '97': 'Sitting on someone’s lap'}\n",
    "\n",
    "df['P_PSN'] = df['P_PSN'].map(perpos_dict)"
   ]
  },
  {
   "cell_type": "code",
   "execution_count": 70,
   "metadata": {},
   "outputs": [
    {
     "data": {
      "text/plain": [
       "Driver                           4544989\n",
       "Front row, right outboard        1001423\n",
       "Second row, right outboard        295297\n",
       "Second row, left outboard         247300\n",
       "Pedestrian                        244427\n",
       "Second row, center                100112\n",
       "Front row, center                  97032\n",
       "Position unknown                   52810\n",
       "Third row, center                  33461\n",
       "Outside passenger compartment       7376\n",
       "Third row, right outboard           7039\n",
       "Third row, left outboard            5536\n",
       "Sitting on someone’s lap             298\n",
       "Name: P_PSN, dtype: int64"
      ]
     },
     "execution_count": 70,
     "metadata": {},
     "output_type": "execute_result"
    }
   ],
   "source": [
    "df.P_PSN.value_counts()"
   ]
  },
  {
   "cell_type": "markdown",
   "metadata": {},
   "source": [
    "### Medical treatment required"
   ]
  },
  {
   "cell_type": "code",
   "execution_count": 71,
   "metadata": {
    "scrolled": true
   },
   "outputs": [
    {
     "data": {
      "text/plain": [
       "array(['1', '2', '3', nan], dtype=object)"
      ]
     },
     "execution_count": 71,
     "metadata": {},
     "output_type": "execute_result"
    }
   ],
   "source": [
    "df.P_ISEV.unique()"
   ]
  },
  {
   "cell_type": "code",
   "execution_count": 72,
   "metadata": {},
   "outputs": [],
   "source": [
    "med_dict = {'1': 'No Injury', '2': 'Injury', '3': 'Fatality'}\n",
    "df['P_ISEV'] = df['P_ISEV'].map(med_dict)"
   ]
  },
  {
   "cell_type": "code",
   "execution_count": 73,
   "metadata": {},
   "outputs": [
    {
     "data": {
      "text/plain": [
       "Injury       3547575\n",
       "No Injury    2744547\n",
       "Fatality       46016\n",
       "Name: P_ISEV, dtype: int64"
      ]
     },
     "execution_count": 73,
     "metadata": {},
     "output_type": "execute_result"
    }
   ],
   "source": [
    "df.P_ISEV.value_counts()"
   ]
  },
  {
   "cell_type": "markdown",
   "metadata": {},
   "source": [
    "### Safety device used"
   ]
  },
  {
   "cell_type": "code",
   "execution_count": 74,
   "metadata": {},
   "outputs": [
    {
     "data": {
      "text/plain": [
       "array([nan, '02', '01', '13', '12', '09', '10', '11'], dtype=object)"
      ]
     },
     "execution_count": 74,
     "metadata": {},
     "output_type": "execute_result"
    }
   ],
   "source": [
    "df.P_SAFE.unique()"
   ]
  },
  {
   "cell_type": "code",
   "execution_count": 75,
   "metadata": {},
   "outputs": [],
   "source": [
    "safe_dict = {'02': 'Safety device used', '01': 'No safety device used', '13': 'No safety device equipped',\n",
    "            '12': 'Other safety device used', '09': 'Helmet worn', '10': 'Reflective clothing worn',\n",
    "            '11': 'Both helmet and reflective clothing used'}\n",
    "df['P_SAFE'] = df['P_SAFE'].map(safe_dict)"
   ]
  },
  {
   "cell_type": "code",
   "execution_count": 76,
   "metadata": {},
   "outputs": [
    {
     "data": {
      "text/plain": [
       "Safety device used                          4806075\n",
       "No safety device used                        221621\n",
       "No safety device equipped                    159316\n",
       "Helmet worn                                  120101\n",
       "Other safety device used                      29803\n",
       "Reflective clothing worn                        267\n",
       "Both helmet and reflective clothing used         14\n",
       "Name: P_SAFE, dtype: int64"
      ]
     },
     "execution_count": 76,
     "metadata": {},
     "output_type": "execute_result"
    }
   ],
   "source": [
    "df.P_SAFE.value_counts()"
   ]
  },
  {
   "cell_type": "markdown",
   "metadata": {},
   "source": [
    "### Road user class"
   ]
  },
  {
   "cell_type": "code",
   "execution_count": 77,
   "metadata": {},
   "outputs": [
    {
     "data": {
      "text/plain": [
       "array(['1', '2', '3', nan, '4', '5'], dtype=object)"
      ]
     },
     "execution_count": 77,
     "metadata": {},
     "output_type": "execute_result"
    }
   ],
   "source": [
    "df.P_USER.unique()"
   ]
  },
  {
   "cell_type": "code",
   "execution_count": 78,
   "metadata": {},
   "outputs": [],
   "source": [
    "roaduser_dict = {'1': 'Motor Vehicle Driver', '2': 'Motor Vehicle Passenger', '3': 'Pedestrian',\n",
    "                '4': 'Bicyclist', '5': 'Motorcyclist'}\n",
    "df['P_USER'] = df['P_USER'].map(roaduser_dict)"
   ]
  },
  {
   "cell_type": "code",
   "execution_count": 79,
   "metadata": {},
   "outputs": [
    {
     "data": {
      "text/plain": [
       "Motor Vehicle Driver       4234272\n",
       "Motor Vehicle Passenger    1772482\n",
       "Pedestrian                  258972\n",
       "Motorcyclist                144140\n",
       "Bicyclist                   141776\n",
       "Name: P_USER, dtype: int64"
      ]
     },
     "execution_count": 79,
     "metadata": {},
     "output_type": "execute_result"
    }
   ],
   "source": [
    "df.P_USER.value_counts()"
   ]
  },
  {
   "cell_type": "markdown",
   "metadata": {},
   "source": [
    "### Class Distribution"
   ]
  },
  {
   "cell_type": "code",
   "execution_count": 80,
   "metadata": {},
   "outputs": [
    {
     "data": {
      "text/plain": [
       "array([2, 1])"
      ]
     },
     "execution_count": 80,
     "metadata": {},
     "output_type": "execute_result"
    }
   ],
   "source": [
    "df.FATAL.unique()"
   ]
  },
  {
   "cell_type": "code",
   "execution_count": 81,
   "metadata": {},
   "outputs": [
    {
     "data": {
      "text/plain": [
       "2    6660073\n",
       "1     112490\n",
       "Name: FATAL, dtype: int64"
      ]
     },
     "execution_count": 81,
     "metadata": {},
     "output_type": "execute_result"
    }
   ],
   "source": [
    "df.FATAL.value_counts()"
   ]
  },
  {
   "cell_type": "markdown",
   "metadata": {},
   "source": [
    " The class is encoded as integers 1 and 2, where 1 represents fatal accidents and 2 represents non-fatal accidents. It is useful to recode the class variable as a binary class, where we replace 2 with 0."
   ]
  },
  {
   "cell_type": "code",
   "execution_count": 82,
   "metadata": {},
   "outputs": [
    {
     "data": {
      "text/plain": [
       "0    6660073\n",
       "1     112490\n",
       "Name: FATAL, dtype: int64"
      ]
     },
     "execution_count": 82,
     "metadata": {},
     "output_type": "execute_result"
    }
   ],
   "source": [
    "df['FATAL']= df['FATAL'].replace(2, 0) \n",
    "df['FATAL'].value_counts()"
   ]
  },
  {
   "cell_type": "code",
   "execution_count": 83,
   "metadata": {},
   "outputs": [
    {
     "data": {
      "text/plain": [
       "Text(0, 0.5, 'Count')"
      ]
     },
     "execution_count": 83,
     "metadata": {},
     "output_type": "execute_result"
    },
    {
     "data": {
      "image/png": "[encoded data removed]",
      "text/plain": [
       "<Figure size 576x360 with 1 Axes>"
      ]
     },
     "metadata": {},
     "output_type": "display_data"
    }
   ],
   "source": [
    "# Set figure font\n",
    "sns.set(font_scale = 1.5)\n",
    "plt.style.use('ggplot')\n",
    "\n",
    "# Plot bar\n",
    "df['FATAL'].value_counts().plot(kind = 'bar', figsize = (8,5), color ='r')\n",
    "plt.xlabel('Class', fontsize=20)\n",
    "plt.ylabel('Count', fontsize=20)"
   ]
  },
  {
   "cell_type": "markdown",
   "metadata": {},
   "source": [
    " Let's look at the percentage of the class distribution"
   ]
  },
  {
   "cell_type": "code",
   "execution_count": 84,
   "metadata": {},
   "outputs": [
    {
     "data": {
      "text/plain": [
       "0    98.339034\n",
       "1     1.660966\n",
       "Name: FATAL, dtype: float64"
      ]
     },
     "execution_count": 84,
     "metadata": {},
     "output_type": "execute_result"
    }
   ],
   "source": [
    "(df['FATAL'].value_counts()/df.shape[0])*100 "
   ]
  },
  {
   "cell_type": "markdown",
   "metadata": {},
   "source": [
    "- This is an extremely imbalanced class problem, where the class of interest (in this case fatal accidents) is extremely small compared to the other class \n",
    "\n",
    "- The majority (negative) class contains 98% of the class distribution, whereas the minority (positive) class is only 2% of the class distribution. "
   ]
  },
  {
   "cell_type": "code",
   "execution_count": 86,
   "metadata": {},
   "outputs": [],
   "source": [
    "# drop rows with missing values\n",
    "df = df.dropna()"
   ]
  },
  {
   "cell_type": "code",
   "execution_count": 87,
   "metadata": {},
   "outputs": [],
   "source": [
    "# save as csv dataframe\n",
    "df.to_csv('../data/clean_data.csv', index= False)"
   ]
  },
  {
   "cell_type": "code",
   "execution_count": null,
   "metadata": {},
   "outputs": [],
   "source": []
  }
 ],
 "metadata": {
  "kernelspec": {
   "display_name": "Python 3",
   "language": "python",
   "name": "python3"
  },
  "language_info": {
   "codemirror_mode": {
    "name": "ipython",
    "version": 3
   },
   "file_extension": ".py",
   "mimetype": "text/x-python",
   "name": "python",
   "nbconvert_exporter": "python",
   "pygments_lexer": "ipython3",
   "version": "3.7.3"
  }
 },
 "nbformat": 4,
 "nbformat_minor": 2
}
