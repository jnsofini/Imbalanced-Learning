{
 "cells": [
  {
   "cell_type": "markdown",
   "metadata": {},
   "source": [
    "#  Predictive Classification Models"
   ]
  },
  {
   "cell_type": "markdown",
   "metadata": {},
   "source": [
    "##  Imports"
   ]
  },
  {
   "cell_type": "code",
   "execution_count": 1,
   "metadata": {},
   "outputs": [],
   "source": [
    "%load_ext autoreload\n",
    "%autoreload 2\n",
    "\n",
    "%matplotlib inline\n",
    "# Ignore deprecated warning\n",
    "import warnings\n",
    "warnings.filterwarnings(\"ignore\")\n",
    "\n",
    "# Pandas and numpy for data manipulation\n",
    "import pandas as pd\n",
    "import numpy as np\n",
    "\n",
    "# Matplotlib  for data visualization\n",
    "import matplotlib.pyplot as plt\n",
    "import seaborn as sns\n",
    "\n",
    "# Set font scale and style\n",
    "sns.set(font_scale = 1.5)\n",
    "sns.set_style('ticks')\n",
    "sns.set()\n",
    "\n",
    "# Dimensionality reduction\n",
    "from sklearn.decomposition import PCA\n",
    "\n",
    "# Pickle\n",
    "import joblib\n",
    "\n",
    "# Data pre-processing\n",
    "from sklearn_pandas import DataFrameMapper\n",
    "from sklearn.preprocessing import StandardScaler\n",
    "from sklearn.preprocessing import LabelBinarizer\n",
    "\n",
    "# Resampling\n",
    "from imblearn.under_sampling import RandomUnderSampler\n",
    "from imblearn.over_sampling import SMOTE\n",
    "\n",
    "# Machine learning models\n",
    "import xgboost as xgb\n",
    "from xgboost.sklearn import XGBClassifier\n",
    "from sklearn.ensemble import RandomForestClassifier\n",
    "from sklearn.linear_model import LogisticRegression\n",
    "from sklearn.svm import SVC\n",
    "\n",
    "# Grid search and model selection\n",
    "from sklearn.model_selection import GridSearchCV, RandomizedSearchCV\n",
    "from sklearn.model_selection import train_test_split\n",
    "\n",
    "# Model performance metrics\n",
    "from sklearn.model_selection import cross_val_score, cross_val_predict\n",
    "from sklearn.metrics import confusion_matrix, classification_report, accuracy_score, auc,recall_score\n",
    "from sklearn.metrics import roc_curve, roc_auc_score, average_precision_score, precision_recall_curve"
   ]
  },
  {
   "cell_type": "code",
   "execution_count": 2,
   "metadata": {},
   "outputs": [],
   "source": [
    "# run some files containing custom functions\n",
    "%run -i '../scripts/helper_functions.py'"
   ]
  },
  {
   "cell_type": "markdown",
   "metadata": {},
   "source": [
    "## Load data"
   ]
  },
  {
   "cell_type": "code",
   "execution_count": 3,
   "metadata": {},
   "outputs": [
    {
     "data": {
      "text/html": [
       "<div>\n",
       "<style scoped>\n",
       "    .dataframe tbody tr th:only-of-type {\n",
       "        vertical-align: middle;\n",
       "    }\n",
       "\n",
       "    .dataframe tbody tr th {\n",
       "        vertical-align: top;\n",
       "    }\n",
       "\n",
       "    .dataframe thead th {\n",
       "        text-align: right;\n",
       "    }\n",
       "</style>\n",
       "<table border=\"1\" class=\"dataframe\">\n",
       "  <thead>\n",
       "    <tr style=\"text-align: right;\">\n",
       "      <th></th>\n",
       "      <th>C_YEAR</th>\n",
       "      <th>C_MNTH</th>\n",
       "      <th>C_WDAY</th>\n",
       "      <th>C_HOUR</th>\n",
       "      <th>FATAL</th>\n",
       "      <th>C_VEHS</th>\n",
       "      <th>C_CONF</th>\n",
       "      <th>C_RCFG</th>\n",
       "      <th>C_WTHR</th>\n",
       "      <th>C_RSUR</th>\n",
       "      <th>...</th>\n",
       "      <th>V_TYPE</th>\n",
       "      <th>V_YEAR</th>\n",
       "      <th>P_ID</th>\n",
       "      <th>P_SEX</th>\n",
       "      <th>P_AGE</th>\n",
       "      <th>P_PSN</th>\n",
       "      <th>P_ISEV</th>\n",
       "      <th>P_SAFE</th>\n",
       "      <th>P_USER</th>\n",
       "      <th>C_CASE</th>\n",
       "    </tr>\n",
       "  </thead>\n",
       "  <tbody>\n",
       "    <tr>\n",
       "      <td>0</td>\n",
       "      <td>1999</td>\n",
       "      <td>January</td>\n",
       "      <td>Monday</td>\n",
       "      <td>9.0</td>\n",
       "      <td>0</td>\n",
       "      <td>2.0</td>\n",
       "      <td>Right turn</td>\n",
       "      <td>At an intersection</td>\n",
       "      <td>Clear and sunny</td>\n",
       "      <td>Dry, normal</td>\n",
       "      <td>...</td>\n",
       "      <td>Light Duty Vehicle</td>\n",
       "      <td>1992.0</td>\n",
       "      <td>1.0</td>\n",
       "      <td>F</td>\n",
       "      <td>33.0</td>\n",
       "      <td>Driver</td>\n",
       "      <td>Injury</td>\n",
       "      <td>Safety device used</td>\n",
       "      <td>Motor Vehicle Driver</td>\n",
       "      <td>2890</td>\n",
       "    </tr>\n",
       "    <tr>\n",
       "      <td>1</td>\n",
       "      <td>1999</td>\n",
       "      <td>January</td>\n",
       "      <td>Monday</td>\n",
       "      <td>9.0</td>\n",
       "      <td>0</td>\n",
       "      <td>2.0</td>\n",
       "      <td>Right turn</td>\n",
       "      <td>At an intersection</td>\n",
       "      <td>Clear and sunny</td>\n",
       "      <td>Dry, normal</td>\n",
       "      <td>...</td>\n",
       "      <td>Light Duty Vehicle</td>\n",
       "      <td>1992.0</td>\n",
       "      <td>1.0</td>\n",
       "      <td>F</td>\n",
       "      <td>70.0</td>\n",
       "      <td>Driver</td>\n",
       "      <td>No Injury</td>\n",
       "      <td>Safety device used</td>\n",
       "      <td>Motor Vehicle Driver</td>\n",
       "      <td>2890</td>\n",
       "    </tr>\n",
       "    <tr>\n",
       "      <td>2</td>\n",
       "      <td>1999</td>\n",
       "      <td>January</td>\n",
       "      <td>Monday</td>\n",
       "      <td>20.0</td>\n",
       "      <td>0</td>\n",
       "      <td>1.0</td>\n",
       "      <td>Ran off left shoulder</td>\n",
       "      <td>Intersection with parking lot entrance</td>\n",
       "      <td>Clear and sunny</td>\n",
       "      <td>Dry, normal</td>\n",
       "      <td>...</td>\n",
       "      <td>Light Duty Vehicle</td>\n",
       "      <td>1988.0</td>\n",
       "      <td>1.0</td>\n",
       "      <td>F</td>\n",
       "      <td>38.0</td>\n",
       "      <td>Driver</td>\n",
       "      <td>Injury</td>\n",
       "      <td>Safety device used</td>\n",
       "      <td>Motor Vehicle Driver</td>\n",
       "      <td>4332</td>\n",
       "    </tr>\n",
       "    <tr>\n",
       "      <td>3</td>\n",
       "      <td>1999</td>\n",
       "      <td>January</td>\n",
       "      <td>Monday</td>\n",
       "      <td>5.0</td>\n",
       "      <td>0</td>\n",
       "      <td>2.0</td>\n",
       "      <td>Hit a moving object</td>\n",
       "      <td>At an intersection</td>\n",
       "      <td>Raining</td>\n",
       "      <td>Wet</td>\n",
       "      <td>...</td>\n",
       "      <td>Other trucks and vans</td>\n",
       "      <td>1995.0</td>\n",
       "      <td>1.0</td>\n",
       "      <td>M</td>\n",
       "      <td>34.0</td>\n",
       "      <td>Driver</td>\n",
       "      <td>No Injury</td>\n",
       "      <td>Safety device used</td>\n",
       "      <td>Motor Vehicle Driver</td>\n",
       "      <td>5053</td>\n",
       "    </tr>\n",
       "    <tr>\n",
       "      <td>4</td>\n",
       "      <td>1999</td>\n",
       "      <td>January</td>\n",
       "      <td>Monday</td>\n",
       "      <td>5.0</td>\n",
       "      <td>0</td>\n",
       "      <td>2.0</td>\n",
       "      <td>Hit a moving object</td>\n",
       "      <td>At an intersection</td>\n",
       "      <td>Raining</td>\n",
       "      <td>Wet</td>\n",
       "      <td>...</td>\n",
       "      <td>Other trucks and vans</td>\n",
       "      <td>1995.0</td>\n",
       "      <td>2.0</td>\n",
       "      <td>M</td>\n",
       "      <td>30.0</td>\n",
       "      <td>Front row, right outboard</td>\n",
       "      <td>No Injury</td>\n",
       "      <td>Safety device used</td>\n",
       "      <td>Motor Vehicle Passenger</td>\n",
       "      <td>5053</td>\n",
       "    </tr>\n",
       "  </tbody>\n",
       "</table>\n",
       "<p>5 rows × 23 columns</p>\n",
       "</div>"
      ],
      "text/plain": [
       "   C_YEAR   C_MNTH  C_WDAY  C_HOUR  FATAL  C_VEHS                 C_CONF  \\\n",
       "0    1999  January  Monday     9.0      0     2.0             Right turn   \n",
       "1    1999  January  Monday     9.0      0     2.0             Right turn   \n",
       "2    1999  January  Monday    20.0      0     1.0  Ran off left shoulder   \n",
       "3    1999  January  Monday     5.0      0     2.0    Hit a moving object   \n",
       "4    1999  January  Monday     5.0      0     2.0    Hit a moving object   \n",
       "\n",
       "                                   C_RCFG           C_WTHR       C_RSUR  ...  \\\n",
       "0                      At an intersection  Clear and sunny  Dry, normal  ...   \n",
       "1                      At an intersection  Clear and sunny  Dry, normal  ...   \n",
       "2  Intersection with parking lot entrance  Clear and sunny  Dry, normal  ...   \n",
       "3                      At an intersection          Raining          Wet  ...   \n",
       "4                      At an intersection          Raining          Wet  ...   \n",
       "\n",
       "                  V_TYPE  V_YEAR  P_ID P_SEX  P_AGE  \\\n",
       "0     Light Duty Vehicle  1992.0   1.0     F   33.0   \n",
       "1     Light Duty Vehicle  1992.0   1.0     F   70.0   \n",
       "2     Light Duty Vehicle  1988.0   1.0     F   38.0   \n",
       "3  Other trucks and vans  1995.0   1.0     M   34.0   \n",
       "4  Other trucks and vans  1995.0   2.0     M   30.0   \n",
       "\n",
       "                       P_PSN     P_ISEV              P_SAFE  \\\n",
       "0                     Driver     Injury  Safety device used   \n",
       "1                     Driver  No Injury  Safety device used   \n",
       "2                     Driver     Injury  Safety device used   \n",
       "3                     Driver  No Injury  Safety device used   \n",
       "4  Front row, right outboard  No Injury  Safety device used   \n",
       "\n",
       "                    P_USER C_CASE  \n",
       "0     Motor Vehicle Driver   2890  \n",
       "1     Motor Vehicle Driver   2890  \n",
       "2     Motor Vehicle Driver   4332  \n",
       "3     Motor Vehicle Driver   5053  \n",
       "4  Motor Vehicle Passenger   5053  \n",
       "\n",
       "[5 rows x 23 columns]"
      ]
     },
     "execution_count": 3,
     "metadata": {},
     "output_type": "execute_result"
    }
   ],
   "source": [
    "#  Load cleaned data\n",
    "df = pd.read_csv('../raw_data/clean_data.csv')\n",
    "df.head()"
   ]
  },
  {
   "cell_type": "code",
   "execution_count": 4,
   "metadata": {},
   "outputs": [
    {
     "data": {
      "text/plain": [
       "Index(['C_YEAR', 'C_MNTH', 'C_WDAY', 'C_HOUR', 'FATAL', 'C_VEHS', 'C_CONF',\n",
       "       'C_RCFG', 'C_WTHR', 'C_RSUR', 'C_RALN', 'C_TRAF', 'V_ID', 'V_TYPE',\n",
       "       'V_YEAR', 'P_ID', 'P_SEX', 'P_AGE', 'P_PSN', 'P_ISEV', 'P_SAFE',\n",
       "       'P_USER', 'C_CASE'],\n",
       "      dtype='object')"
      ]
     },
     "execution_count": 4,
     "metadata": {},
     "output_type": "execute_result"
    }
   ],
   "source": [
    "df.columns"
   ]
  },
  {
   "cell_type": "code",
   "execution_count": 5,
   "metadata": {
    "scrolled": true
   },
   "outputs": [
    {
     "data": {
      "text/plain": [
       "(3817613, 23)"
      ]
     },
     "execution_count": 5,
     "metadata": {},
     "output_type": "execute_result"
    }
   ],
   "source": [
    "df.shape"
   ]
  },
  {
   "cell_type": "code",
   "execution_count": 6,
   "metadata": {},
   "outputs": [],
   "source": [
    "# Shuffle the dataset\n",
    "df = df.sample(frac =1).reset_index(drop = True)"
   ]
  },
  {
   "cell_type": "markdown",
   "metadata": {},
   "source": [
    "## Class distribution"
   ]
  },
  {
   "cell_type": "code",
   "execution_count": 7,
   "metadata": {},
   "outputs": [
    {
     "data": {
      "text/plain": [
       "0    98.39\n",
       "1     1.61\n",
       "Name: FATAL, dtype: float64"
      ]
     },
     "execution_count": 7,
     "metadata": {},
     "output_type": "execute_result"
    },
    {
     "data": {
      "image/png": "[encoded data removed]",
      "text/plain": [
       "<Figure size 576x432 with 1 Axes>"
      ]
     },
     "metadata": {
      "needs_background": "light"
     },
     "output_type": "display_data"
    }
   ],
   "source": [
    "class_dis = (df.FATAL.value_counts()/len(df)*100)\n",
    "class_dis.plot(kind = 'bar', figsize = (8,6))\n",
    "plt.xlabel('Class label')\n",
    "plt.ylabel('Percentage distribution')\n",
    "round(class_dis,2)"
   ]
  },
  {
   "cell_type": "markdown",
   "metadata": {},
   "source": [
    "## Reduce the dataset"
   ]
  },
  {
   "cell_type": "markdown",
   "metadata": {},
   "source": [
    "Since the dataset is very large to fit in a small laptop memory, training the entire dataset on a laptop will take days to run let alone tuning the hyperparameters by grid search.  Hence, we will first split the dataset into two subsets and train the model on the small subset"
   ]
  },
  {
   "cell_type": "code",
   "execution_count": 8,
   "metadata": {},
   "outputs": [],
   "source": [
    "X1, X2, y1, y2 = train_test_split(df,df.FATAL, test_size = 0.01, random_state = 42, stratify = df.FATAL)"
   ]
  },
  {
   "cell_type": "code",
   "execution_count": 9,
   "metadata": {},
   "outputs": [
    {
     "name": "stdout",
     "output_type": "stream",
     "text": [
      "Large subset size: (3779436, 23) (3779436,)\n",
      "Small subset size: (38177, 23) (38177,)\n"
     ]
    }
   ],
   "source": [
    "print('Large subset size:', X1.shape, y1.shape)\n",
    "print('Small subset size:', X2.shape, y2.shape)"
   ]
  },
  {
   "cell_type": "code",
   "execution_count": 10,
   "metadata": {},
   "outputs": [],
   "source": [
    "# Save the small subset as csv file\n",
    "X2.to_csv('../data/collision.csv', index = False)"
   ]
  },
  {
   "cell_type": "markdown",
   "metadata": {},
   "source": [
    "##   Prepare data for machine learning"
   ]
  },
  {
   "cell_type": "code",
   "execution_count": 11,
   "metadata": {},
   "outputs": [],
   "source": [
    "# Reload data\n",
    "df_small = pd.read_csv('../data/collision.csv')"
   ]
  },
  {
   "cell_type": "code",
   "execution_count": 12,
   "metadata": {},
   "outputs": [],
   "source": [
    "# Feature matrix and class label\n",
    "X, y = df_small.drop(['P_ID', 'V_ID', 'FATAL'], axis = 1), df_small['FATAL']"
   ]
  },
  {
   "cell_type": "code",
   "execution_count": 13,
   "metadata": {},
   "outputs": [
    {
     "name": "stdout",
     "output_type": "stream",
     "text": [
      "Size of the data: (38177, 20) (38177,)\n"
     ]
    }
   ],
   "source": [
    "print('Size of the data:', X.shape, y.shape)"
   ]
  },
  {
   "cell_type": "markdown",
   "metadata": {},
   "source": [
    "## Create a Test Set"
   ]
  },
  {
   "cell_type": "markdown",
   "metadata": {},
   "source": [
    "We now split the into $80\\%$ training set and $20\\%$ test set in a stratify fashion"
   ]
  },
  {
   "cell_type": "code",
   "execution_count": 14,
   "metadata": {},
   "outputs": [],
   "source": [
    "X_train, X_test, y_train, y_test = train_test_split(X,y, test_size = 0.2, random_state = 42, stratify = y)"
   ]
  },
  {
   "cell_type": "code",
   "execution_count": 15,
   "metadata": {},
   "outputs": [
    {
     "name": "stdout",
     "output_type": "stream",
     "text": [
      "Training set size: (30541, 20) (30541,)\n",
      "Test set size: (7636, 20) (7636,)\n"
     ]
    }
   ],
   "source": [
    "print('Training set size:', X_train.shape, y_train.shape)\n",
    "print('Test set size:', X_test.shape, y_test.shape)"
   ]
  },
  {
   "cell_type": "code",
   "execution_count": 16,
   "metadata": {},
   "outputs": [
    {
     "name": "stdout",
     "output_type": "stream",
     "text": [
      "Training set class distribution:\n",
      " 0    98.395599\n",
      "1     1.604401\n",
      "Name: FATAL, dtype: float64\n",
      "*********************************\n",
      "Test set class distribution:\n",
      " 0    98.389209\n",
      "1     1.610791\n",
      "Name: FATAL, dtype: float64\n"
     ]
    }
   ],
   "source": [
    "print('Training set class distribution:\\n', (y_train.value_counts()/X_train.shape[0])*100)\n",
    "print('*********************************')\n",
    "print('Test set class distribution:\\n', (y_test.value_counts()/X_test.shape[0])*100)"
   ]
  },
  {
   "cell_type": "markdown",
   "metadata": {},
   "source": [
    "##  Data Pre-processing"
   ]
  },
  {
   "cell_type": "code",
   "execution_count": 17,
   "metadata": {},
   "outputs": [],
   "source": [
    "# List of categorical attributes\n",
    "cat_subset = list(X_train.select_dtypes('O'))\n",
    "\n",
    "# List of numerical attributes\n",
    "num_subset = list(X_train.select_dtypes('number'))\n",
    "\n",
    "# Binarize the categorical attributes\n",
    "cat_attribs = [([cat], LabelBinarizer()) for cat in cat_subset]\n",
    "\n",
    "# Standardize the numerical attributes\n",
    "num_attribs = [([num], StandardScaler()) for num in num_subset]\n",
    "\n",
    "# Build a dataframe mapper pipeline\n",
    "mapper = DataFrameMapper(cat_attribs + num_attribs)\n",
    "\n",
    "# Fit transform the training set\n",
    "X_train_scale = mapper.fit_transform(X_train)\n",
    "\n",
    "# Only transform the training set\n",
    "X_test_scale = mapper.transform(X_test)"
   ]
  },
  {
   "cell_type": "code",
   "execution_count": 18,
   "metadata": {},
   "outputs": [
    {
     "name": "stdout",
     "output_type": "stream",
     "text": [
      "Training set size after pre-processing: (30541, 129)\n",
      "Test set size after pre-processing: (7636, 129)\n"
     ]
    }
   ],
   "source": [
    "# Size of the data after pre-processing\n",
    "print('Training set size after pre-processing:', X_train_scale.shape)\n",
    "print('Test set size after pre-processing:', X_test_scale.shape)"
   ]
  },
  {
   "cell_type": "code",
   "execution_count": 19,
   "metadata": {},
   "outputs": [],
   "source": [
    "# Convert the class labels to arrays\n",
    "y_train, y_test = y_train.values,  y_test.values"
   ]
  },
  {
   "cell_type": "markdown",
   "metadata": {},
   "source": [
    "# Model Selection by Cross-Validation Predictions"
   ]
  },
  {
   "cell_type": "markdown",
   "metadata": {},
   "source": [
    "In this section, we train three models, Logistic Regression, Random Forest classifier, and XGBoost on the imbalanced dataset. As we shall see below, the overall accuracy of the model is not a good  performance measure for imbalanced datasets because it is bias towards the majority (negative) class. Therefore, we shall select and optimize the model with the best area under the precision-recall (AUPR) Curve. "
   ]
  },
  {
   "cell_type": "markdown",
   "metadata": {},
   "source": [
    "## 1. Logistic Regression"
   ]
  },
  {
   "cell_type": "code",
   "execution_count": 20,
   "metadata": {},
   "outputs": [
    {
     "name": "stdout",
     "output_type": "stream",
     "text": [
      "****************************************************************************\n",
      "Cross-validation accuracy (std): 0.989751 (0.001296)\n",
      "AUROC: 0.877049\n",
      "AUPRC: 0.494043\n",
      "Predicted classes: [0 1]\n",
      "Confusion matrix:\n",
      " [[30047     4]\n",
      " [  309   181]]\n",
      "Classification report:\n",
      "               precision    recall  f1-score   support\n",
      "\n",
      "           0       0.99      1.00      0.99     30051\n",
      "           1       0.98      0.37      0.54       490\n",
      "\n",
      "    accuracy                           0.99     30541\n",
      "   macro avg       0.98      0.68      0.77     30541\n",
      "weighted avg       0.99      0.99      0.99     30541\n",
      "\n",
      "****************************************************************************\n"
     ]
    }
   ],
   "source": [
    "log_clf = LogisticRegression()                         \n",
    "model_selection_cv(log_clf, X_train_scale, y_train, cv_fold = 5, scoring = 'accuracy')"
   ]
  },
  {
   "cell_type": "markdown",
   "metadata": {},
   "source": [
    "##  2. Random Forest Classifier"
   ]
  },
  {
   "cell_type": "code",
   "execution_count": 21,
   "metadata": {
    "scrolled": true
   },
   "outputs": [
    {
     "name": "stdout",
     "output_type": "stream",
     "text": [
      "****************************************************************************\n",
      "Cross-validation accuracy (std): 0.989490 (0.001205)\n",
      "AUROC: 0.751213\n",
      "AUPRC: 0.415561\n",
      "Predicted classes: [0 1]\n",
      "Confusion matrix:\n",
      " [[30049     2]\n",
      " [  319   171]]\n",
      "Classification report:\n",
      "               precision    recall  f1-score   support\n",
      "\n",
      "           0       0.99      1.00      0.99     30051\n",
      "           1       0.99      0.35      0.52       490\n",
      "\n",
      "    accuracy                           0.99     30541\n",
      "   macro avg       0.99      0.67      0.76     30541\n",
      "weighted avg       0.99      0.99      0.99     30541\n",
      "\n",
      "****************************************************************************\n"
     ]
    }
   ],
   "source": [
    "rf_clf = RandomForestClassifier(random_state = 42)                         \n",
    "model_selection_cv(rf_clf, X_train_scale, y_train, cv_fold = 5, scoring = 'accuracy')"
   ]
  },
  {
   "cell_type": "markdown",
   "metadata": {},
   "source": [
    "## 3. XGBoost"
   ]
  },
  {
   "cell_type": "code",
   "execution_count": 22,
   "metadata": {},
   "outputs": [
    {
     "name": "stdout",
     "output_type": "stream",
     "text": [
      "****************************************************************************\n",
      "Cross-validation accuracy (std): 0.989817 (0.001324)\n",
      "AUROC: 0.878871\n",
      "AUPRC: 0.493899\n",
      "Predicted classes: [0 1]\n",
      "Confusion matrix:\n",
      " [[30051     0]\n",
      " [  311   179]]\n",
      "Classification report:\n",
      "               precision    recall  f1-score   support\n",
      "\n",
      "           0       0.99      1.00      0.99     30051\n",
      "           1       1.00      0.37      0.54       490\n",
      "\n",
      "    accuracy                           0.99     30541\n",
      "   macro avg       0.99      0.68      0.76     30541\n",
      "weighted avg       0.99      0.99      0.99     30541\n",
      "\n",
      "****************************************************************************\n"
     ]
    }
   ],
   "source": [
    "xgb_model = xgb.XGBClassifier(random_state = 42)\n",
    "model_selection_cv(xgb_model, X_train_scale, y_train, cv_fold = 5, scoring = 'accuracy')"
   ]
  },
  {
   "cell_type": "markdown",
   "metadata": {},
   "source": [
    "#  Hyperparameter Tuning and Cost Sensitive Method"
   ]
  },
  {
   "cell_type": "markdown",
   "metadata": {},
   "source": [
    " In this section, we shall optimize the **AUC** of the classifiers using grid/randomized search, cross-validation, and cost sensitive method"
   ]
  },
  {
   "cell_type": "code",
   "execution_count": 23,
   "metadata": {},
   "outputs": [
    {
     "data": {
      "text/plain": [
       "61.32857142857143"
      ]
     },
     "execution_count": 23,
     "metadata": {},
     "output_type": "execute_result"
    }
   ],
   "source": [
    "# Class ratio of the negative class to the positive class\n",
    "neg = y_train == 0\n",
    "pos = y_train == 1\n",
    "class_ratio = np.sum(neg)/np.sum(pos)\n",
    "class_ratio"
   ]
  },
  {
   "cell_type": "markdown",
   "metadata": {},
   "source": [
    "## 1. Logistic Regression"
   ]
  },
  {
   "cell_type": "code",
   "execution_count": 24,
   "metadata": {},
   "outputs": [
    {
     "name": "stdout",
     "output_type": "stream",
     "text": [
      "Fitting 5 folds for each of 15 candidates, totalling 75 fits\n"
     ]
    },
    {
     "name": "stderr",
     "output_type": "stream",
     "text": [
      "[Parallel(n_jobs=-1)]: Using backend LokyBackend with 4 concurrent workers.\n",
      "[Parallel(n_jobs=-1)]: Done  42 tasks      | elapsed:    8.9s\n"
     ]
    },
    {
     "name": "stdout",
     "output_type": "stream",
     "text": [
      "Grid search best AUC score: 0.8826712432878625\n",
      "Grid search best parameters: {'C': 0.03125, 'class_weight': {0: 1, 1: 3}}\n"
     ]
    },
    {
     "name": "stderr",
     "output_type": "stream",
     "text": [
      "[Parallel(n_jobs=-1)]: Done  75 out of  75 | elapsed:   16.5s finished\n"
     ]
    }
   ],
   "source": [
    "# Range of hyperparameters\n",
    "param_grid = {'C': [2**(-5), 2**(-3), 2**(-1), 2**(0), 2**(1)], \n",
    "             'class_weight': ['balanced', {0:1, 1:2}, {0:1, 1:3}]}\n",
    "                             \n",
    "# Grid search\n",
    "gsearch_log = GridSearchCV(LogisticRegression(),param_grid, cv = 5,\n",
    "                           scoring = 'roc_auc',verbose =1, n_jobs = -1)\n",
    "                                \n",
    "# Fit the  training set\n",
    "gsearch_log.fit(X_train_scale, y_train)\n",
    "\n",
    "print('Grid search best AUC score:', gsearch_log.best_score_)\n",
    "print('Grid search best parameters:', gsearch_log.best_params_)    "
   ]
  },
  {
   "cell_type": "code",
   "execution_count": 25,
   "metadata": {},
   "outputs": [
    {
     "data": {
      "text/plain": [
       "['../trained_models/log_clf.pkl']"
      ]
     },
     "execution_count": 25,
     "metadata": {},
     "output_type": "execute_result"
    }
   ],
   "source": [
    "# Pickle trained model\n",
    "joblib.dump(gsearch_log.best_estimator_, '../trained_models/log_clf.pkl')"
   ]
  },
  {
   "cell_type": "markdown",
   "metadata": {},
   "source": [
    "## 2. Random Forest"
   ]
  },
  {
   "cell_type": "code",
   "execution_count": 26,
   "metadata": {},
   "outputs": [
    {
     "name": "stdout",
     "output_type": "stream",
     "text": [
      "Fitting 5 folds for each of 8 candidates, totalling 40 fits\n"
     ]
    },
    {
     "name": "stderr",
     "output_type": "stream",
     "text": [
      "[Parallel(n_jobs=-1)]: Using backend LokyBackend with 4 concurrent workers.\n",
      "[Parallel(n_jobs=-1)]: Done  40 out of  40 | elapsed: 20.1min finished\n"
     ]
    },
    {
     "name": "stdout",
     "output_type": "stream",
     "text": [
      "Randomized search best AUC score: 0.8886471290196686\n",
      "Randomized search best hyperparameters: {'max_features': 'log2', 'class_weight': {0: 1, 1: 2}}\n"
     ]
    }
   ],
   "source": [
    "# Range of hyperparameters\n",
    "params = {'max_features': ['sqrt', 'log2'], 'class_weight': ['balanced', 'balanced_subsample',\n",
    "          {0: 1, 1: 2}, {0: 1, 1: class_ratio}]}\n",
    "\n",
    "# Randomized search\n",
    "rf_clf = RandomForestClassifier(n_estimators = 2000, min_samples_leaf = 10, random_state = 42)           \n",
    "rsearch_rf = RandomizedSearchCV(estimator = rf_clf, param_distributions = params, \n",
    "                                scoring = 'roc_auc', cv = 5, n_jobs = -1, \n",
    "                                random_state = 42, verbose = 1)  \n",
    "# Fit the  training set                                                    \n",
    "rsearch_rf.fit(X_train_scale, y_train)\n",
    "\n",
    "print('Randomized search best AUC score:', rsearch_rf.best_score_) \n",
    "print('Randomized search best hyperparameters:', rsearch_rf.best_params_) "
   ]
  },
  {
   "cell_type": "code",
   "execution_count": 27,
   "metadata": {},
   "outputs": [
    {
     "data": {
      "text/plain": [
       "['../trained_models/rf_clf.pkl']"
      ]
     },
     "execution_count": 27,
     "metadata": {},
     "output_type": "execute_result"
    }
   ],
   "source": [
    "# Pickle trained model\n",
    "joblib.dump(rsearch_rf.best_estimator_, '../trained_models/rf_clf.pkl')"
   ]
  },
  {
   "cell_type": "markdown",
   "metadata": {},
   "source": [
    "## 3. XGBoost"
   ]
  },
  {
   "cell_type": "code",
   "execution_count": 28,
   "metadata": {},
   "outputs": [
    {
     "name": "stdout",
     "output_type": "stream",
     "text": [
      "Fitting 5 folds for each of 10 candidates, totalling 50 fits\n"
     ]
    },
    {
     "name": "stderr",
     "output_type": "stream",
     "text": [
      "[Parallel(n_jobs=-1)]: Using backend LokyBackend with 4 concurrent workers.\n",
      "[Parallel(n_jobs=-1)]: Done  42 tasks      | elapsed: 98.3min\n",
      "[Parallel(n_jobs=-1)]: Done  50 out of  50 | elapsed: 109.5min finished\n"
     ]
    },
    {
     "name": "stdout",
     "output_type": "stream",
     "text": [
      "Randomized search best AUC score: 0.8588936297827746\n",
      "Randomized search best hyperparameters: {'subsample': 0.6, 'min_child_weight': 5, 'max_depth': 9, 'colsample_bytree': 0.5}\n"
     ]
    }
   ],
   "source": [
    "# Range of hyperparameters\n",
    "params = {'max_depth': range(3,10,2), 'min_child_weight': range(1,6,2),\n",
    "         'subsample':[i/10 for i in range(5,9)],\n",
    "         'colsample_bytree': [i/10 for i in range(5,9)]}\n",
    "\n",
    "# Randomized search\n",
    "xgb_model = xgb.XGBClassifier(n_estimators = 2000, random_state = 42,\n",
    "                              scale_pos_weight = class_ratio, learning_rate = 0.1)\n",
    "rsearch_xgb = RandomizedSearchCV(estimator = xgb_model, param_distributions = params, \n",
    "                                  scoring = 'roc_auc', cv = 5, n_jobs = -1, \n",
    "                                  random_state = 42, verbose = 1)  \n",
    "# Fit the  training set                                                            \n",
    "rsearch_xgb.fit(X_train_scale, y_train)\n",
    "\n",
    "print('Randomized search best AUC score:', rsearch_xgb.best_score_) \n",
    "print('Randomized search best hyperparameters:', rsearch_xgb.best_params_) "
   ]
  },
  {
   "cell_type": "code",
   "execution_count": 29,
   "metadata": {},
   "outputs": [
    {
     "data": {
      "text/plain": [
       "['../trained_models/xgb_clf.pkl']"
      ]
     },
     "execution_count": 29,
     "metadata": {},
     "output_type": "execute_result"
    }
   ],
   "source": [
    "# Pickle trained model\n",
    "joblib.dump(rsearch_xgb.best_estimator_, '../trained_models/xgb_clf.pkl')"
   ]
  },
  {
   "cell_type": "markdown",
   "metadata": {},
   "source": [
    "# Resampling Methods"
   ]
  },
  {
   "cell_type": "markdown",
   "metadata": {},
   "source": [
    "In this section, we will employ two resampling techniques on the training set to balance the classes. However, the final prediction will be made on the imbalanced test set. The idea of resampling is to trick the classifier using a balanced dataset.  "
   ]
  },
  {
   "cell_type": "markdown",
   "metadata": {},
   "source": [
    "## 1. Under sampling of the majority class"
   ]
  },
  {
   "cell_type": "markdown",
   "metadata": {},
   "source": [
    "In undersampling, we reduce the majority class such that it matches the minority class"
   ]
  },
  {
   "cell_type": "code",
   "execution_count": 30,
   "metadata": {},
   "outputs": [],
   "source": [
    "# Undersample the majority class\n",
    "und = RandomUnderSampler(ratio = 'majority', random_state = 42)\n",
    "X_train_scale_und, y_train_und = und.fit_sample(X_train_scale, y_train)"
   ]
  },
  {
   "cell_type": "code",
   "execution_count": 31,
   "metadata": {},
   "outputs": [
    {
     "name": "stdout",
     "output_type": "stream",
     "text": [
      "Undersampled training data size: (980, 129) (980,)\n"
     ]
    }
   ],
   "source": [
    "print('Undersampled training data size:', X_train_scale_und.shape, y_train_und.shape)"
   ]
  },
  {
   "cell_type": "code",
   "execution_count": 32,
   "metadata": {},
   "outputs": [
    {
     "name": "stdout",
     "output_type": "stream",
     "text": [
      "Imbalanced training set class distribution: [30051   490]\n",
      "Undersampled training set class distribution: [490 490]\n"
     ]
    }
   ],
   "source": [
    "print('Imbalanced training set class distribution:', np.bincount(y_train))\n",
    "print('Undersampled training set class distribution:', np.bincount(y_train_und))"
   ]
  },
  {
   "cell_type": "markdown",
   "metadata": {},
   "source": [
    "- We can see that the majority class in the training set has been undersampled\n",
    "\n",
    "- We now have equal class distribution. Note that the test set is not resampled"
   ]
  },
  {
   "cell_type": "markdown",
   "metadata": {},
   "source": [
    "### Random Forest cross-validation on the undersampled dataset"
   ]
  },
  {
   "cell_type": "code",
   "execution_count": 43,
   "metadata": {
    "scrolled": false
   },
   "outputs": [
    {
     "name": "stdout",
     "output_type": "stream",
     "text": [
      "****************************************************************************\n",
      "Cross-validation accuracy (std): 0.705102 (0.033441)\n",
      "AUROC: 0.859775\n",
      "AUPRC: 0.877484\n",
      "Predicted classes: [0 1]\n",
      "Confusion matrix:\n",
      " [[239 251]\n",
      " [ 38 452]]\n",
      "Classification report:\n",
      "               precision    recall  f1-score   support\n",
      "\n",
      "           0       0.86      0.49      0.62       490\n",
      "           1       0.64      0.92      0.76       490\n",
      "\n",
      "    accuracy                           0.71       980\n",
      "   macro avg       0.75      0.71      0.69       980\n",
      "weighted avg       0.75      0.71      0.69       980\n",
      "\n",
      "****************************************************************************\n"
     ]
    }
   ],
   "source": [
    "rf_und = rsearch_rf.best_estimator_ # from randomized search\n",
    "model_selection_cv(rf_und, X_train_scale_und, y_train_und, cv_fold=5, scoring = 'accuracy')"
   ]
  },
  {
   "cell_type": "markdown",
   "metadata": {},
   "source": [
    "## 2. Synthetic Minority Over Sampling Technique (SMOTE)"
   ]
  },
  {
   "cell_type": "markdown",
   "metadata": {},
   "source": [
    "In SMOTE, we generate synthetic oberservations to match the minority class"
   ]
  },
  {
   "cell_type": "code",
   "execution_count": 34,
   "metadata": {},
   "outputs": [],
   "source": [
    "# Oversample the minority class\n",
    "sm = SMOTE(ratio = 'minority', random_state = 42)\n",
    "X_train_scale_ovsm, y_train_ovsm = sm.fit_sample(X_train_scale, y_train)"
   ]
  },
  {
   "cell_type": "code",
   "execution_count": 35,
   "metadata": {},
   "outputs": [
    {
     "name": "stdout",
     "output_type": "stream",
     "text": [
      "SMOTE training data size: (60102, 129) (60102,)\n"
     ]
    }
   ],
   "source": [
    "print('SMOTE training data size:', X_train_scale_ovsm.shape, y_train_ovsm.shape)"
   ]
  },
  {
   "cell_type": "code",
   "execution_count": 36,
   "metadata": {},
   "outputs": [
    {
     "name": "stdout",
     "output_type": "stream",
     "text": [
      "Imbalanced training set class distribution: [30051   490]\n",
      "SMOTE resampled training set class distribution: [30051 30051]\n"
     ]
    }
   ],
   "source": [
    "print('Imbalanced training set class distribution:', np.bincount(y_train))\n",
    "print('SMOTE resampled training set class distribution:', np.bincount(y_train_ovsm))"
   ]
  },
  {
   "cell_type": "markdown",
   "metadata": {},
   "source": [
    "- Similarly,  SMOTE oversampled the minority class in the training set, so we now have equal class distribution. "
   ]
  },
  {
   "cell_type": "markdown",
   "metadata": {},
   "source": [
    "###  Random Forest cross-validation in the SMOTE dataset"
   ]
  },
  {
   "cell_type": "code",
   "execution_count": 41,
   "metadata": {},
   "outputs": [
    {
     "name": "stdout",
     "output_type": "stream",
     "text": [
      "****************************************************************************\n",
      "Cross-validation accuracy (std): 0.994710 (0.009709)\n",
      "AUROC: 0.999001\n",
      "AUPRC: 0.998978\n",
      "Predicted classes: [0 1]\n",
      "Confusion matrix:\n",
      " [[30041    10]\n",
      " [  308 29743]]\n",
      "Classification report:\n",
      "               precision    recall  f1-score   support\n",
      "\n",
      "           0       0.99      1.00      0.99     30051\n",
      "           1       1.00      0.99      0.99     30051\n",
      "\n",
      "    accuracy                           0.99     60102\n",
      "   macro avg       0.99      0.99      0.99     60102\n",
      "weighted avg       0.99      0.99      0.99     60102\n",
      "\n",
      "****************************************************************************\n"
     ]
    }
   ],
   "source": [
    "rf_ovsm = RandomForestClassifier(random_state = 42)\n",
    "model_selection_cv(rf_ovsm, X_train_scale_ovsm, y_train_ovsm, cv_fold=5, scoring = 'accuracy')"
   ]
  },
  {
   "cell_type": "markdown",
   "metadata": {},
   "source": [
    "##  ROC and PR Curves on the Cross-Validation Training Set\n",
    "We can see that SMOTE performed extremely well on the training set"
   ]
  },
  {
   "cell_type": "code",
   "execution_count": 44,
   "metadata": {
    "scrolled": false
   },
   "outputs": [
    {
     "data": {
      "image/png": "[encoded data removed]",
      "text/plain": [
       "<Figure size 1440x576 with 2 Axes>"
      ]
     },
     "metadata": {},
     "output_type": "display_data"
    }
   ],
   "source": [
    "# Set figure and font sizes\n",
    "fig = plt.figure(figsize = (20,8))\n",
    "plt.rcParams.update({'font.size':20})\n",
    "sns.set(font_scale = 1.5)\n",
    "sns.set_style('ticks')\n",
    "\n",
    "# Plot ROC and PR curves for normal imbalanced distribution\n",
    "Plot_ROC_Curve_and_PRC_Cross_Val(rsearch_rf.best_estimator_, X_train_scale, y_train,\n",
    "                       color= 'b', label = 'Normal (AUC= %0.2f)')\n",
    "\n",
    "# Plot ROC and PR curves for Under Sampled distribution\n",
    "Plot_ROC_Curve_and_PRC_Cross_Val(rf_und, X_train_scale_und, y_train_und,\n",
    "                       color= 'g', label = 'Under Sampled (AUC= %0.2f)')\n",
    "                     \n",
    "# Plot ROC and PR curves for SMOTE distribution\n",
    "Plot_ROC_Curve_and_PRC_Cross_Val(rf_ovsm, X_train_scale_ovsm, y_train_ovsm,\n",
    "                       color= 'r', label = 'SMOTE (AUC= %0.2f)') "
   ]
  },
  {
   "cell_type": "markdown",
   "metadata": {},
   "source": [
    "#  Prediction on the Imbalanced Test Set \n",
    "In this section, we make our final prediction on the imbalanced dataset after training the model using the resampling techniques."
   ]
  },
  {
   "cell_type": "markdown",
   "metadata": {},
   "source": [
    "## 1. Normal Imbalanced dataset"
   ]
  },
  {
   "cell_type": "code",
   "execution_count": 45,
   "metadata": {},
   "outputs": [
    {
     "name": "stdout",
     "output_type": "stream",
     "text": [
      "****************************************************************************\n",
      "Test accuracy:  0.987559\n",
      "AUROC: 0.861956\n",
      "AUPRC: 0.500756\n",
      "Predicted classes: [0 1]\n",
      "Confusion matrix:\n",
      " [[7513    0]\n",
      " [  95   28]]\n",
      "Classification report:\n",
      "               precision    recall  f1-score   support\n",
      "\n",
      "           0       0.99      1.00      0.99      7513\n",
      "           1       1.00      0.23      0.37       123\n",
      "\n",
      "    accuracy                           0.99      7636\n",
      "   macro avg       0.99      0.61      0.68      7636\n",
      "weighted avg       0.99      0.99      0.98      7636\n",
      "\n",
      "****************************************************************************\n"
     ]
    }
   ],
   "source": [
    "rf_best = rsearch_rf.best_estimator_\n",
    "Test_Prediction(rf_best, X_train_scale, y_train, X_test_scale, y_test)"
   ]
  },
  {
   "cell_type": "markdown",
   "metadata": {},
   "source": [
    "## 2. Undersampled dataset"
   ]
  },
  {
   "cell_type": "code",
   "execution_count": 46,
   "metadata": {},
   "outputs": [
    {
     "name": "stdout",
     "output_type": "stream",
     "text": [
      "****************************************************************************\n",
      "Test accuracy:  0.495285\n",
      "AUROC: 0.811986\n",
      "AUPRC: 0.376533\n",
      "Predicted classes: [0 1]\n",
      "Confusion matrix:\n",
      " [[3678 3835]\n",
      " [  19  104]]\n",
      "Classification report:\n",
      "               precision    recall  f1-score   support\n",
      "\n",
      "           0       0.99      0.49      0.66      7513\n",
      "           1       0.03      0.85      0.05       123\n",
      "\n",
      "    accuracy                           0.50      7636\n",
      "   macro avg       0.51      0.67      0.35      7636\n",
      "weighted avg       0.98      0.50      0.65      7636\n",
      "\n",
      "****************************************************************************\n"
     ]
    }
   ],
   "source": [
    "Test_Prediction(rf_und, X_train_scale_und, y_train_und, X_test_scale, y_test)"
   ]
  },
  {
   "cell_type": "markdown",
   "metadata": {},
   "source": [
    "## 3. SMOTE dataset"
   ]
  },
  {
   "cell_type": "code",
   "execution_count": 47,
   "metadata": {},
   "outputs": [
    {
     "name": "stdout",
     "output_type": "stream",
     "text": [
      "****************************************************************************\n",
      "Test accuracy:  0.990309\n",
      "AUROC: 0.763842\n",
      "AUPRC: 0.459218\n",
      "Predicted classes: [0 1]\n",
      "Confusion matrix:\n",
      " [[7512    1]\n",
      " [  73   50]]\n",
      "Classification report:\n",
      "               precision    recall  f1-score   support\n",
      "\n",
      "           0       0.99      1.00      1.00      7513\n",
      "           1       0.98      0.41      0.57       123\n",
      "\n",
      "    accuracy                           0.99      7636\n",
      "   macro avg       0.99      0.70      0.78      7636\n",
      "weighted avg       0.99      0.99      0.99      7636\n",
      "\n",
      "****************************************************************************\n"
     ]
    }
   ],
   "source": [
    "Test_Prediction(rf_ovsm, X_train_scale_ovsm, y_train_ovsm, X_test_scale, y_test)"
   ]
  },
  {
   "cell_type": "markdown",
   "metadata": {},
   "source": [
    "##  ROC and PR Curves on the Test Set\n",
    "The AUPRC of the normal imbalanced dataset is slightly higher (by 0.01%) than undersampling and SMOTE."
   ]
  },
  {
   "cell_type": "code",
   "execution_count": 48,
   "metadata": {},
   "outputs": [
    {
     "data": {
      "image/png": "[encoded data removed]",
      "text/plain": [
       "<Figure size 1440x576 with 2 Axes>"
      ]
     },
     "metadata": {},
     "output_type": "display_data"
    }
   ],
   "source": [
    "# Set figure and font sizes\n",
    "fig = plt.figure(figsize = (20,8))\n",
    "plt.rcParams.update({'font.size':20})\n",
    "sns.set(font_scale = 1.5)\n",
    "sns.set_style('ticks')\n",
    "\n",
    "# Plot ROC and PR curves for normal imbalanced distribution\n",
    "Plot_ROC_Curve_and_PRC(rsearch_rf.best_estimator_, X_train_scale, y_train, X_test_scale, y_test,\n",
    "                       color= 'b', label = 'Normal (AUC= %0.2f)')\n",
    "\n",
    "# Plot ROC and PR curves for Under Sampled distribution\n",
    "Plot_ROC_Curve_and_PRC(rf_und, X_train_scale_und, y_train_und, X_test_scale, y_test,\n",
    "                       color= 'g', label = 'Under Sampled (AUC= %0.2f)')\n",
    "\n",
    "# Plot ROC and PR curves for  SMOTE distribution\n",
    "Plot_ROC_Curve_and_PRC(rf_ovsm, X_train_scale_ovsm, y_train_ovsm, X_test_scale, y_test,\n",
    "                       color= 'r', label = 'SMOTE (AUC= %0.2f)')"
   ]
  },
  {
   "cell_type": "code",
   "execution_count": null,
   "metadata": {},
   "outputs": [],
   "source": [
    "# from numbers import Number\n",
    "# from scipy import stats\n",
    "\n",
    "# var_list = ['C_YEAR','C_MNTH','C_WDAY','C_HOUR','C_VEHS','C_CONF','C_RCFG','C_WTHR','C_RSUR','C_RALN','C_TRAF',\n",
    "# 'V_ID','V_TYPE','V_YEAR','P_ID','P_SEX','P_AGE','P_PSN','P_ISEV','P_SAFE','P_USER']\n",
    " \n",
    "# CHI2 = []\n",
    "# P =[]\n",
    "# Variable =[]\n",
    "\n",
    "# for k in var_list:\n",
    "#     table = pd.crosstab(df['C_SEV'], df[k])\n",
    "#     chi2, p, dof, expected = stats.chi2_contingency(table.values)\n",
    "#     Variable.append(k)\n",
    "#     CHI2.append(chi2)\n",
    "#     P.append(p)\n",
    "    \n",
    "# pd.DataFrame({'Variable': Variable, 'Chi-Square':CHI2, 'P-Value':P })"
   ]
  }
 ],
 "metadata": {
  "kernelspec": {
   "display_name": "Python 3",
   "language": "python",
   "name": "python3"
  },
  "language_info": {
   "codemirror_mode": {
    "name": "ipython",
    "version": 3
   },
   "file_extension": ".py",
   "mimetype": "text/x-python",
   "name": "python",
   "nbconvert_exporter": "python",
   "pygments_lexer": "ipython3",
   "version": "3.7.3"
  }
 },
 "nbformat": 4,
 "nbformat_minor": 2
}
