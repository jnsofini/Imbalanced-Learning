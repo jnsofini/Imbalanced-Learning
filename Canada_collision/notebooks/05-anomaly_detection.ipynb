{
 "cells": [
  {
   "cell_type": "markdown",
   "metadata": {},
   "source": [
    "#  Novelty Detection (Semi-Supervised)"
   ]
  },
  {
   "cell_type": "markdown",
   "metadata": {},
   "source": [
    "##  Imports"
   ]
  },
  {
   "cell_type": "code",
   "execution_count": 60,
   "metadata": {},
   "outputs": [
    {
     "name": "stdout",
     "output_type": "stream",
     "text": [
      "The autoreload extension is already loaded. To reload it, use:\n",
      "  %reload_ext autoreload\n"
     ]
    }
   ],
   "source": [
    "%load_ext autoreload\n",
    "%autoreload \n",
    "\n",
    "# Ignore deprecated warning\n",
    "import warnings\n",
    "warnings.filterwarnings(\"ignore\")\n",
    "\n",
    "# Data manipulation\n",
    "import pandas as pd\n",
    "import numpy as np\n",
    "\n",
    "# Data visualization\n",
    "%matplotlib inline\n",
    "import matplotlib.pyplot as plt\n",
    "import seaborn as sns\n",
    "sns.set(font_scale = 2)\n",
    "sns.set_style('ticks')\n",
    "sns.set()\n",
    "\n",
    "# Data pre-processing\n",
    "from sklearn_pandas import DataFrameMapper\n",
    "from sklearn.preprocessing import StandardScaler\n",
    "from sklearn.preprocessing import LabelBinarizer\n",
    "\n",
    "# Dimensionality reduction\n",
    "from MulticoreTSNE import MulticoreTSNE as TSNE # https://github.com/DmitryUlyanov/Multicore-TSNE\n",
    "from sklearn.decomposition import PCA\n",
    "from sklearn.discriminant_analysis import LinearDiscriminantAnalysis as LDA\n",
    "\n",
    "# Model selection\n",
    "from sklearn.model_selection import train_test_split\n",
    "from sklearn.preprocessing import StandardScaler\n",
    "\n",
    "# Anomaly detection models from sklearn\n",
    "from sklearn.svm import OneClassSVM\n",
    "from sklearn.covariance import EllipticEnvelope\n",
    "from sklearn.ensemble import IsolationForest\n",
    "from sklearn.neighbors import LocalOutlierFactor\n",
    "\n",
    "# Anomaly detection models from pyod\n",
    "from pyod.models.abod import ABOD\n",
    "from pyod.models.cblof import CBLOF\n",
    "from pyod.models.feature_bagging import FeatureBagging\n",
    "from pyod.models.hbos import HBOS\n",
    "from pyod.models.iforest import IForest\n",
    "from pyod.models.knn import KNN\n",
    "from pyod.models.lof import LOF\n",
    "from pyod.models.mcd import MCD\n",
    "from pyod.models.ocsvm import OCSVM\n",
    "\n",
    "from pyod.utils.data import evaluate_print\n",
    "from pyod.utils.example import visualize\n",
    "\n",
    "# Metrics\n",
    "from sklearn.metrics import confusion_matrix, classification_report, accuracy_score, f1_score\n",
    "from sklearn.metrics import roc_curve, roc_auc_score, average_precision_score, recall_score"
   ]
  },
  {
   "cell_type": "code",
   "execution_count": 61,
   "metadata": {},
   "outputs": [],
   "source": [
    "# run some files containing custom functions\n",
    "%run -i '../scripts/anomaly_helper_functions.py'\n",
    "%run -i '../scripts/helper_functions.py'"
   ]
  },
  {
   "cell_type": "markdown",
   "metadata": {},
   "source": [
    "## Load data"
   ]
  },
  {
   "cell_type": "code",
   "execution_count": 3,
   "metadata": {},
   "outputs": [
    {
     "data": {
      "text/html": [
       "<div>\n",
       "<style scoped>\n",
       "    .dataframe tbody tr th:only-of-type {\n",
       "        vertical-align: middle;\n",
       "    }\n",
       "\n",
       "    .dataframe tbody tr th {\n",
       "        vertical-align: top;\n",
       "    }\n",
       "\n",
       "    .dataframe thead th {\n",
       "        text-align: right;\n",
       "    }\n",
       "</style>\n",
       "<table border=\"1\" class=\"dataframe\">\n",
       "  <thead>\n",
       "    <tr style=\"text-align: right;\">\n",
       "      <th></th>\n",
       "      <th>C_YEAR</th>\n",
       "      <th>C_MNTH</th>\n",
       "      <th>C_WDAY</th>\n",
       "      <th>C_HOUR</th>\n",
       "      <th>FATAL</th>\n",
       "      <th>C_VEHS</th>\n",
       "      <th>C_CONF</th>\n",
       "      <th>C_RCFG</th>\n",
       "      <th>C_WTHR</th>\n",
       "      <th>C_RSUR</th>\n",
       "      <th>...</th>\n",
       "      <th>V_TYPE</th>\n",
       "      <th>V_YEAR</th>\n",
       "      <th>P_ID</th>\n",
       "      <th>P_SEX</th>\n",
       "      <th>P_AGE</th>\n",
       "      <th>P_PSN</th>\n",
       "      <th>P_ISEV</th>\n",
       "      <th>P_SAFE</th>\n",
       "      <th>P_USER</th>\n",
       "      <th>C_CASE</th>\n",
       "    </tr>\n",
       "  </thead>\n",
       "  <tbody>\n",
       "    <tr>\n",
       "      <td>0</td>\n",
       "      <td>1999</td>\n",
       "      <td>January</td>\n",
       "      <td>Monday</td>\n",
       "      <td>9.0</td>\n",
       "      <td>0</td>\n",
       "      <td>2.0</td>\n",
       "      <td>Right turn</td>\n",
       "      <td>At an intersection</td>\n",
       "      <td>Clear and sunny</td>\n",
       "      <td>Dry, normal</td>\n",
       "      <td>...</td>\n",
       "      <td>Light Duty Vehicle</td>\n",
       "      <td>1992.0</td>\n",
       "      <td>1.0</td>\n",
       "      <td>F</td>\n",
       "      <td>33.0</td>\n",
       "      <td>Driver</td>\n",
       "      <td>Injury</td>\n",
       "      <td>Safety device used</td>\n",
       "      <td>Motor Vehicle Driver</td>\n",
       "      <td>2890</td>\n",
       "    </tr>\n",
       "    <tr>\n",
       "      <td>1</td>\n",
       "      <td>1999</td>\n",
       "      <td>January</td>\n",
       "      <td>Monday</td>\n",
       "      <td>9.0</td>\n",
       "      <td>0</td>\n",
       "      <td>2.0</td>\n",
       "      <td>Right turn</td>\n",
       "      <td>At an intersection</td>\n",
       "      <td>Clear and sunny</td>\n",
       "      <td>Dry, normal</td>\n",
       "      <td>...</td>\n",
       "      <td>Light Duty Vehicle</td>\n",
       "      <td>1992.0</td>\n",
       "      <td>1.0</td>\n",
       "      <td>F</td>\n",
       "      <td>70.0</td>\n",
       "      <td>Driver</td>\n",
       "      <td>No Injury</td>\n",
       "      <td>Safety device used</td>\n",
       "      <td>Motor Vehicle Driver</td>\n",
       "      <td>2890</td>\n",
       "    </tr>\n",
       "    <tr>\n",
       "      <td>2</td>\n",
       "      <td>1999</td>\n",
       "      <td>January</td>\n",
       "      <td>Monday</td>\n",
       "      <td>20.0</td>\n",
       "      <td>0</td>\n",
       "      <td>1.0</td>\n",
       "      <td>Ran off left shoulder</td>\n",
       "      <td>Intersection with parking lot entrance</td>\n",
       "      <td>Clear and sunny</td>\n",
       "      <td>Dry, normal</td>\n",
       "      <td>...</td>\n",
       "      <td>Light Duty Vehicle</td>\n",
       "      <td>1988.0</td>\n",
       "      <td>1.0</td>\n",
       "      <td>F</td>\n",
       "      <td>38.0</td>\n",
       "      <td>Driver</td>\n",
       "      <td>Injury</td>\n",
       "      <td>Safety device used</td>\n",
       "      <td>Motor Vehicle Driver</td>\n",
       "      <td>4332</td>\n",
       "    </tr>\n",
       "    <tr>\n",
       "      <td>3</td>\n",
       "      <td>1999</td>\n",
       "      <td>January</td>\n",
       "      <td>Monday</td>\n",
       "      <td>5.0</td>\n",
       "      <td>0</td>\n",
       "      <td>2.0</td>\n",
       "      <td>Hit a moving object</td>\n",
       "      <td>At an intersection</td>\n",
       "      <td>Raining</td>\n",
       "      <td>Wet</td>\n",
       "      <td>...</td>\n",
       "      <td>Other trucks and vans</td>\n",
       "      <td>1995.0</td>\n",
       "      <td>1.0</td>\n",
       "      <td>M</td>\n",
       "      <td>34.0</td>\n",
       "      <td>Driver</td>\n",
       "      <td>No Injury</td>\n",
       "      <td>Safety device used</td>\n",
       "      <td>Motor Vehicle Driver</td>\n",
       "      <td>5053</td>\n",
       "    </tr>\n",
       "    <tr>\n",
       "      <td>4</td>\n",
       "      <td>1999</td>\n",
       "      <td>January</td>\n",
       "      <td>Monday</td>\n",
       "      <td>5.0</td>\n",
       "      <td>0</td>\n",
       "      <td>2.0</td>\n",
       "      <td>Hit a moving object</td>\n",
       "      <td>At an intersection</td>\n",
       "      <td>Raining</td>\n",
       "      <td>Wet</td>\n",
       "      <td>...</td>\n",
       "      <td>Other trucks and vans</td>\n",
       "      <td>1995.0</td>\n",
       "      <td>2.0</td>\n",
       "      <td>M</td>\n",
       "      <td>30.0</td>\n",
       "      <td>Front row, right outboard</td>\n",
       "      <td>No Injury</td>\n",
       "      <td>Safety device used</td>\n",
       "      <td>Motor Vehicle Passenger</td>\n",
       "      <td>5053</td>\n",
       "    </tr>\n",
       "  </tbody>\n",
       "</table>\n",
       "<p>5 rows × 23 columns</p>\n",
       "</div>"
      ],
      "text/plain": [
       "   C_YEAR   C_MNTH  C_WDAY  C_HOUR  FATAL  C_VEHS                 C_CONF  \\\n",
       "0    1999  January  Monday     9.0      0     2.0             Right turn   \n",
       "1    1999  January  Monday     9.0      0     2.0             Right turn   \n",
       "2    1999  January  Monday    20.0      0     1.0  Ran off left shoulder   \n",
       "3    1999  January  Monday     5.0      0     2.0    Hit a moving object   \n",
       "4    1999  January  Monday     5.0      0     2.0    Hit a moving object   \n",
       "\n",
       "                                   C_RCFG           C_WTHR       C_RSUR  ...  \\\n",
       "0                      At an intersection  Clear and sunny  Dry, normal  ...   \n",
       "1                      At an intersection  Clear and sunny  Dry, normal  ...   \n",
       "2  Intersection with parking lot entrance  Clear and sunny  Dry, normal  ...   \n",
       "3                      At an intersection          Raining          Wet  ...   \n",
       "4                      At an intersection          Raining          Wet  ...   \n",
       "\n",
       "                  V_TYPE  V_YEAR  P_ID P_SEX  P_AGE  \\\n",
       "0     Light Duty Vehicle  1992.0   1.0     F   33.0   \n",
       "1     Light Duty Vehicle  1992.0   1.0     F   70.0   \n",
       "2     Light Duty Vehicle  1988.0   1.0     F   38.0   \n",
       "3  Other trucks and vans  1995.0   1.0     M   34.0   \n",
       "4  Other trucks and vans  1995.0   2.0     M   30.0   \n",
       "\n",
       "                       P_PSN     P_ISEV              P_SAFE  \\\n",
       "0                     Driver     Injury  Safety device used   \n",
       "1                     Driver  No Injury  Safety device used   \n",
       "2                     Driver     Injury  Safety device used   \n",
       "3                     Driver  No Injury  Safety device used   \n",
       "4  Front row, right outboard  No Injury  Safety device used   \n",
       "\n",
       "                    P_USER C_CASE  \n",
       "0     Motor Vehicle Driver   2890  \n",
       "1     Motor Vehicle Driver   2890  \n",
       "2     Motor Vehicle Driver   4332  \n",
       "3     Motor Vehicle Driver   5053  \n",
       "4  Motor Vehicle Passenger   5053  \n",
       "\n",
       "[5 rows x 23 columns]"
      ]
     },
     "execution_count": 3,
     "metadata": {},
     "output_type": "execute_result"
    }
   ],
   "source": [
    "#  Load cleaned data\n",
    "df = pd.read_csv('../raw_data/clean_data.csv')\n",
    "df.head()"
   ]
  },
  {
   "cell_type": "code",
   "execution_count": 4,
   "metadata": {
    "scrolled": true
   },
   "outputs": [
    {
     "data": {
      "text/plain": [
       "(3817613, 23)"
      ]
     },
     "execution_count": 4,
     "metadata": {},
     "output_type": "execute_result"
    }
   ],
   "source": [
    "df.shape"
   ]
  },
  {
   "cell_type": "code",
   "execution_count": 5,
   "metadata": {},
   "outputs": [],
   "source": [
    "# Shuffle the dataset\n",
    "df = df.sample(frac =1).reset_index(drop = True)"
   ]
  },
  {
   "cell_type": "markdown",
   "metadata": {},
   "source": [
    "## Class distribution"
   ]
  },
  {
   "cell_type": "code",
   "execution_count": 6,
   "metadata": {},
   "outputs": [
    {
     "data": {
      "text/plain": [
       "0    98.39\n",
       "1     1.61\n",
       "Name: FATAL, dtype: float64"
      ]
     },
     "execution_count": 6,
     "metadata": {},
     "output_type": "execute_result"
    },
    {
     "data": {
      "image/png": "[encoded data removed]",
      "text/plain": [
       "<Figure size 576x432 with 1 Axes>"
      ]
     },
     "metadata": {
      "needs_background": "light"
     },
     "output_type": "display_data"
    }
   ],
   "source": [
    "class_dis = (df.FATAL.value_counts()/len(df)*100)\n",
    "class_dis.plot(kind = 'bar', figsize = (8,6))\n",
    "plt.xlabel('Class label')\n",
    "plt.ylabel('Percentage distribution')\n",
    "round(class_dis,2)"
   ]
  },
  {
   "cell_type": "markdown",
   "metadata": {},
   "source": [
    "## Reduce the Dataset"
   ]
  },
  {
   "cell_type": "markdown",
   "metadata": {},
   "source": [
    "Since the dataset is very large to fit in a small laptop memory, training the entire dataset on a laptop will take days to run let alone tuning the hyperparameters by grid search.  Hence, we will first split the dataset into two subsets and train the model on the small subset"
   ]
  },
  {
   "cell_type": "code",
   "execution_count": 7,
   "metadata": {},
   "outputs": [],
   "source": [
    "X1, X2, y1, y2 = train_test_split(df,df.FATAL, test_size = 0.01, random_state = 42, stratify = df.FATAL)"
   ]
  },
  {
   "cell_type": "code",
   "execution_count": 8,
   "metadata": {},
   "outputs": [
    {
     "name": "stdout",
     "output_type": "stream",
     "text": [
      "Large subset size: (3779436, 23) (3779436,)\n",
      "Small subset size: (38177, 23) (38177,)\n"
     ]
    }
   ],
   "source": [
    "print('Large subset size:', X1.shape, y1.shape)\n",
    "print('Small subset size:', X2.shape, y2.shape)"
   ]
  },
  {
   "cell_type": "code",
   "execution_count": 9,
   "metadata": {},
   "outputs": [],
   "source": [
    "# Save the small subset as csv file\n",
    "X2.to_csv('../data/collision.csv', index = False)"
   ]
  },
  {
   "cell_type": "markdown",
   "metadata": {},
   "source": [
    "#  Anomaly Detection Models "
   ]
  },
  {
   "cell_type": "code",
   "execution_count": 10,
   "metadata": {},
   "outputs": [],
   "source": [
    "# Reload data\n",
    "df_small = pd.read_csv('../data/collision.csv')"
   ]
  },
  {
   "cell_type": "code",
   "execution_count": 11,
   "metadata": {},
   "outputs": [
    {
     "name": "stdout",
     "output_type": "stream",
     "text": [
      "Data size: (38177, 20) (38177,)\n"
     ]
    }
   ],
   "source": [
    "# Feature matrix and class label\n",
    "X, y = df_small.drop(['P_ID', 'V_ID', 'FATAL'], axis = 1), df_small['FATAL']\n",
    "print('Data size:', X.shape, y.shape)"
   ]
  },
  {
   "cell_type": "markdown",
   "metadata": {},
   "source": [
    "## 1. Create a Test Set"
   ]
  },
  {
   "cell_type": "markdown",
   "metadata": {},
   "source": [
    "We now split the into $80\\%$ training set and $20\\%$ test set in a stratify fashion"
   ]
  },
  {
   "cell_type": "code",
   "execution_count": 49,
   "metadata": {},
   "outputs": [],
   "source": [
    "X_train, X_test, y_train, y_test = train_test_split(X,y, test_size = 0.2, random_state = 42, stratify = y)"
   ]
  },
  {
   "cell_type": "code",
   "execution_count": 50,
   "metadata": {},
   "outputs": [
    {
     "name": "stdout",
     "output_type": "stream",
     "text": [
      "Training set size: (30541, 20) (30541,)\n",
      "Test set size: (7636, 20) (7636,)\n"
     ]
    }
   ],
   "source": [
    "print('Training set size:', X_train.shape, y_train.shape)\n",
    "print('Test set size:', X_test.shape, y_test.shape)"
   ]
  },
  {
   "cell_type": "code",
   "execution_count": 51,
   "metadata": {},
   "outputs": [
    {
     "name": "stdout",
     "output_type": "stream",
     "text": [
      "Training set class distribution:\n",
      " 0    98.395599\n",
      "1     1.604401\n",
      "Name: FATAL, dtype: float64\n",
      "*********************************\n",
      "Test set class distribution:\n",
      " 0    98.389209\n",
      "1     1.610791\n",
      "Name: FATAL, dtype: float64\n"
     ]
    }
   ],
   "source": [
    "print('Training set class distribution:\\n', (y_train.value_counts()/X_train.shape[0])*100)\n",
    "print('*********************************')\n",
    "print('Test set class distribution:\\n', (y_test.value_counts()/X_test.shape[0])*100)"
   ]
  },
  {
   "cell_type": "markdown",
   "metadata": {},
   "source": [
    "##  2. Data Pre-processing"
   ]
  },
  {
   "cell_type": "code",
   "execution_count": 52,
   "metadata": {},
   "outputs": [],
   "source": [
    "# List of categorical attributes\n",
    "cat_subset = list(X_train.select_dtypes('O'))\n",
    "\n",
    "# List of numerical attributes\n",
    "num_subset = list(X_train.select_dtypes('number'))\n",
    "\n",
    "# Binarize the categorical attributes\n",
    "cat_attribs = [([cat], LabelBinarizer()) for cat in cat_subset]\n",
    "\n",
    "# Standardize the numerical attributes\n",
    "num_attribs = [([num], StandardScaler()) for num in num_subset]\n",
    "\n",
    "# Build a dataframe mapper pipeline\n",
    "mapper = DataFrameMapper(cat_attribs + num_attribs)\n",
    "\n",
    "# Fit transform the training set\n",
    "X_train_scaled = mapper.fit_transform(X_train)\n",
    "\n",
    "# Only transform the training set\n",
    "X_test_scaled = mapper.transform(X_test)"
   ]
  },
  {
   "cell_type": "code",
   "execution_count": 53,
   "metadata": {},
   "outputs": [
    {
     "name": "stdout",
     "output_type": "stream",
     "text": [
      "Training set size after pre-processing: (30541, 130)\n",
      "Test set size after pre-processing: (7636, 130)\n"
     ]
    }
   ],
   "source": [
    "# Size of the data after pre-processing\n",
    "print('Training set size after pre-processing:', X_train_scaled.shape)\n",
    "print('Test set size after pre-processing:', X_test_scaled.shape)"
   ]
  },
  {
   "cell_type": "markdown",
   "metadata": {},
   "source": [
    "## 3. Dimensionality Reduction"
   ]
  },
  {
   "cell_type": "code",
   "execution_count": 78,
   "metadata": {},
   "outputs": [],
   "source": [
    "# PCA\n",
    "pca = PCA(n_components = 120)  \n",
    "X_train_pca = pca.fit_transform(X_train_scaled)\n",
    "X_test_pca = pca.transform(X_test_scaled)"
   ]
  },
  {
   "cell_type": "code",
   "execution_count": 79,
   "metadata": {},
   "outputs": [
    {
     "name": "stdout",
     "output_type": "stream",
     "text": [
      "Training set size after PCA: (30541, 120)\n",
      "Test set size after PCA: (7636, 120)\n"
     ]
    }
   ],
   "source": [
    "# Size of the data after PCA\n",
    "print('Training set size after PCA:', X_train_pca.shape)\n",
    "print('Test set size after PCA:', X_test_pca.shape)"
   ]
  },
  {
   "cell_type": "code",
   "execution_count": 56,
   "metadata": {},
   "outputs": [],
   "source": [
    "# Convert the class labels to arrays\n",
    "y_train, y_test = y_train.values,  y_test.values"
   ]
  },
  {
   "cell_type": "markdown",
   "metadata": {},
   "source": [
    "# Models"
   ]
  },
  {
   "cell_type": "markdown",
   "metadata": {},
   "source": [
    "## 1. Isolation Forest"
   ]
  },
  {
   "cell_type": "code",
   "execution_count": 81,
   "metadata": {},
   "outputs": [
    {
     "name": "stdout",
     "output_type": "stream",
     "text": [
      "\n",
      "On Training Data:\n",
      "Accuracy:  0.897711\n",
      "AUROC: 0.666966\n",
      "AUPRC: 0.038638\n",
      "Confusion matrix:\n",
      " [[27207  2844]\n",
      " [  280   210]]\n",
      "Classification report:\n",
      "               precision    recall  f1-score   support\n",
      "\n",
      "           0       0.99      0.91      0.95     30051\n",
      "           1       0.07      0.43      0.12       490\n",
      "\n",
      "    accuracy                           0.90     30541\n",
      "   macro avg       0.53      0.67      0.53     30541\n",
      "weighted avg       0.98      0.90      0.93     30541\n",
      "\n",
      "*****************************************************************************\n",
      "\n",
      "On Test Data:\n",
      "Accuracy:  0.902829\n",
      "AUROC: 0.682720\n",
      "AUPRC: 0.043652\n",
      "Confusion matrix:\n",
      " [[6838  675]\n",
      " [  67   56]]\n",
      "Classification report:\n",
      "               precision    recall  f1-score   support\n",
      "\n",
      "           0       0.99      0.91      0.95      7513\n",
      "           1       0.08      0.46      0.13       123\n",
      "\n",
      "    accuracy                           0.90      7636\n",
      "   macro avg       0.53      0.68      0.54      7636\n",
      "weighted avg       0.98      0.90      0.94      7636\n",
      "\n",
      "*****************************************************************************\n"
     ]
    }
   ],
   "source": [
    "# train IForest detector\n",
    "clf_name = 'IForest'\n",
    "clf = IForest()\n",
    "clf.fit(X_train_pca)\n",
    "\n",
    "# get the prediction labels and outlier scores of the training data\n",
    "y_train_pred = clf.labels_  # binary labels (0: inliers, 1: outliers)\n",
    "y_train_scores = clf.decision_scores_  # raw outlier scores\n",
    "\n",
    "# get the prediction on the test data\n",
    "y_test_pred = clf.predict(X_test_pca)  # outlier labels (0 or 1)\n",
    "y_test_scores = clf.decision_function(X_test_pca)  # outlier scores\n",
    "\n",
    "# evaluate and print the results\n",
    "print(\"\\nOn Training Data:\")\n",
    "evalaute_performance(y_train, y_train_pred)\n",
    "\n",
    "print(\"\\nOn Test Data:\")\n",
    "evalaute_performance(y_test, y_test_pred)"
   ]
  },
  {
   "cell_type": "code",
   "execution_count": null,
   "metadata": {},
   "outputs": [],
   "source": []
  }
 ],
 "metadata": {
  "kernelspec": {
   "display_name": "Python 3",
   "language": "python",
   "name": "python3"
  },
  "language_info": {
   "codemirror_mode": {
    "name": "ipython",
    "version": 3
   },
   "file_extension": ".py",
   "mimetype": "text/x-python",
   "name": "python",
   "nbconvert_exporter": "python",
   "pygments_lexer": "ipython3",
   "version": "3.7.3"
  }
 },
 "nbformat": 4,
 "nbformat_minor": 2
}
