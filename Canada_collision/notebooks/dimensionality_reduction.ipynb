{
 "cells": [
  {
   "cell_type": "markdown",
   "metadata": {},
   "source": [
    "##  Imports"
   ]
  },
  {
   "cell_type": "code",
   "execution_count": 1,
   "metadata": {},
   "outputs": [],
   "source": [
    "%load_ext autoreload\n",
    "%autoreload 2\n",
    "\n",
    "# Pandas and numpy for data manipulation\n",
    "%matplotlib inline\n",
    "import pandas as pd\n",
    "import numpy as np\n",
    "\n",
    "# Matplotlib  for data visualization\n",
    "import matplotlib.pyplot as plt\n",
    "import seaborn as sns\n",
    "\n",
    "# Dimensionality reduction\n",
    "from sklearn.decomposition import PCA\n",
    "\n",
    "# Model selection\n",
    "from sklearn.model_selection import train_test_split\n",
    "\n",
    "# Data pre-processing\n",
    "from sklearn_pandas import DataFrameMapper\n",
    "from sklearn.preprocessing import StandardScaler\n",
    "from sklearn.preprocessing import LabelBinarizer"
   ]
  },
  {
   "cell_type": "markdown",
   "metadata": {},
   "source": [
    "## Load data"
   ]
  },
  {
   "cell_type": "code",
   "execution_count": 2,
   "metadata": {},
   "outputs": [
    {
     "data": {
      "text/html": [
       "<div>\n",
       "<style scoped>\n",
       "    .dataframe tbody tr th:only-of-type {\n",
       "        vertical-align: middle;\n",
       "    }\n",
       "\n",
       "    .dataframe tbody tr th {\n",
       "        vertical-align: top;\n",
       "    }\n",
       "\n",
       "    .dataframe thead th {\n",
       "        text-align: right;\n",
       "    }\n",
       "</style>\n",
       "<table border=\"1\" class=\"dataframe\">\n",
       "  <thead>\n",
       "    <tr style=\"text-align: right;\">\n",
       "      <th></th>\n",
       "      <th>C_YEAR</th>\n",
       "      <th>C_MNTH</th>\n",
       "      <th>C_WDAY</th>\n",
       "      <th>C_HOUR</th>\n",
       "      <th>FATAL</th>\n",
       "      <th>C_VEHS</th>\n",
       "      <th>C_CONF</th>\n",
       "      <th>C_RCFG</th>\n",
       "      <th>C_WTHR</th>\n",
       "      <th>C_RSUR</th>\n",
       "      <th>...</th>\n",
       "      <th>V_TYPE</th>\n",
       "      <th>V_YEAR</th>\n",
       "      <th>P_ID</th>\n",
       "      <th>P_SEX</th>\n",
       "      <th>P_AGE</th>\n",
       "      <th>P_PSN</th>\n",
       "      <th>P_ISEV</th>\n",
       "      <th>P_SAFE</th>\n",
       "      <th>P_USER</th>\n",
       "      <th>C_CASE</th>\n",
       "    </tr>\n",
       "  </thead>\n",
       "  <tbody>\n",
       "    <tr>\n",
       "      <td>0</td>\n",
       "      <td>1999</td>\n",
       "      <td>January</td>\n",
       "      <td>Monday</td>\n",
       "      <td>9.0</td>\n",
       "      <td>0</td>\n",
       "      <td>2.0</td>\n",
       "      <td>Right turn</td>\n",
       "      <td>At an intersection</td>\n",
       "      <td>Clear and sunny</td>\n",
       "      <td>Dry, normal</td>\n",
       "      <td>...</td>\n",
       "      <td>Light Duty Vehicle</td>\n",
       "      <td>1992.0</td>\n",
       "      <td>1.0</td>\n",
       "      <td>F</td>\n",
       "      <td>33.0</td>\n",
       "      <td>Driver</td>\n",
       "      <td>Injury</td>\n",
       "      <td>Safety device used</td>\n",
       "      <td>Motor Vehicle Driver</td>\n",
       "      <td>2890</td>\n",
       "    </tr>\n",
       "    <tr>\n",
       "      <td>1</td>\n",
       "      <td>1999</td>\n",
       "      <td>January</td>\n",
       "      <td>Monday</td>\n",
       "      <td>9.0</td>\n",
       "      <td>0</td>\n",
       "      <td>2.0</td>\n",
       "      <td>Right turn</td>\n",
       "      <td>At an intersection</td>\n",
       "      <td>Clear and sunny</td>\n",
       "      <td>Dry, normal</td>\n",
       "      <td>...</td>\n",
       "      <td>Light Duty Vehicle</td>\n",
       "      <td>1992.0</td>\n",
       "      <td>1.0</td>\n",
       "      <td>F</td>\n",
       "      <td>70.0</td>\n",
       "      <td>Driver</td>\n",
       "      <td>No Injury</td>\n",
       "      <td>Safety device used</td>\n",
       "      <td>Motor Vehicle Driver</td>\n",
       "      <td>2890</td>\n",
       "    </tr>\n",
       "    <tr>\n",
       "      <td>2</td>\n",
       "      <td>1999</td>\n",
       "      <td>January</td>\n",
       "      <td>Monday</td>\n",
       "      <td>20.0</td>\n",
       "      <td>0</td>\n",
       "      <td>1.0</td>\n",
       "      <td>Ran off left shoulder</td>\n",
       "      <td>Intersection with parking lot entrance</td>\n",
       "      <td>Clear and sunny</td>\n",
       "      <td>Dry, normal</td>\n",
       "      <td>...</td>\n",
       "      <td>Light Duty Vehicle</td>\n",
       "      <td>1988.0</td>\n",
       "      <td>1.0</td>\n",
       "      <td>F</td>\n",
       "      <td>38.0</td>\n",
       "      <td>Driver</td>\n",
       "      <td>Injury</td>\n",
       "      <td>Safety device used</td>\n",
       "      <td>Motor Vehicle Driver</td>\n",
       "      <td>4332</td>\n",
       "    </tr>\n",
       "    <tr>\n",
       "      <td>3</td>\n",
       "      <td>1999</td>\n",
       "      <td>January</td>\n",
       "      <td>Monday</td>\n",
       "      <td>5.0</td>\n",
       "      <td>0</td>\n",
       "      <td>2.0</td>\n",
       "      <td>Hit a moving object</td>\n",
       "      <td>At an intersection</td>\n",
       "      <td>Raining</td>\n",
       "      <td>Wet</td>\n",
       "      <td>...</td>\n",
       "      <td>Other trucks and vans</td>\n",
       "      <td>1995.0</td>\n",
       "      <td>1.0</td>\n",
       "      <td>M</td>\n",
       "      <td>34.0</td>\n",
       "      <td>Driver</td>\n",
       "      <td>No Injury</td>\n",
       "      <td>Safety device used</td>\n",
       "      <td>Motor Vehicle Driver</td>\n",
       "      <td>5053</td>\n",
       "    </tr>\n",
       "    <tr>\n",
       "      <td>4</td>\n",
       "      <td>1999</td>\n",
       "      <td>January</td>\n",
       "      <td>Monday</td>\n",
       "      <td>5.0</td>\n",
       "      <td>0</td>\n",
       "      <td>2.0</td>\n",
       "      <td>Hit a moving object</td>\n",
       "      <td>At an intersection</td>\n",
       "      <td>Raining</td>\n",
       "      <td>Wet</td>\n",
       "      <td>...</td>\n",
       "      <td>Other trucks and vans</td>\n",
       "      <td>1995.0</td>\n",
       "      <td>2.0</td>\n",
       "      <td>M</td>\n",
       "      <td>30.0</td>\n",
       "      <td>Front row, right outboard</td>\n",
       "      <td>No Injury</td>\n",
       "      <td>Safety device used</td>\n",
       "      <td>Motor Vehicle Passenger</td>\n",
       "      <td>5053</td>\n",
       "    </tr>\n",
       "  </tbody>\n",
       "</table>\n",
       "<p>5 rows × 23 columns</p>\n",
       "</div>"
      ],
      "text/plain": [
       "   C_YEAR   C_MNTH  C_WDAY  C_HOUR  FATAL  C_VEHS                 C_CONF  \\\n",
       "0    1999  January  Monday     9.0      0     2.0             Right turn   \n",
       "1    1999  January  Monday     9.0      0     2.0             Right turn   \n",
       "2    1999  January  Monday    20.0      0     1.0  Ran off left shoulder   \n",
       "3    1999  January  Monday     5.0      0     2.0    Hit a moving object   \n",
       "4    1999  January  Monday     5.0      0     2.0    Hit a moving object   \n",
       "\n",
       "                                   C_RCFG           C_WTHR       C_RSUR  ...  \\\n",
       "0                      At an intersection  Clear and sunny  Dry, normal  ...   \n",
       "1                      At an intersection  Clear and sunny  Dry, normal  ...   \n",
       "2  Intersection with parking lot entrance  Clear and sunny  Dry, normal  ...   \n",
       "3                      At an intersection          Raining          Wet  ...   \n",
       "4                      At an intersection          Raining          Wet  ...   \n",
       "\n",
       "                  V_TYPE  V_YEAR  P_ID P_SEX  P_AGE  \\\n",
       "0     Light Duty Vehicle  1992.0   1.0     F   33.0   \n",
       "1     Light Duty Vehicle  1992.0   1.0     F   70.0   \n",
       "2     Light Duty Vehicle  1988.0   1.0     F   38.0   \n",
       "3  Other trucks and vans  1995.0   1.0     M   34.0   \n",
       "4  Other trucks and vans  1995.0   2.0     M   30.0   \n",
       "\n",
       "                       P_PSN     P_ISEV              P_SAFE  \\\n",
       "0                     Driver     Injury  Safety device used   \n",
       "1                     Driver  No Injury  Safety device used   \n",
       "2                     Driver     Injury  Safety device used   \n",
       "3                     Driver  No Injury  Safety device used   \n",
       "4  Front row, right outboard  No Injury  Safety device used   \n",
       "\n",
       "                    P_USER C_CASE  \n",
       "0     Motor Vehicle Driver   2890  \n",
       "1     Motor Vehicle Driver   2890  \n",
       "2     Motor Vehicle Driver   4332  \n",
       "3     Motor Vehicle Driver   5053  \n",
       "4  Motor Vehicle Passenger   5053  \n",
       "\n",
       "[5 rows x 23 columns]"
      ]
     },
     "execution_count": 2,
     "metadata": {},
     "output_type": "execute_result"
    }
   ],
   "source": [
    "df = pd.read_csv('../raw_data/clean_data.csv')\n",
    "df.head()"
   ]
  },
  {
   "cell_type": "code",
   "execution_count": 3,
   "metadata": {
    "scrolled": true
   },
   "outputs": [
    {
     "data": {
      "text/plain": [
       "(3817613, 23)"
      ]
     },
     "execution_count": 3,
     "metadata": {},
     "output_type": "execute_result"
    }
   ],
   "source": [
    "df.shape"
   ]
  },
  {
   "cell_type": "code",
   "execution_count": 4,
   "metadata": {},
   "outputs": [],
   "source": [
    "# Shuffle data\n",
    "df = df.sample(frac = 1).reset_index(drop = True)"
   ]
  },
  {
   "cell_type": "markdown",
   "metadata": {},
   "source": [
    "## Feature matrix"
   ]
  },
  {
   "cell_type": "code",
   "execution_count": 5,
   "metadata": {},
   "outputs": [],
   "source": [
    "# Feature matrix and class variable\n",
    "X,y = df.drop(['FATAL'], axis = 1), df['FATAL']"
   ]
  },
  {
   "cell_type": "markdown",
   "metadata": {},
   "source": [
    "##  Feature scaling"
   ]
  },
  {
   "cell_type": "code",
   "execution_count": 6,
   "metadata": {},
   "outputs": [],
   "source": [
    "# List of categorical attributes\n",
    "cat_subset = list(X.select_dtypes('O'))\n",
    "\n",
    "# List of numerical attributes\n",
    "num_subset = list(X.select_dtypes('number'))\n",
    "\n",
    "# Binarize the categorical attributes\n",
    "cat_attribs = [([cat], LabelBinarizer()) for cat in cat_subset]\n",
    "\n",
    "# Standardize the numerical attributes\n",
    "num_attribs = [([num], StandardScaler()) for num in num_subset]\n",
    "\n",
    "# Build a dataframe mapper pipeline\n",
    "mapper = DataFrameMapper(cat_attribs + num_attribs)\n",
    "\n",
    "# Fit transform the dataset\n",
    "X_scaled = mapper.fit_transform(X)"
   ]
  },
  {
   "cell_type": "code",
   "execution_count": 7,
   "metadata": {},
   "outputs": [
    {
     "name": "stdout",
     "output_type": "stream",
     "text": [
      "Dataset size after pre-processing: (3817613, 133)\n"
     ]
    }
   ],
   "source": [
    "# Size of the data after pre-processing\n",
    "print('Dataset size after pre-processing:', X_scaled.shape)"
   ]
  },
  {
   "cell_type": "code",
   "execution_count": 8,
   "metadata": {},
   "outputs": [],
   "source": [
    "# Relabel the class variable\n",
    "y = y.map({0:'Non-fatal', 1: 'Fatal'})"
   ]
  },
  {
   "cell_type": "markdown",
   "metadata": {},
   "source": [
    "## Principal component analysis"
   ]
  },
  {
   "cell_type": "code",
   "execution_count": 10,
   "metadata": {},
   "outputs": [],
   "source": [
    "# PCA for visualization\n",
    "pca = PCA(n_components = 2)\n",
    "X_reduced_pca = pca.fit_transform(X_scaled)"
   ]
  },
  {
   "cell_type": "code",
   "execution_count": 11,
   "metadata": {},
   "outputs": [
    {
     "data": {
      "text/html": [
       "<div>\n",
       "<style scoped>\n",
       "    .dataframe tbody tr th:only-of-type {\n",
       "        vertical-align: middle;\n",
       "    }\n",
       "\n",
       "    .dataframe tbody tr th {\n",
       "        vertical-align: top;\n",
       "    }\n",
       "\n",
       "    .dataframe thead th {\n",
       "        text-align: right;\n",
       "    }\n",
       "</style>\n",
       "<table border=\"1\" class=\"dataframe\">\n",
       "  <thead>\n",
       "    <tr style=\"text-align: right;\">\n",
       "      <th></th>\n",
       "      <th>PC1</th>\n",
       "      <th>PC2</th>\n",
       "      <th>Class</th>\n",
       "    </tr>\n",
       "  </thead>\n",
       "  <tbody>\n",
       "    <tr>\n",
       "      <td>0</td>\n",
       "      <td>-1.429336</td>\n",
       "      <td>-1.247463</td>\n",
       "      <td>Non-fatal</td>\n",
       "    </tr>\n",
       "    <tr>\n",
       "      <td>1</td>\n",
       "      <td>-1.283740</td>\n",
       "      <td>0.249879</td>\n",
       "      <td>Non-fatal</td>\n",
       "    </tr>\n",
       "    <tr>\n",
       "      <td>2</td>\n",
       "      <td>-2.118393</td>\n",
       "      <td>-1.482676</td>\n",
       "      <td>Non-fatal</td>\n",
       "    </tr>\n",
       "    <tr>\n",
       "      <td>3</td>\n",
       "      <td>0.692394</td>\n",
       "      <td>-1.424816</td>\n",
       "      <td>Non-fatal</td>\n",
       "    </tr>\n",
       "    <tr>\n",
       "      <td>4</td>\n",
       "      <td>2.135522</td>\n",
       "      <td>-1.141889</td>\n",
       "      <td>Non-fatal</td>\n",
       "    </tr>\n",
       "  </tbody>\n",
       "</table>\n",
       "</div>"
      ],
      "text/plain": [
       "        PC1       PC2      Class\n",
       "0 -1.429336 -1.247463  Non-fatal\n",
       "1 -1.283740  0.249879  Non-fatal\n",
       "2 -2.118393 -1.482676  Non-fatal\n",
       "3  0.692394 -1.424816  Non-fatal\n",
       "4  2.135522 -1.141889  Non-fatal"
      ]
     },
     "execution_count": 11,
     "metadata": {},
     "output_type": "execute_result"
    }
   ],
   "source": [
    "# Put in dataframe\n",
    "X_reduced_pca = pd.DataFrame(data = X_reduced_pca)\n",
    "X_reduced_pca.columns = ['PC1', 'PC2']\n",
    "X_reduced_pca['Class'] = y\n",
    "X_reduced_pca.head()"
   ]
  },
  {
   "cell_type": "code",
   "execution_count": 12,
   "metadata": {},
   "outputs": [],
   "source": [
    "# Pickle\n",
    "X_reduced_pca.to_pickle('../data/pca.pkl')"
   ]
  },
  {
   "cell_type": "code",
   "execution_count": 13,
   "metadata": {},
   "outputs": [
    {
     "data": {
      "image/png": "[encoded data removed]",
      "text/plain": [
       "<Figure size 816.45x432 with 1 Axes>"
      ]
     },
     "metadata": {},
     "output_type": "display_data"
    }
   ],
   "source": [
    "# Plot\n",
    "sns.set(font_scale = 2)\n",
    "sns.set_style('ticks')\n",
    "\n",
    "sns.lmplot(data = X_reduced_pca, x = 'PC1', y = 'PC2', hue = 'Class', fit_reg = False, \n",
    "           height = 6, aspect = 1.5, palette = 'gnuplot2_r')\n",
    "plt.title('PCA dimensionality reduction', fontsize = 20)\n",
    "plt.savefig('../image/pca.png')"
   ]
  },
  {
   "cell_type": "code",
   "execution_count": null,
   "metadata": {},
   "outputs": [],
   "source": []
  }
 ],
 "metadata": {
  "kernelspec": {
   "display_name": "Python 3",
   "language": "python",
   "name": "python3"
  },
  "language_info": {
   "codemirror_mode": {
    "name": "ipython",
    "version": 3
   },
   "file_extension": ".py",
   "mimetype": "text/x-python",
   "name": "python",
   "nbconvert_exporter": "python",
   "pygments_lexer": "ipython3",
   "version": "3.7.3"
  }
 },
 "nbformat": 4,
 "nbformat_minor": 2
}
